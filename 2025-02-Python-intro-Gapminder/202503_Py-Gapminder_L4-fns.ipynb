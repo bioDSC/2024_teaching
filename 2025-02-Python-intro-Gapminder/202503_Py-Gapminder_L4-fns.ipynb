{
 "cells": [
  {
   "cell_type": "markdown",
   "metadata": {},
   "source": [
    "## Presenter notes with Carpentries Python Gapminder training\n",
    "\n",
    "*Martijn Wehrens, m.wehrens@uva.nl, 2025-03-04*"
   ]
  },
  {
   "cell_type": "markdown",
   "metadata": {},
   "source": [
    "## Lesson 4, Built-in Functions and Help"
   ]
  },
  {
   "cell_type": "code",
   "execution_count": null,
   "metadata": {},
   "outputs": [],
   "source": [
    "# Comments\n",
    "\n",
    "# Not executed\n",
    "a = 1 # not executed"
   ]
  },
  {
   "cell_type": "code",
   "execution_count": null,
   "metadata": {},
   "outputs": [],
   "source": [
    "#### Closer look at functions\n",
    "\n",
    "# argument\n",
    "    # value passed into a function\n",
    "        # e.g. `len(x)`, takes 1 argument\n",
    "        # e.g. `int(x)`, `float(x)`, `float(x)` \n",
    "            # take one value and create a new value\n",
    "        # e.g. `print()` takes 0 to many arguments \n",
    "    # round brackets are obligatory\n",
    "        # signal something is a function"
   ]
  },
  {
   "cell_type": "code",
   "execution_count": null,
   "metadata": {},
   "outputs": [],
   "source": [
    "print('before')\n",
    "print()\n",
    "print('after')"
   ]
  },
  {
   "cell_type": "code",
   "execution_count": null,
   "metadata": {},
   "outputs": [],
   "source": [
    "# every function returns something\n",
    "    # can be `None`\n",
    "        # `None` is a special object for something with no value"
   ]
  },
  {
   "cell_type": "code",
   "execution_count": null,
   "metadata": {},
   "outputs": [],
   "source": [
    "result = print('example')\n",
    "print('result of print is', result)"
   ]
  },
  {
   "cell_type": "code",
   "execution_count": null,
   "metadata": {},
   "outputs": [],
   "source": [
    "# Built-in functions\n",
    "\n",
    "print(max(1,2,3))\n",
    "print(min(1,2,3))\n",
    "\n",
    "# Requirements to acceptable input\n",
    "    # max('a', 1) \n",
    "        # doesn't work\n",
    "    # cannot be empty also\n",
    "        # max()\n",
    "            # meaningless\n",
    "    "
   ]
  },
  {
   "cell_type": "code",
   "execution_count": null,
   "metadata": {},
   "outputs": [
    {
     "data": {
      "text/plain": [
       "3.7"
      ]
     },
     "execution_count": 2,
     "metadata": {},
     "output_type": "execute_result"
    }
   ],
   "source": [
    "# default arguments\n",
    "\n",
    "print(round(3.712))\n",
    "    # default is to round to 0 decimals\n",
    "    \n",
    "print(round(3.712, 1))\n",
    "    # optionally, # of decimal places\n",
    "    \n"
   ]
  },
  {
   "cell_type": "code",
   "execution_count": 3,
   "metadata": {},
   "outputs": [
    {
     "name": "stdout",
     "output_type": "stream",
     "text": [
      "12\n",
      "hELLO WORLD!\n",
      "12\n"
     ]
    }
   ],
   "source": [
    "# methods\n",
    "    # functions attached to objects --> called methods\n",
    "        # X.method(arg1, arg2)\n",
    "    # MW: an objects type determines which methods are available\n",
    "\n",
    "my_string = 'Hello world!'  # creation of a string object \n",
    "\n",
    "print(len(my_string))       # the len function takes a string as an argument and returns the length of the string\n",
    "\n",
    "print(my_string.swapcase()) # calling the swapcase method on the my_string object\n",
    "\n",
    "print(my_string.__len__())  # calling the internal __len__ method on the my_string object, used by len(my_string)"
   ]
  },
  {
   "cell_type": "code",
   "execution_count": null,
   "metadata": {},
   "outputs": [],
   "source": [
    "# stringing together multiple methods\n",
    "    # operate left-to-right\n",
    "\n",
    "print(my_string.isupper())          # Not all the letters are uppercase\n",
    "print(my_string.upper())            # This capitalizes all the letters\n",
    "\n",
    "print(my_string.upper().isupper())  # Now all the letters are uppercase"
   ]
  },
  {
   "cell_type": "code",
   "execution_count": null,
   "metadata": {},
   "outputs": [
    {
     "name": "stdout",
     "output_type": "stream",
     "text": [
      "Help on built-in function round in module builtins:\n",
      "\n",
      "round(number, ndigits=None)\n",
      "    Round a number to a given precision in decimal digits.\n",
      "\n",
      "    The return value is an integer if ndigits is omitted or None.  Otherwise\n",
      "    the return value has the same type as the number.  ndigits may be negative.\n",
      "\n"
     ]
    }
   ],
   "source": [
    "# function documentation\n",
    "    # built-in functions have online documentation\n",
    "\n",
    "help(round)\n",
    "\n",
    "# depending on editing software, more help functions are available\n",
    "    # very useful\n",
    "    # also google good alternative\n",
    "    # (also AI can present examples, but often help is primarily useful)"
   ]
  },
  {
   "cell_type": "code",
   "execution_count": null,
   "metadata": {},
   "outputs": [],
   "source": [
    "### Error messages\n",
    "\n",
    "# Syntax error when code not understood\n",
    "    # Won't run the program\n",
    "\n",
    "# Error messages useful to understand mistakes/issues in code\n",
    "\n",
    "# Show errors resulting from:\n",
    "\n",
    "# name = 'Feng  \n",
    "# age = = 53\n",
    "# print(\"hello world\"\n",
    "\n",
    "# Latter will print:\n",
    "\n",
    "#   Cell In[2], line 1\n",
    "#     print(\"hoi hoi\n",
    "#           ^\n",
    "# SyntaxError: unterminated string literal (detected at line 1)\n",
    "\n",
    "# Error message has useful information:\n",
    "    # where the issue occurred (in Cell 2 of script, at line 1)\n",
    "    # Will show code were error occured\n",
    "    # Will indicate what type of issue\n",
    "\n"
   ]
  },
  {
   "cell_type": "code",
   "execution_count": null,
   "metadata": {},
   "outputs": [
    {
     "ename": "NameError",
     "evalue": "name 'aege' is not defined",
     "output_type": "error",
     "traceback": [
      "\u001b[0;31m---------------------------------------------------------------------------\u001b[0m",
      "\u001b[0;31mNameError\u001b[0m                                 Traceback (most recent call last)",
      "Cell \u001b[0;32mIn[10], line 2\u001b[0m\n\u001b[1;32m      1\u001b[0m age \u001b[38;5;241m=\u001b[39m \u001b[38;5;241m53\u001b[39m\n\u001b[0;32m----> 2\u001b[0m remaining \u001b[38;5;241m=\u001b[39m \u001b[38;5;241m100\u001b[39m \u001b[38;5;241m-\u001b[39m \u001b[43maege\u001b[49m \u001b[38;5;66;03m# mis-spelled 'age'\u001b[39;00m\n",
      "\u001b[0;31mNameError\u001b[0m: name 'aege' is not defined"
     ]
    }
   ],
   "source": [
    "# Syntax can be correct, still issues\n",
    "    # \"runtime error\"\n",
    "    # can understand and (partially) execute code\n",
    "        # but goes wrong at some point\n",
    "\n",
    "age = 53\n",
    "remaining = 100 - aege # mis-spelled 'age'"
   ]
  },
  {
   "cell_type": "markdown",
   "metadata": {},
   "source": [
    "## Exercises\n",
    "\n",
    "#### Order\n",
    "\n",
    "- Explain in simple terms the order of operations in the following program: when does the addition happen, when does the subtraction happen, when is each function called, etc.\n",
    "- What is the final value of radiance?\n",
    "\n",
    "```Python\n",
    "radiance = 1.0\n",
    "radiance = max(2.1, 2.0 + min(radiance, 1.1 * radiance - 0.5))\n",
    "```\n",
    "\n",
    "#### Spot the difference\n",
    "\n",
    "Predict what each of the print statements in the program below will print.\n",
    "Does max(len(rich), poor) run or produce an error message? If it runs, does its result make any sense?\n",
    "\n",
    "```Python\n",
    "easy_string = \"abc\"\n",
    "print(max(easy_string))\n",
    "rich = \"gold\"\n",
    "poor = \"tin\"\n",
    "print(max(rich, poor))\n",
    "print(max(len(rich), len(poor)))\n",
    "```\n",
    "\n",
    "#### Why not?\n",
    "\n",
    "Why is it that max and min do not return None when they are called with no arguments?\n",
    "\n",
    "#### Last string character\n",
    "\n",
    "If Python starts counting from zero, and len returns the number of characters in a string, what index expression will get the last character in the string name? (Note: we will see a simpler way to do this in a later episode.)"
   ]
  },
  {
   "cell_type": "markdown",
   "metadata": {},
   "source": [
    "### Docs\n",
    "\n",
    "Visit the documentation to look up more about Python:\n",
    "\n",
    "- https://docs.python.org/3/\n",
    "\n",
    "Built-in functions page offers both detailed (currently unnecessary) and also very simple useful information:\n",
    "\n",
    "- https://docs.python.org/3/library/functions.html\n",
    "\n"
   ]
  },
  {
   "cell_type": "markdown",
   "metadata": {},
   "source": [
    "# Exercises for fast participants\n",
    "\n",
    "(non yet here)"
   ]
  },
  {
   "cell_type": "markdown",
   "metadata": {},
   "source": [
    "# Solution remarks\n",
    "\n",
    "##### Note about `max(str1, str2)` from ChatGPT\n",
    "\n",
    "The `max` function in Python, when applied to strings, compares them lexicographically (i.e., in dictionary order). Here's how it works:\n",
    "\n",
    "1. **Lexicographical Comparison**: The strings are compared character by character based on their Unicode values.\n",
    "2. **Character Comparison**: The comparison starts with the first character of each string. If the first characters are the same, it moves to the next character, and so on.\n",
    "\n",
    "In the case of `max(\"abc\", \"defgh\")`:\n",
    "- The first characters of the strings \"abc\" and \"defgh\" are 'a' and 'd', respectively.\n",
    "- The Unicode value of 'a' is 97, and the Unicode value of 'd' is 100.\n",
    "- Since 100 > 97, \"defgh\" is considered greater than \"abc\".\n",
    "\n",
    "Therefore, `max(\"abc\", \"defgh\")` returns \"defgh\".\n",
    "\n",
    "#### Why not?\n",
    "\n",
    "Given solution: \"max and min return TypeErrors in this case because the correct number of parameters was not supplied. If it just returned None, the error would be much harder to trace as it would likely be stored into a variable and used later in the program, only to likely throw a runtime error.\"\n",
    "\n",
    "#### Last char\n",
    "\n",
    "```Python\n",
    "name = martijn\n",
    "name[len(name)-1]\n",
    "```"
   ]
  },
  {
   "cell_type": "code",
   "execution_count": null,
   "metadata": {},
   "outputs": [],
   "source": []
  }
 ],
 "metadata": {
  "kernelspec": {
   "display_name": "2025_IMG",
   "language": "python",
   "name": "python3"
  },
  "language_info": {
   "codemirror_mode": {
    "name": "ipython",
    "version": 3
   },
   "file_extension": ".py",
   "mimetype": "text/x-python",
   "name": "python",
   "nbconvert_exporter": "python",
   "pygments_lexer": "ipython3",
   "version": "3.12.8"
  }
 },
 "nbformat": 4,
 "nbformat_minor": 2
}
