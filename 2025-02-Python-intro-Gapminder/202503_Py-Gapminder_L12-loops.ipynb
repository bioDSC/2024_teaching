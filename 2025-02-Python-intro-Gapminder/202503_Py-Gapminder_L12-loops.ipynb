{
 "cells": [
  {
   "cell_type": "markdown",
   "metadata": {},
   "source": [
    "## Presenter notes with Carpentries Python Gapminder training\n",
    "*Martijn Wehrens, m.wehrens@uva.nl, 2025-03-04*"
   ]
  },
  {
   "cell_type": "markdown",
   "metadata": {},
   "source": [
    "# Lesson 12, For Loops"
   ]
  },
  {
   "cell_type": "code",
   "execution_count": null,
   "metadata": {},
   "outputs": [
    {
     "name": "stdout",
     "output_type": "stream",
     "text": [
      "the value in element 1 is  1\n",
      "the value in element 2 is  2\n",
      "the value in element 3 is  3\n"
     ]
    }
   ],
   "source": [
    "# computer is there to automate things\n",
    "    # don't write new code for something already done\n",
    "\n",
    "# addition MW\n",
    "a_list = [1,2,3]\n",
    "print('the value in element 1 is ', a_list[0])\n",
    "print('the value in element 2 is ', a_list[1])\n",
    "print('the value in element 3 is ', a_list[2])\n",
    "\n",
    "\n",
    "# another edition MW\n",
    "plt.text(df_all.loc['United States','gdpPercap_2007'], df_all.loc['United States','lifeExp_2007'], 'United States')\n",
    "plt.text(df_all.loc['Netherlands','gdpPercap_2007'], df_all.loc['Netherlands','lifeExp_2007'], 'Netherlands')"
   ]
  },
  {
   "cell_type": "markdown",
   "metadata": {},
   "source": []
  }
 ],
 "metadata": {
  "kernelspec": {
   "display_name": "2025_IMG",
   "language": "python",
   "name": "python3"
  },
  "language_info": {
   "codemirror_mode": {
    "name": "ipython",
    "version": 3
   },
   "file_extension": ".py",
   "mimetype": "text/x-python",
   "name": "python",
   "nbconvert_exporter": "python",
   "pygments_lexer": "ipython3",
   "version": "3.12.8"
  }
 },
 "nbformat": 4,
 "nbformat_minor": 2
}
