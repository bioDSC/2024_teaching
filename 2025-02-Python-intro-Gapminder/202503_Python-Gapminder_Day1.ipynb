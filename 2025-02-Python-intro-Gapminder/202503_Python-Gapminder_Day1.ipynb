{
 "cells": [
  {
   "cell_type": "markdown",
   "metadata": {},
   "source": [
    "## Presenter notes with Carpentries Python Gapminder training\n",
    "*Martijn Wehrens, m.wehrens@uva.nl, 2025-03-04*\n",
    "\n",
    "These notes are intended to use as reference during the Carpentries Workshop for [Python using Gapminder](https://swcarpentry.github.io/python-novice-gapminder/), during which live coding is used to teach people Python.\n",
    "\n",
    "#### Installation notes to distribute among participants\n",
    "\n",
    "##### What's needed\n",
    "- Jupyter notebook (available online, see below).\n",
    "- Dataset (avialable online, see below).\n",
    "\n",
    "##### Details\n",
    "\n",
    "During this course, we'll be using a Jupyter notebook tool that's hosted online:\n",
    "- https://jupyter.org/try-jupyter/lab/ \n",
    "which is hosted by [Jupyter.org](https://jupyter.org/).\n",
    "\n",
    "A link to the Gapminder dataset is available on the Carpentries [summary and setup](https://swcarpentry.github.io/python-novice-gapminder/#getting-the-data) page, here's a direct link:\n",
    "- https://swcarpentry.github.io/python-novice-gapminder/files/python-novice-gapminder-data.zip\n",
    "\n",
    "Both of these can be installed during the workshop.\n",
    "\n",
    "We'll also highlight tools people can use during the workshop. \n",
    "\n",
    "##### Open considerations\n",
    "\n",
    "- Should we allot some time to help people install their own software? Or maybe just have people come by later? Think about this."
   ]
  },
  {
   "cell_type": "markdown",
   "metadata": {},
   "source": [
    "# Lesson 1: Running and quitting\n",
    "\n",
    "(Content to be discussed.)"
   ]
  },
  {
   "cell_type": "markdown",
   "metadata": {},
   "source": [
    "# Lesson 2: Variables and assignments"
   ]
  },
  {
   "cell_type": "markdown",
   "metadata": {},
   "source": [
    "### Variables\n",
    "- \"names for values\" / MW: a name in order to access data that's stored\n",
    "- rules for names:\n",
    "    - only letters, digits, underscore\n",
    "    - cannot start with digit \n",
    "        - starting w/ underscore also special\n",
    "    - case sensitive\n",
    "- use meaningful names\n"
   ]
  },
  {
   "cell_type": "code",
   "execution_count": 2,
   "metadata": {},
   "outputs": [],
   "source": [
    "age = 42 # the = sign is used to assign value to name on the left\n",
    "first_name = 'Ahmed'"
   ]
  },
  {
   "cell_type": "code",
   "execution_count": 3,
   "metadata": {},
   "outputs": [
    {
     "name": "stdout",
     "output_type": "stream",
     "text": [
      "Ahmed is 42 years old\n"
     ]
    }
   ],
   "source": [
    "\n",
    "# Print values:\n",
    "print(first_name, 'is', age, 'years old') \n",
    "    # Built-in \"function\" to print things as text\n",
    "    # Call function by using name\n",
    "    # Provide values within round brackets\n",
    "    # additional strings provided between quotes\n",
    "    # values passed = arguments\n",
    "\n",
    "# Also, \"print\" \n",
    "    # provides space\n",
    "    # newline at end"
   ]
  },
  {
   "cell_type": "code",
   "execution_count": 4,
   "metadata": {},
   "outputs": [
    {
     "ename": "NameError",
     "evalue": "name 'last_name' is not defined",
     "output_type": "error",
     "traceback": [
      "\u001b[0;31m---------------------------------------------------------------------------\u001b[0m",
      "\u001b[0;31mNameError\u001b[0m                                 Traceback (most recent call last)",
      "Cell \u001b[0;32mIn[4], line 5\u001b[0m\n\u001b[1;32m      1\u001b[0m \u001b[38;5;66;03m# Parameters must be defined before use\u001b[39;00m\n\u001b[1;32m      2\u001b[0m \n\u001b[1;32m      3\u001b[0m \u001b[38;5;66;03m# Check typos also\u001b[39;00m\n\u001b[0;32m----> 5\u001b[0m \u001b[38;5;28mprint\u001b[39m(\u001b[43mlast_name\u001b[49m)\n",
      "\u001b[0;31mNameError\u001b[0m: name 'last_name' is not defined"
     ]
    }
   ],
   "source": [
    "# Parameters must be defined before use\n",
    "\n",
    "# Check typos also\n",
    "\n",
    "print(last_name) # will throw error\n",
    "    # Check out the (last line) of error message"
   ]
  },
  {
   "cell_type": "markdown",
   "metadata": {},
   "source": [
    "#### Order of execution\n",
    "\n",
    "- Order of execution\n",
    "- Variables persist after execution\n",
    "\n",
    "Example below"
   ]
  },
  {
   "cell_type": "code",
   "execution_count": 6,
   "metadata": {},
   "outputs": [
    {
     "name": "stdout",
     "output_type": "stream",
     "text": [
      "1\n"
     ]
    }
   ],
   "source": [
    "print(myval) # won't work unless below executed\n",
    "\n",
    "# To reset:\n",
    "# Kernel -> Restart & Run All "
   ]
  },
  {
   "cell_type": "code",
   "execution_count": null,
   "metadata": {},
   "outputs": [],
   "source": [
    "myval = 1"
   ]
  },
  {
   "cell_type": "markdown",
   "metadata": {},
   "source": [
    "### Calculations"
   ]
  },
  {
   "cell_type": "code",
   "execution_count": null,
   "metadata": {},
   "outputs": [],
   "source": [
    "age = age + 3 # use variables in calculations, will use value\n",
    "\n",
    "print('Age in three years:', age)"
   ]
  },
  {
   "cell_type": "markdown",
   "metadata": {},
   "source": [
    "### Using indices\n",
    "\n",
    "- String is a series of symbols in specific order\n",
    "    - Each position <-> number\n",
    "        - called \"index\"\n",
    "    - Indices start at 0!!!!\n",
    "    - Use square brackets to access an element"
   ]
  },
  {
   "cell_type": "code",
   "execution_count": 7,
   "metadata": {},
   "outputs": [
    {
     "name": "stdout",
     "output_type": "stream",
     "text": [
      "h\n"
     ]
    }
   ],
   "source": [
    "atom_name = 'helium' \n",
    "print(atom_name[0])"
   ]
  },
  {
   "cell_type": "code",
   "execution_count": 9,
   "metadata": {},
   "outputs": [
    {
     "name": "stdout",
     "output_type": "stream",
     "text": [
      "sod\n"
     ]
    }
   ],
   "source": [
    "# Slices\n",
    "# - part of string = substring\n",
    "# - item in list = element\n",
    "# - slice = part of \"list-like thing\"\n",
    "# - [start:stop] \n",
    "#       - start = first thing (0 = 1st)\n",
    "#       - stop = right after last\n",
    "#          - stop-start = length substring\n",
    "# - slice doesn't edit original, but copy of selected part returned\n",
    "atom_name='sodium'\n",
    "print(atom_name[0:3])"
   ]
  },
  {
   "cell_type": "code",
   "execution_count": null,
   "metadata": {},
   "outputs": [],
   "source": [
    "length_word_helium = len('helium')\n",
    "print(length_word_helium)\n",
    "\n",
    "print(len('helium'))\n",
    "    # nested function\n",
    "    # similar math\n",
    "    # evaluated inside out"
   ]
  },
  {
   "cell_type": "markdown",
   "metadata": {},
   "source": [
    "### Remarks naming\n",
    "\n",
    "- Case-sensitive\n",
    "    - conventions about how to code\n",
    "        - use lower case names\n",
    "        \n",
    "- Use meaningful names\n",
    "    - python doesn't care\n",
    "    - but code readability very important   \n",
    "        - make other people understand\n",
    "        - other people = your future self!!!"
   ]
  },
  {
   "cell_type": "code",
   "execution_count": 10,
   "metadata": {},
   "outputs": [
    {
     "name": "stdout",
     "output_type": "stream",
     "text": [
      "Ahmed is 42 years old\n"
     ]
    }
   ],
   "source": [
    "flabadab = 42\n",
    "ewr_422_yY = 'Ahmed'\n",
    "print(ewr_422_yY, 'is', flabadab, 'years old')"
   ]
  },
  {
   "cell_type": "markdown",
   "metadata": {},
   "source": [
    "## Exercises"
   ]
  }
 ],
 "metadata": {
  "kernelspec": {
   "display_name": "2025_IMG",
   "language": "python",
   "name": "python3"
  },
  "language_info": {
   "codemirror_mode": {
    "name": "ipython",
    "version": 3
   },
   "file_extension": ".py",
   "mimetype": "text/x-python",
   "name": "python",
   "nbconvert_exporter": "python",
   "pygments_lexer": "ipython3",
   "version": "3.12.8"
  }
 },
 "nbformat": 4,
 "nbformat_minor": 2
}
