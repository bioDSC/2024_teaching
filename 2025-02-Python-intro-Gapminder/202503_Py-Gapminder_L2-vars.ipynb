{
 "cells": [
  {
   "cell_type": "markdown",
   "metadata": {},
   "source": [
    "## Presenter notes with Carpentries Python Gapminder training\n",
    "\n",
    "*Martijn Wehrens, m.wehrens@uva.nl, 2025-03-04*"
   ]
  },
  {
   "cell_type": "markdown",
   "metadata": {},
   "source": [
    "# Lesson 2: Variables and assignments"
   ]
  },
  {
   "cell_type": "code",
   "execution_count": null,
   "metadata": {},
   "outputs": [],
   "source": [
    "### Variables\n",
    "\n",
    "# \"names for values\" / MW: a name in order to access data that's stored\n",
    "# rules for names:\n",
    "      # only letters, digits, underscore\n",
    "      # cannot start with digit \n",
    "          # starting w/ underscore also special\n",
    "      # case sensitive\n",
    "# use meaningful names\n"
   ]
  },
  {
   "cell_type": "code",
   "execution_count": 2,
   "metadata": {},
   "outputs": [],
   "source": [
    "age = 42 # the = sign is used to assign value to name on the left\n",
    "first_name = 'Ahmed'"
   ]
  },
  {
   "cell_type": "code",
   "execution_count": 3,
   "metadata": {},
   "outputs": [
    {
     "name": "stdout",
     "output_type": "stream",
     "text": [
      "Ahmed is 42 years old\n"
     ]
    }
   ],
   "source": [
    "\n",
    "# Print values:\n",
    "print(first_name, 'is', age, 'years old') \n",
    "    # Built-in \"function\" to print things as text\n",
    "    # Call function by using name\n",
    "    # Provide values within round brackets\n",
    "    # additional strings provided between quotes\n",
    "    # values passed = arguments\n",
    "\n",
    "# Also, \"print\" \n",
    "    # provides space\n",
    "    # newline at end"
   ]
  },
  {
   "cell_type": "code",
   "execution_count": 4,
   "metadata": {},
   "outputs": [],
   "source": [
    "# Parameters must be defined before use\n",
    "\n",
    "# Check typos also\n",
    "\n",
    "# print(last_name) # THROWS ERROR\n",
    "    # Check out the (last line) of error message"
   ]
  },
  {
   "cell_type": "code",
   "execution_count": null,
   "metadata": {},
   "outputs": [],
   "source": [
    "#### Order of execution\n",
    "\n",
    "# Order of execution\n",
    "# Variables persist after execution\n",
    "\n",
    "# Example below"
   ]
  },
  {
   "cell_type": "code",
   "execution_count": null,
   "metadata": {},
   "outputs": [],
   "source": [
    "# order of evaluating \n",
    "    # cells\n",
    "    # lines\n",
    "\n",
    "# print(myval) # THROWS ERROR\n",
    "    # won't work unless below executed\n",
    "\n",
    "# To reset:\n",
    "# Kernel -> Restart & Run All "
   ]
  },
  {
   "cell_type": "code",
   "execution_count": null,
   "metadata": {},
   "outputs": [],
   "source": [
    "myval = 1"
   ]
  },
  {
   "cell_type": "code",
   "execution_count": null,
   "metadata": {},
   "outputs": [],
   "source": [
    "### Calculations"
   ]
  },
  {
   "cell_type": "code",
   "execution_count": null,
   "metadata": {},
   "outputs": [],
   "source": [
    "age = age + 3 # use variables in calculations, will use value\n",
    "\n",
    "print('Age in three years:', age)"
   ]
  },
  {
   "cell_type": "code",
   "execution_count": null,
   "metadata": {},
   "outputs": [],
   "source": [
    "### Using indices\n",
    "\n",
    "# String is a series of symbols in specific order\n",
    "    # Each position <-> number\n",
    "        # called \"index\"\n",
    "    # Indices start at 0!!!!\n",
    "    # Use square brackets to access an element"
   ]
  },
  {
   "cell_type": "code",
   "execution_count": 7,
   "metadata": {},
   "outputs": [
    {
     "name": "stdout",
     "output_type": "stream",
     "text": [
      "h\n"
     ]
    }
   ],
   "source": [
    "atom_name = 'helium' \n",
    "print(atom_name[0])"
   ]
  },
  {
   "cell_type": "code",
   "execution_count": 9,
   "metadata": {},
   "outputs": [
    {
     "name": "stdout",
     "output_type": "stream",
     "text": [
      "sod\n"
     ]
    }
   ],
   "source": [
    "# Slices\n",
    "# - part of string = substring\n",
    "# - item in list = element\n",
    "# - slice = part of \"list-like thing\"\n",
    "# - [start:stop] \n",
    "#       - start = first thing (0 = 1st)\n",
    "#       - stop = right after last\n",
    "#          - stop-start = length substring\n",
    "# - slice doesn't edit original, but copy of selected part returned\n",
    "atom_name='sodium'\n",
    "print(atom_name[0:3])"
   ]
  },
  {
   "cell_type": "code",
   "execution_count": null,
   "metadata": {},
   "outputs": [],
   "source": [
    "length_word_helium = len('helium')\n",
    "print(length_word_helium)\n",
    "\n",
    "print(len('helium'))\n",
    "    # nested function\n",
    "    # similar math\n",
    "    # evaluated inside out"
   ]
  },
  {
   "cell_type": "code",
   "execution_count": null,
   "metadata": {},
   "outputs": [],
   "source": [
    "### Remarks naming\n",
    "\n",
    "# Case-sensitive\n",
    "    # conventions about how to code\n",
    "        # use lower case names\n",
    "        \n",
    "# Use meaningful names\n",
    "    # python doesn't care\n",
    "    # but code readability very important   \n",
    "        # make other people understand\n",
    "        # other people = your future self!!!"
   ]
  },
  {
   "cell_type": "code",
   "execution_count": 10,
   "metadata": {},
   "outputs": [
    {
     "name": "stdout",
     "output_type": "stream",
     "text": [
      "Ahmed is 42 years old\n"
     ]
    }
   ],
   "source": [
    "flabadab = 42\n",
    "ewr_422_yY = 'Ahmed'\n",
    "print(ewr_422_yY, 'is', flabadab, 'years old')"
   ]
  },
  {
   "cell_type": "markdown",
   "metadata": {},
   "source": [
    "## Exercises\n",
    "\n",
    "#### 1. Order of things\n",
    "\n",
    "##### A\n",
    "\n",
    "Fill the table showing the values of the variables in this program after each statement is executed.\n",
    "\n",
    "```Python\n",
    "# Command  # Value of x   # Value of y   # Value of swap #\n",
    "x = 1.0    #              #              #               #\n",
    "y = 3.0    #              #              #               #\n",
    "swap = x   #              #              #               #\n",
    "x = y      #              #              #               #\n",
    "y = swap   #              #              #               #\n",
    "```\n",
    "\n",
    "##### B\n",
    "\n",
    "What is the final value of position in the program below? (Try to predict the value without running the program, then check your prediction.)\n",
    "\n",
    "```Python\n",
    "initial = 'left'\n",
    "position = initial\n",
    "initial = 'right'\n",
    "```\n",
    "\n",
    "#### \"Challenge\"\n",
    "\n",
    "If you assign a = 123, what happens if you try to get the second digit of a via a[1]?\n",
    "\n",
    "#### Naming\n",
    "\n",
    "Which is a better variable name, m, min, or minutes? Why? Hint: think about which code you would rather inherit from someone who is leaving the lab:\n",
    "\n",
    "```Python\n",
    "ts = m * 60 + s\n",
    "tot_sec = min * 60 + sec\n",
    "total_seconds = minutes * 60 + seconds\n",
    "```\n"
   ]
  },
  {
   "cell_type": "markdown",
   "metadata": {},
   "source": [
    "\n",
    "#### Slicing\n",
    "\n",
    "##### A\n",
    "\n",
    "What does the following program print?\n",
    "\n",
    "```\n",
    "atom_name = 'carbon'\n",
    "print('atom_name[1:3] is:', atom_name[1:3])\n",
    "```\n",
    "\n",
    "###### B\n",
    "\n",
    "Given the following string:\n",
    "```Python\n",
    "species_name = \"Acacia buxifolia\"\n",
    "```\n",
    "what would these expressions return?\n",
    "\n",
    "```Python\n",
    "species_name[2:8]\n",
    "species_name[11:] (without a value after the colon)\n",
    "species_name[:4] (without a value before the colon)\n",
    "species_name[:] (just a colon)\n",
    "species_name[11:-3]\n",
    "species_name[-5:-3]\n",
    "```\n",
    "\n",
    "What happens when you choose a stop value which is out of range? (i.e., try species_name[0:20] or species_name[:103])\n"
   ]
  },
  {
   "cell_type": "markdown",
   "metadata": {},
   "source": [
    "\n",
    "#### Additional exercises for fast participants (by bioDSC)\n",
    "\n",
    "What's happening here:\n",
    "\n",
    "```Python\n",
    "\n",
    "# use Google or chatGPT if you don't know the answers\n",
    "# if you're at the end, try to play around more\n",
    "\n",
    "greetings_strings = ['hello', 'bye', 'later']\n",
    "print(greetings_strings[0])\n",
    "print(greetings_strings[1][2])\n",
    "    # (list of lists)\n",
    "\n",
    "print([greetings_strings[idx] for idx in [0, 2]])\n",
    "print([greetings_strings[0][idx] for idx in [0, 2, 4]])\n",
    "print([greetings_strings[0][idx] for idx in range(0,4,2)])\n",
    "    # using a loop (will be covered later) / list comprehension\n",
    "\n",
    "square_values = [number**2 for number in range(10)]\n",
    "square_values_string = [str(number**2) for number in range(10)]\n",
    "print(square_values)\n",
    "print(square_values_string)\n",
    "    # types will be the topic of the next lesson\n",
    "\n",
    "species_name = \"Acacia buxifolia\"\n",
    "print(\"\".join([species_name[i] for i in range(10, 2, -1)]))\n",
    "    # convenient command when working with strings\n",
    "\n",
    "print(species_name.replace('Aca', 'Bole'))\n",
    "    # another convenient command\n",
    "\n",
    "# Exercise:\n",
    "list_of_species = ['','','','']\n",
    "list_of_species = ['Homo sapiens', 'Escherichia Coli', 'Pan troglodytes', 'Canis lupus', 'Felis catus']\n",
    "# Create a new lists, where you remove all letters 'e'\n",
    "```\n"
   ]
  }
 ],
 "metadata": {
  "kernelspec": {
   "display_name": "2025_IMG",
   "language": "python",
   "name": "python3"
  },
  "language_info": {
   "codemirror_mode": {
    "name": "ipython",
    "version": 3
   },
   "file_extension": ".py",
   "mimetype": "text/x-python",
   "name": "python",
   "nbconvert_exporter": "python",
   "pygments_lexer": "ipython3",
   "version": "3.12.8"
  }
 },
 "nbformat": 4,
 "nbformat_minor": 2
}
