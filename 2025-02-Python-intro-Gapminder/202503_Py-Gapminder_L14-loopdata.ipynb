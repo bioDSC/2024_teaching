{
 "cells": [
  {
   "cell_type": "markdown",
   "metadata": {},
   "source": [
    "## Presenter notes with Carpentries Python Gapminder training\n",
    "*Martijn Wehrens, m.wehrens@uva.nl, 2025-03-04*"
   ]
  },
  {
   "cell_type": "markdown",
   "metadata": {},
   "source": [
    "# Lesson 14, Looping Over Data Sets"
   ]
  },
  {
   "cell_type": "code",
   "execution_count": null,
   "metadata": {},
   "outputs": [],
   "source": [
    "# Looping over datafiles\n",
    "\n",
    "# filename is string\n",
    "    # lists can contain strings\n",
    "    \n",
    "import pandas as pd\n",
    "for filename in ['../data/gapminder_gdp_africa.csv', '../data/gapminder_gdp_asia.csv']:\n",
    "    data = pd.read_csv(filename, index_col='country')\n",
    "    print(filename, data.min())"
   ]
  },
  {
   "cell_type": "code",
   "execution_count": null,
   "metadata": {},
   "outputs": [
    {
     "name": "stdout",
     "output_type": "stream",
     "text": [
      "all csv files in data directory: ['/Users/m.wehrens/Data_UVA/2024_teaching/2025-03-gapminder/data/gapminder_gdp_americas.csv', '/Users/m.wehrens/Data_UVA/2024_teaching/2025-03-gapminder/data/gapminder_gdp_europe.csv', '/Users/m.wehrens/Data_UVA/2024_teaching/2025-03-gapminder/data/gapminder_all.csv', '/Users/m.wehrens/Data_UVA/2024_teaching/2025-03-gapminder/data/gapminder_gdp_oceania.csv', '/Users/m.wehrens/Data_UVA/2024_teaching/2025-03-gapminder/data/gapminder_gdp_africa.csv', '/Users/m.wehrens/Data_UVA/2024_teaching/2025-03-gapminder/data/gapminder_gdp_asia.csv']\n"
     ]
    }
   ],
   "source": [
    "# The glob.glob library \n",
    "    # \"search for files\"\n",
    "    # using pattern\n",
    "        # * meaning “match zero or more characters”\n",
    "        # ? meaning “match exactly one character”\n",
    "            # E.g., glob.glob('*.txt') --> all .txt files\n",
    "    # Result:\n",
    "        # list of character strings\n",
    "        # might be empty (if no files)\n",
    "\n",
    "MW_PATH = '/Users/m.wehrens/Data_UVA/2024_teaching/2025-03-gapminder/'\n",
    "\n",
    "import glob\n",
    "print('all csv files in data directory:', glob.glob(MW_PATH+'data/*.csv')) # don't forget ../\n",
    "print('all PDB files:', glob.glob(MW_PATH+'data/*.pdb')) # don't forget ../\n",
    "\n",
    "\n"
   ]
  },
  {
   "cell_type": "code",
   "execution_count": 3,
   "metadata": {},
   "outputs": [
    {
     "name": "stdout",
     "output_type": "stream",
     "text": [
      "/Users/m.wehrens/Data_UVA/2024_teaching/2025-03-gapminder/data/gapminder_gdp_americas.csv 1397.717137\n",
      "/Users/m.wehrens/Data_UVA/2024_teaching/2025-03-gapminder/data/gapminder_gdp_europe.csv 973.5331948\n",
      "/Users/m.wehrens/Data_UVA/2024_teaching/2025-03-gapminder/data/gapminder_all.csv 298.8462121\n",
      "/Users/m.wehrens/Data_UVA/2024_teaching/2025-03-gapminder/data/gapminder_gdp_oceania.csv 10039.59564\n",
      "/Users/m.wehrens/Data_UVA/2024_teaching/2025-03-gapminder/data/gapminder_gdp_africa.csv 298.8462121\n",
      "/Users/m.wehrens/Data_UVA/2024_teaching/2025-03-gapminder/data/gapminder_gdp_asia.csv 331.0\n"
     ]
    }
   ],
   "source": [
    "# combining two above concepts:\n",
    "import pandas as pd\n",
    "\n",
    "for filename in glob.glob(MW_PATH+'data/gapminder_*.csv'):\n",
    "    data = pd.read_csv(filename)\n",
    "    print(filename, data['gdpPercap_1952'].min())\n",
    "    \n"
   ]
  },
  {
   "cell_type": "markdown",
   "metadata": {},
   "source": [
    "# Exercises\n",
    "\n",
    "### Determining Matches\n",
    "\n",
    "Which of these files is not matched by the expression glob.glob('data/*as*.csv')?\n",
    "\n",
    "```\n",
    "data/gapminder_gdp_africa.csv\n",
    "data/gapminder_gdp_americas.csv\n",
    "data/gapminder_gdp_asia.csv\n",
    "```\n",
    "\n",
    "### Minimum File Size\n",
    "\n",
    "Modify this program so that it prints the number of records in the file that has the fewest records.\n",
    "\n",
    "```python\n",
    "import glob\n",
    "import pandas as pd\n",
    "fewest = ____\n",
    "for filename in glob.glob('data/*.csv'):\n",
    "    dataframe = pd.____(filename)\n",
    "    fewest = min(____, dataframe.shape[0])\n",
    "print('smallest file has', fewest, 'records')\n",
    "```\n",
    "\n",
    "Note that the DataFrame.shape() method returns a tuple with the number of rows and columns of the data frame.\n",
    "\n",
    "### Comparing Data\n",
    "\n",
    "Write a program that reads in the regional data sets and plots the average GDP per capita for each region over time in a single chart. \n",
    "\n",
    "Pandas will raise an error if it encounters non-numeric columns in a dataframe computation so you may need to either filter out those columns or tell pandas to ignore them."
   ]
  },
  {
   "cell_type": "markdown",
   "metadata": {},
   "source": [
    "# More content!"
   ]
  },
  {
   "cell_type": "code",
   "execution_count": null,
   "metadata": {},
   "outputs": [
    {
     "name": "stdout",
     "output_type": "stream",
     "text": [
      "data\n",
      "gapminder_gdp_africa\n",
      ".csv\n"
     ]
    }
   ],
   "source": [
    "# Convenient tool: 'pathlib'\n",
    "    # helps you do common things with files\n",
    "\n",
    "from pathlib import Path\n",
    "\n",
    "p = Path(\"data/gapminder_gdp_africa.csv\")\n",
    "print(p.parent)\n",
    "print(p.stem)\n",
    "print(p.suffix)\n",
    "\n",
    "# Addition MW:\n",
    "# Another convenient tool: os\n",
    "\n",
    "# List all files in a directory\n",
    "import os\n",
    "print(os.listdir('../data/'))\n",
    "\n",
    "# Create a directory (if it doesn't exist)\n",
    "os.makedirs('../data/subdir/', exist_ok=True)\n",
    "\n"
   ]
  },
  {
   "cell_type": "markdown",
   "metadata": {},
   "source": [
    "# For fast participants\n",
    "\n",
    "Non yet. Maybe make the last exercise (\"Comparing Data\") or the \"more content\" section optional."
   ]
  }
 ],
 "metadata": {
  "kernelspec": {
   "display_name": "2025_IMG",
   "language": "python",
   "name": "python3"
  },
  "language_info": {
   "codemirror_mode": {
    "name": "ipython",
    "version": 3
   },
   "file_extension": ".py",
   "mimetype": "text/x-python",
   "name": "python",
   "nbconvert_exporter": "python",
   "pygments_lexer": "ipython3",
   "version": "3.12.8"
  }
 },
 "nbformat": 4,
 "nbformat_minor": 2
}
