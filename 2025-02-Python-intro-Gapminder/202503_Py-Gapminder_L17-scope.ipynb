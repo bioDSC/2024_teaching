{
 "cells": [
  {
   "cell_type": "markdown",
   "metadata": {},
   "source": [
    "## Presenter notes with Carpentries Python Gapminder training\n",
    "*Martijn Wehrens, m.wehrens@uva.nl, 2025-03-04*"
   ]
  },
  {
   "cell_type": "markdown",
   "metadata": {},
   "source": [
    "# Lesson 17, Variable Scope"
   ]
  },
  {
   "cell_type": "code",
   "execution_count": null,
   "metadata": {},
   "outputs": [],
   "source": [
    "# scope\n",
    "    # part of code that can \"see\" it\n",
    "    \n",
    "# writing function, cannot choose \"unique new\" names\n",
    "    # parameters defined in function\n",
    "        # exist only there\n",
    "        # overrule outside variables\n",
    "        \n"
   ]
  },
  {
   "cell_type": "code",
   "execution_count": null,
   "metadata": {},
   "outputs": [
    {
     "name": "stdout",
     "output_type": "stream",
     "text": [
      "adjusted: 0.01238691049085659\n"
     ]
    },
    {
     "ename": "NameError",
     "evalue": "name 'temperature' is not defined",
     "output_type": "error",
     "traceback": [
      "\u001b[0;31m---------------------------------------------------------------------------\u001b[0m",
      "\u001b[0;31mNameError\u001b[0m                                 Traceback (most recent call last)",
      "Cell \u001b[0;32mIn[3], line 10\u001b[0m\n\u001b[1;32m      7\u001b[0m     \u001b[38;5;28;01mreturn\u001b[39;00m temperature\n\u001b[1;32m      9\u001b[0m \u001b[38;5;28mprint\u001b[39m(\u001b[38;5;124m'\u001b[39m\u001b[38;5;124madjusted:\u001b[39m\u001b[38;5;124m'\u001b[39m, adjust(\u001b[38;5;241m0.9\u001b[39m))\n\u001b[0;32m---> 10\u001b[0m \u001b[38;5;28mprint\u001b[39m(\u001b[38;5;124m'\u001b[39m\u001b[38;5;124mtemperature after call:\u001b[39m\u001b[38;5;124m'\u001b[39m, \u001b[43mtemperature\u001b[49m)\n\u001b[1;32m     12\u001b[0m \u001b[38;5;66;03m# pressure \"global variable\"\u001b[39;00m\n\u001b[1;32m     13\u001b[0m     \u001b[38;5;66;03m# Defined outside any particular function.\u001b[39;00m\n\u001b[1;32m     14\u001b[0m     \u001b[38;5;66;03m# Visible everywhere.\u001b[39;00m\n\u001b[0;32m   (...)\u001b[0m\n\u001b[1;32m     18\u001b[0m     \u001b[38;5;66;03m# Not visible elsewhere\u001b[39;00m\n\u001b[1;32m     19\u001b[0m     \u001b[38;5;66;03m# assigned when function is called\u001b[39;00m\n",
      "\u001b[0;31mNameError\u001b[0m: name 'temperature' is not defined"
     ]
    }
   ],
   "source": [
    "# global and local\n",
    "\n",
    "pressure = 103.9\n",
    "\n",
    "def adjust(t):\n",
    "    temperature = t * 1.43 / pressure\n",
    "    return temperature\n",
    "\n",
    "print('adjusted:', adjust(0.9))\n",
    "\n",
    "# CANNOT DO (show):\n",
    "# print('temperature after call:', temperature)\n",
    "\n",
    "# pressure \"global variable\"\n",
    "    # Defined outside any particular function.\n",
    "    # Visible everywhere.\n",
    "    \n",
    "# t and temperature \"local\"\n",
    "    # Defined in function.\n",
    "    # Not visible elsewhere\n",
    "    # assigned when function is called\n",
    "\n",
    "\n"
   ]
  },
  {
   "cell_type": "code",
   "execution_count": null,
   "metadata": {},
   "outputs": [],
   "source": []
  }
 ],
 "metadata": {
  "kernelspec": {
   "display_name": "2025_IMG",
   "language": "python",
   "name": "python3"
  },
  "language_info": {
   "codemirror_mode": {
    "name": "ipython",
    "version": 3
   },
   "file_extension": ".py",
   "mimetype": "text/x-python",
   "name": "python",
   "nbconvert_exporter": "python",
   "pygments_lexer": "ipython3",
   "version": "3.12.8"
  }
 },
 "nbformat": 4,
 "nbformat_minor": 2
}
