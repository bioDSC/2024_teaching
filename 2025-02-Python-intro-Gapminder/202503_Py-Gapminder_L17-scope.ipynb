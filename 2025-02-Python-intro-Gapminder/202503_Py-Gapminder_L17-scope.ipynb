{
 "cells": [
  {
   "cell_type": "markdown",
   "metadata": {},
   "source": [
    "## Presenter notes with Carpentries Python Gapminder training\n",
    "*Martijn Wehrens, m.wehrens@uva.nl, 2025-03-04*"
   ]
  },
  {
   "cell_type": "markdown",
   "metadata": {},
   "source": [
    "# Lesson 17, Variable Scope"
   ]
  },
  {
   "cell_type": "code",
   "execution_count": null,
   "metadata": {},
   "outputs": [],
   "source": [
    "# scope\n",
    "    # part of code that can \"see\" it\n",
    "    \n",
    "# writing function, cannot choose \"unique new\" names\n",
    "    # parameters defined in function\n",
    "        # exist only there\n",
    "        # overrule outside variables\n",
    "        \n"
   ]
  },
  {
   "cell_type": "code",
   "execution_count": 4,
   "metadata": {},
   "outputs": [
    {
     "name": "stdout",
     "output_type": "stream",
     "text": [
      "adjusted: 0.01238691049085659\n"
     ]
    }
   ],
   "source": [
    "# global and local\n",
    "\n",
    "pressure = 103.9\n",
    "\n",
    "def adjust(t):\n",
    "    temperature = t * 1.43 / pressure\n",
    "    return temperature\n",
    "\n",
    "print('adjusted:', adjust(0.9))\n",
    "\n",
    "# CANNOT DO (show):\n",
    "# print('temperature after call:', temperature)\n",
    "\n",
    "# pressure \"global variable\"\n",
    "    # Defined outside any particular function.\n",
    "    # Visible everywhere.\n",
    "    \n",
    "# t and temperature \"local\"\n",
    "    # Defined in function.\n",
    "    # Not visible elsewhere\n",
    "    # assigned when function is called\n",
    "\n",
    "\n"
   ]
  },
  {
   "cell_type": "markdown",
   "metadata": {},
   "source": [
    "# Exercises\n",
    "\n",
    "### Local and global variable use\n",
    "\n",
    "Trace the values of all variables in this program as it is executed. (Use ‘—’ as the value of variables before and after they exist.)\n",
    "\n",
    "```python\n",
    "limit = 100\n",
    "\n",
    "def clip(value):\n",
    "    return min(max(0.0, value), limit)\n",
    "\n",
    "value = -22.5\n",
    "print(clip(value))\n",
    "```\n",
    "\n",
    "### Reading Error Messages\n",
    "\n",
    "Read the traceback below, and identify the following:\n",
    "\n",
    "- How many levels does the traceback have?\n",
    "- What is the file name where the error occurred?\n",
    "- What is the function name where the error occurred?\n",
    "- On which line number in this function did the error occur?\n",
    "- What is the type of error?\n",
    "- What is the error message?\n",
    "\n",
    "ERROR:\n",
    "```\n",
    "---------------------------------------------------------------------------\n",
    "KeyError                                  Traceback (most recent call last)\n",
    "<ipython-input-2-e4c4cbafeeb5> in <module>()\n",
    "      1 import errors_02\n",
    "----> 2 errors_02.print_friday_message()\n",
    "\n",
    "/Users/ghopper/thesis/code/errors_02.py in print_friday_message()\n",
    "     13\n",
    "     14 def print_friday_message():\n",
    "---> 15     print_message(\"Friday\")\n",
    "\n",
    "/Users/ghopper/thesis/code/errors_02.py in print_message(day)\n",
    "      9         \"sunday\": \"Aw, the weekend is almost over.\"\n",
    "     10     }\n",
    "---> 11     print(messages[day])\n",
    "     12\n",
    "     13\n",
    "\n",
    "KeyError: 'Friday'\n",
    "```"
   ]
  },
  {
   "cell_type": "markdown",
   "metadata": {},
   "source": [
    "# Exercises for fast participants\n",
    "\n",
    "Non yet. Perhaps look at earlier additional exercises."
   ]
  }
 ],
 "metadata": {
  "kernelspec": {
   "display_name": "2025_IMG",
   "language": "python",
   "name": "python3"
  },
  "language_info": {
   "codemirror_mode": {
    "name": "ipython",
    "version": 3
   },
   "file_extension": ".py",
   "mimetype": "text/x-python",
   "name": "python",
   "nbconvert_exporter": "python",
   "pygments_lexer": "ipython3",
   "version": "3.12.8"
  }
 },
 "nbformat": 4,
 "nbformat_minor": 2
}
