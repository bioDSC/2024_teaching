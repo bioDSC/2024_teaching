{
 "cells": [
  {
   "cell_type": "markdown",
   "metadata": {},
   "source": [
    "## Presenter notes with Carpentries Python Gapminder training\n",
    "*Martijn Wehrens, m.wehrens@uva.nl, 2025-03-04*"
   ]
  },
  {
   "cell_type": "markdown",
   "metadata": {},
   "source": [
    "# Lesson 11, Lists"
   ]
  },
  {
   "cell_type": "code",
   "execution_count": 1,
   "metadata": {},
   "outputs": [
    {
     "name": "stdout",
     "output_type": "stream",
     "text": [
      "pressures: [0.273, 0.275, 0.277, 0.275, 0.276]\n",
      "length: 5\n"
     ]
    }
   ],
   "source": [
    "# why need lists?\n",
    "    # could type out param1=123, param2=432, .. and perform calculations\n",
    "    # obviously tedious\n",
    "    \n",
    "# list stores multiple values\n",
    "    # perform calculations on values together\n",
    "    \n",
    "    # contained by square brackets\n",
    "    # values separated by commas\n",
    "    \n",
    "    # len to count items\n",
    "    \n",
    "pressures = [0.273, 0.275, 0.277, 0.275, 0.276]\n",
    "print('pressures:', pressures)\n",
    "print('length:', len(pressures))"
   ]
  },
  {
   "cell_type": "code",
   "execution_count": 2,
   "metadata": {},
   "outputs": [
    {
     "name": "stdout",
     "output_type": "stream",
     "text": [
      "zeroth item of pressures: 0.273\n",
      "fourth item of pressures: 0.276\n",
      "pressures is now: [0.273, 0.275, 0.277, 0.275, 0.276]\n",
      "pressures is now: [0.265, 0.275, 0.277, 0.275, 0.276]\n"
     ]
    }
   ],
   "source": [
    "# use index to fetch item\n",
    "    # similar to string\n",
    "\n",
    "print('zeroth item of pressures:', pressures[0])\n",
    "print('fourth item of pressures:', pressures[4])\n",
    "\n",
    "# also new value assigned this way\n",
    "print('pressures is now:', pressures)\n",
    "pressures[0] = 0.265\n",
    "print('pressures is now:', pressures)"
   ]
  },
  {
   "cell_type": "code",
   "execution_count": null,
   "metadata": {},
   "outputs": [
    {
     "name": "stdout",
     "output_type": "stream",
     "text": [
      "primes is initially: [2, 3, 5]\n",
      "primes has become: [2, 3, 5, 7]\n"
     ]
    }
   ],
   "source": [
    "# .append extends a list\n",
    "primes = [2, 3, 5]\n",
    "print('primes is initially:', primes)\n",
    "primes.append(7)\n",
    "print('primes has become:', primes)\n",
    "\n",
    "# occurs in place!!\n"
   ]
  },
  {
   "cell_type": "code",
   "execution_count": null,
   "metadata": {},
   "outputs": [
    {
     "name": "stdout",
     "output_type": "stream",
     "text": [
      "primes is currently: [2, 3, 5, 7, 11, 13, 17, 19, [37, 41, 43, 47]]\n",
      "primes has now become: [2, 3, 5, 7, 11, 13, 17, 19, [37, 41, 43, 47], 11, 13, 17, 19]\n",
      "primes has finally become: [2, 3, 5, 7, 11, 13, 17, 19, [37, 41, 43, 47], 11, 13, 17, 19, [37, 41, 43, 47]]\n"
     ]
    }
   ],
   "source": [
    "# append is method of list\n",
    "    # again: function tied to object\n",
    "    # similar sub-structure as when using libraries\n",
    "    # help(list) \n",
    "        # gives more methods\n",
    "\n",
    "# help(list)\n",
    "\n",
    "# extend\n",
    "    # like append, but multiple items\n",
    "\n",
    "teen_primes = [11, 13, 17, 19]\n",
    "middle_aged_primes = [37, 41, 43, 47]\n",
    "print('primes is currently:', primes)\n",
    "primes.extend(teen_primes)\n",
    "print('primes has now become:', primes)\n",
    "primes.append(middle_aged_primes) \n",
    "    # ^ something weird here!! \n",
    "        # (illustrative purposes)\n",
    "print('primes has finally become:', primes)\n",
    "\n",
    "# as seen above, an entry in a list can be a list itself\n",
    "    # lists of lists are possible"
   ]
  },
  {
   "cell_type": "code",
   "execution_count": null,
   "metadata": {},
   "outputs": [],
   "source": [
    "# del removes item from list\n",
    "\n",
    "primes = [2, 3, 5, 7, 9]\n",
    "print('primes before removing last item:', primes)\n",
    "del primes[4]\n",
    "print('primes after removing last item:', primes)\n",
    "\n",
    "\n",
    "# an empty list is possible \n",
    "    # (and very often convenient!)\n",
    "        # e.g. starting point collecting values\n",
    "    \n",
    "empty_list = []"
   ]
  },
  {
   "cell_type": "code",
   "execution_count": 9,
   "metadata": {},
   "outputs": [
    {
     "name": "stdout",
     "output_type": "stream",
     "text": [
      "[1, 'Create lists.', 2, 'Extract items from lists.', 3, 'Modify lists.']\n"
     ]
    }
   ],
   "source": [
    "# lists can consist of multiple types\n",
    "\n",
    "goals = [1, 'Create lists.', 2, 'Extract items from lists.', 3, 'Modify lists.']\n",
    "print(goals)\n"
   ]
  },
  {
   "cell_type": "code",
   "execution_count": 11,
   "metadata": {},
   "outputs": [
    {
     "name": "stdout",
     "output_type": "stream",
     "text": [
      "zeroth character: c\n",
      "third character: b\n"
     ]
    }
   ],
   "source": [
    "# character strings can be indexed like lists\n",
    "\n",
    "element = 'carbon'\n",
    "print('zeroth character:', element[0])\n",
    "print('third character:', element[3])\n",
    "\n",
    "# however, assignment to element not possible:\n",
    "# element[0] = 'C' \n",
    "    # throws error!\n",
    "    \n",
    "# technical:\n",
    "    # Lists and character strings are both collections.\n"
   ]
  },
  {
   "cell_type": "code",
   "execution_count": 13,
   "metadata": {},
   "outputs": [],
   "source": [
    "# index beyond collection --> error\n",
    "\n",
    "# throws error:\n",
    "# print('99th element of element is:', element[99])"
   ]
  },
  {
   "cell_type": "markdown",
   "metadata": {},
   "source": [
    "# Exercises"
   ]
  },
  {
   "cell_type": "markdown",
   "metadata": {},
   "source": [
    "### Fill in the blanks\n",
    "\n",
    "Fill in the blanks so that the program below produces the output shown.\n",
    "\n",
    "```python\n",
    "values = ____\n",
    "values.____(1)\n",
    "values.____(3)\n",
    "values.____(5)\n",
    "print('first time:', values)\n",
    "values = values[____]\n",
    "print('second time:', values)\n",
    "```\n",
    "\n",
    "Output:\n",
    "```\n",
    "first time: [1, 3, 5]\n",
    "second time: [3, 5]\n",
    "```\n",
    "\n",
    "### How Large is a Slice?\n",
    "\n",
    "If start and stop are both non-negative integers, how long is the list values[start:stop]?\n",
    "\n",
    "### From Strings to Lists and Back\n",
    "\n",
    "Given this:\n",
    "\n",
    "```python\n",
    "print('string to list:', list('tin'))\n",
    "print('list to string:', ''.join(['g', 'o', 'l', 'd']))\n",
    "```\n",
    "\n",
    "OUTPUT:\n",
    "```\n",
    "string to list: ['t', 'i', 'n']\n",
    "list to string: gold\n",
    "```\n",
    "\n",
    "- What does list('some string') do?\n",
    "- What does '-'.join(['x', 'y', 'z']) generate?\n",
    "\n",
    "### Working With the End\n",
    "\n",
    "What does the following program print?\n",
    "\n",
    "```python\n",
    "element = 'helium'\n",
    "print(element[-1])\n",
    "```\n",
    "\n",
    "- How does Python interpret a negative index?\n",
    "- If a list or string has N elements, what is the most negative index that can safely be used with it, and what location does that index represent?\n",
    "- If values is a list, what does del values[-1] do?\n",
    "- How can you display all elements but the last one without changing values? (Hint: you will need to combine slicing and negative indexing.)\n",
    "\n",
    "### Stepping Through a List\n",
    "\n",
    "What does the following program print?\n",
    "\n",
    "```python\n",
    "element = 'fluorine'\n",
    "print(element[::2])\n",
    "print(element[::-1])\n",
    "```\n",
    "\n",
    "- If we write a slice as low:high:stride, what does stride do?\n",
    "- What expression would select all of the even-numbered items from a collection?\n",
    "\n",
    "### Slice Bounds\n",
    "\n",
    "What does the following program print?\n",
    "\n",
    "```python\n",
    "element = 'lithium'\n",
    "print(element[0:20])\n",
    "print(element[-1:3])\n",
    "```\n",
    "\n",
    "### Sort and Sorted\n",
    "\n",
    "What do these two programs print? In simple terms, explain the difference between sorted(letters) and letters.sort().\n",
    "\n",
    "```python\n",
    "# Program A\n",
    "letters = list('gold')\n",
    "result = sorted(letters)\n",
    "print('letters is', letters, 'and result is', result)\n",
    "```\n",
    "\n",
    "```python\n",
    "# Program B\n",
    "letters = list('gold')\n",
    "result = letters.sort()\n",
    "print('letters is', letters, 'and result is', result)\n",
    "```\n",
    "\n",
    "### Copying (or Not)\n",
    "What do these two programs print? In simple terms, explain the difference between new = old and new = old[:].\n",
    "\n",
    "```python\n",
    "# Program A\n",
    "old = list('gold')\n",
    "new = old      # simple assignment\n",
    "new[0] = 'D'\n",
    "print('new is', new, 'and old is', old)\n",
    "```\n",
    "\n",
    "```python\n",
    "# Program B\n",
    "old = list('gold')\n",
    "new = old[:]   # assigning a slice\n",
    "new[0] = 'D'\n",
    "print('new is', new, 'and old is', old)\n",
    "```"
   ]
  },
  {
   "cell_type": "markdown",
   "metadata": {},
   "source": [
    "# Extra exercises for fast participants\n",
    "\n",
    "### Go to lesson 3\n",
    "\n",
    "- Do the extra exercises of lesson 3 if you haven't already.\n",
    "\n",
    "### Negative slicing\n",
    "\n",
    "```python\n",
    "element = 'lithium'\n",
    "```\n",
    "\n",
    "What does `element[-7:3]` print and why?\n",
    "\n",
    "**Explanation:** https://www.geeksforgeeks.org/slicing-with-negative-numbers-in-python/\n",
    "\n",
    "### More list comprehensions and filtering\n",
    "\n",
    "- Edit the following code such that the list consists of values `2x+x^2-1` where x is the index of the list element.\n",
    "\n",
    "`[x for x in range(10)]`\n",
    "\n",
    "- Now from that list, select values that are > 10, by modifying the following code:\n",
    "\n",
    "`[x for x in your_list if ______]`\n",
    "\n",
    "- Convert your list to a np.array, and do the same in a more elegant way.\n",
    "\n",
    "- Given: `list_withtop = [1000+-10*(x-7)**2 for x in range(20)]`\n",
    "    - Find the position of the maximum value in this array.\n",
    "    - Edit the code above such that the maximum value shifts to an index of your choice.   \n",
    "        - Check whether you succeedded by finding the maximum value.\n",
    "    - Multiply your list with `-1`, and put the result in another list.\n",
    "        - Where are now the maximum and minimum values?\n",
    "        - Does this make sense?\n",
    "    - `list_line = [70*x-1000 for x in range(20)]`\n",
    "        - What's the biggest value, either negative or positive, in this list?\n",
    "        - And the index of that number?\n",
    "        - What's the standard deviation?\n",
    "        - Can you calculate the correlation between list_withtop and list_line?\n",
    "        - Can you make a scatter plot of  list_withtop versus list_line?\n",
    "\n",
    "\n",
    "\n",
    "\n",
    "\n"
   ]
  },
  {
   "cell_type": "markdown",
   "metadata": {},
   "source": [
    "# Points to make about solutions\n",
    "\n",
    "### How Large is a Slice?\n",
    "\n",
    "- if stop > len(list), return shorter list than expected\n",
    "\n",
    "### Sort and sorted\n",
    "\n",
    "- sort works in place. see \"correction\" to B below:\n",
    "\n",
    "```\n",
    "# Program C\n",
    "letters = list('gold')\n",
    "result = letters.copy() # copy is needed here!!\n",
    "    # don't go into details of copy(), but explain sometimes run into this\n",
    "    # if \"blabla = bla\", \"blabla\" and \"bla\" are now fully equivalent\n",
    "            # this is very confusing\n",
    "            # not the case for all objects\n",
    "            # be aware of this, might cause hard-to-trace unexpected behavior\n",
    "result.sort()\n",
    "print('letters is', letters, 'and result is', result)\n",
    "\n",
    "```\n",
    "\n",
    "### Copying (or Not)\n",
    "\n",
    "`new = old[:]` is equivalent to `new = old.copy()`."
   ]
  },
  {
   "cell_type": "markdown",
   "metadata": {},
   "source": [
    "# Selected solutions\n",
    "\n"
   ]
  },
  {
   "cell_type": "markdown",
   "metadata": {},
   "source": [
    "# Random code"
   ]
  },
  {
   "cell_type": "code",
   "execution_count": null,
   "metadata": {},
   "outputs": [
    {
     "data": {
      "text/plain": [
       "'a'"
      ]
     },
     "execution_count": 15,
     "metadata": {},
     "output_type": "execute_result"
    }
   ],
   "source": [
    "mylist=['a','b','c']\n",
    "mylist[-3]\n",
    "# mylist[-100] # throws error, not cyclical"
   ]
  },
  {
   "cell_type": "code",
   "execution_count": 18,
   "metadata": {},
   "outputs": [
    {
     "name": "stdout",
     "output_type": "stream",
     "text": [
      "letters is ['g', 'o', 'l', 'd'] and result is ['d', 'g', 'l', 'o']\n",
      "letters is ['d', 'g', 'l', 'o'] and result is None\n",
      "None\n",
      "None\n"
     ]
    }
   ],
   "source": [
    "# Program A\n",
    "letters = list('gold')\n",
    "result = sorted(letters)\n",
    "print('letters is', letters, 'and result is', result)\n",
    "\n",
    "# Program B\n",
    "letters = list('gold')\n",
    "result = letters.sort()\n",
    "print('letters is', letters, 'and result is', result)\n",
    "\n",
    "print(['a','b','c'].sort())\n",
    "print([1,2,3].sort())"
   ]
  },
  {
   "cell_type": "code",
   "execution_count": null,
   "metadata": {},
   "outputs": [],
   "source": []
  }
 ],
 "metadata": {
  "kernelspec": {
   "display_name": "2025_IMG",
   "language": "python",
   "name": "python3"
  },
  "language_info": {
   "codemirror_mode": {
    "name": "ipython",
    "version": 3
   },
   "file_extension": ".py",
   "mimetype": "text/x-python",
   "name": "python",
   "nbconvert_exporter": "python",
   "pygments_lexer": "ipython3",
   "version": "3.12.8"
  }
 },
 "nbformat": 4,
 "nbformat_minor": 2
}
