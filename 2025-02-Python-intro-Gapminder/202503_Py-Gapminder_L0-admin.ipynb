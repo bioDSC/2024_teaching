{
 "cells": [
  {
   "cell_type": "markdown",
   "metadata": {},
   "source": [
    "## Presenter notes with Carpentries Python Gapminder training\n",
    "*Martijn Wehrens, m.wehrens@uva.nl, 2025-03-04*\n",
    "\n",
    "These notes are intended to use as reference during the Carpentries Workshop for [Python using Gapminder](https://swcarpentry.github.io/python-novice-gapminder/), during which live coding is used to teach people Python.\n",
    "\n",
    "*Note to self: I exported this notebook to pdf in VS Code, using built-in option \"export\" after clicking three dots at top right corner of notebook.*\n",
    "\n",
    "#### Installation notes to distribute among participants\n",
    "\n",
    "##### What's needed\n",
    "- Jupyter notebook (available online, see below).\n",
    "- Dataset (avialable online, see below).\n",
    "\n",
    "##### Details\n",
    "\n",
    "During this course, we'll be using a Jupyter notebook tool that's hosted online:\n",
    "- https://jupyter.org/try-jupyter/lab/ \n",
    "which is hosted by [Jupyter.org](https://jupyter.org/).\n",
    "\n",
    "A link to the Gapminder dataset is available on the Carpentries [summary and setup](https://swcarpentry.github.io/python-novice-gapminder/#getting-the-data) page, here's a direct link:\n",
    "- https://swcarpentry.github.io/python-novice-gapminder/files/python-novice-gapminder-data.zip\n",
    "\n",
    "Both of these can be installed during the workshop.\n",
    "\n",
    "We'll also highlight tools people can use during the workshop. \n",
    "\n",
    "##### Open considerations\n",
    "\n",
    "- Should we allot some time to help people install their own software? Or maybe just have people come by later? Think about this."
   ]
  }
 ],
 "metadata": {
  "kernelspec": {
   "display_name": "2025_IMG",
   "language": "python",
   "name": "python3"
  },
  "language_info": {
   "codemirror_mode": {
    "name": "ipython",
    "version": 3
   },
   "file_extension": ".py",
   "mimetype": "text/x-python",
   "name": "python",
   "nbconvert_exporter": "python",
   "pygments_lexer": "ipython3",
   "version": "3.12.8"
  }
 },
 "nbformat": 4,
 "nbformat_minor": 2
}
