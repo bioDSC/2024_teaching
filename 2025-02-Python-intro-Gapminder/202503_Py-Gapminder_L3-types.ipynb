{
 "cells": [
  {
   "cell_type": "markdown",
   "metadata": {},
   "source": [
    "## Presenter notes with Carpentries Python Gapminder training\n",
    "\n",
    "*Martijn Wehrens, m.wehrens@uva.nl, 2025-03-04*"
   ]
  },
  {
   "cell_type": "code",
   "execution_count": null,
   "metadata": {},
   "outputs": [],
   "source": [
    "## Lesson 3, Data Types and Type Conversion\n",
    "\n",
    "# Every value has a type\n",
    "\n",
    "# Some important ones:\n",
    "\n",
    "# Integer (int)\n",
    "    # positive or negative whole numbers\n",
    "        # e.g.: 3, -512\n",
    "# Floating point number (float)\n",
    "    # numbers with decimals ('real numbers')\n",
    "        # e.g.: 3.14159 or -2.5\n",
    "# Character string (string, str)\n",
    "    # text\n",
    "    # with quotes, \", '\n",
    "        # consistent \" or '\n",
    "        # quotes generally not printed\n",
    "        "
   ]
  },
  {
   "cell_type": "code",
   "execution_count": 4,
   "metadata": {},
   "outputs": [
    {
     "name": "stdout",
     "output_type": "stream",
     "text": [
      "<class 'str'>\n",
      "<class 'int'>\n",
      "<class 'float'>\n",
      "<class 'str'>\n",
      "<class 'int'>\n"
     ]
    }
   ],
   "source": [
    "# type()\n",
    "    # gives variable type\n",
    "    \n",
    "print(type('hoi'))\n",
    "print(type(-52))\n",
    "print(type(52.0))\n",
    "\n",
    "fitness = 'average'\n",
    "print(type(fitness))\n",
    "some_number = 5\n",
    "print(type(some_number))"
   ]
  },
  {
   "cell_type": "code",
   "execution_count": 5,
   "metadata": {},
   "outputs": [
    {
     "name": "stdout",
     "output_type": "stream",
     "text": [
      "2\n"
     ]
    }
   ],
   "source": [
    "# Type determines what can be done with value\n",
    "\n",
    "print(5-3)\n"
   ]
  },
  {
   "cell_type": "code",
   "execution_count": null,
   "metadata": {},
   "outputs": [],
   "source": [
    "# print('hello' - 'h')\n",
    "\n",
    "    # error"
   ]
  },
  {
   "cell_type": "code",
   "execution_count": 7,
   "metadata": {},
   "outputs": [
    {
     "name": "stdout",
     "output_type": "stream",
     "text": [
      "Ahmed Walsh\n",
      "==========\n"
     ]
    }
   ],
   "source": [
    "# \"+\" and \"*\" used with strings\n",
    "\n",
    "full_name = 'Ahmed' + ' ' + 'Walsh'\n",
    "print(full_name)\n",
    "\n",
    "separator = '=' * 10\n",
    "print(separator)"
   ]
  },
  {
   "cell_type": "code",
   "execution_count": 10,
   "metadata": {},
   "outputs": [
    {
     "data": {
      "text/plain": [
       "5"
      ]
     },
     "execution_count": 10,
     "metadata": {},
     "output_type": "execute_result"
    }
   ],
   "source": [
    "len('hallo')\n",
    "# len(102) \n",
    "    # error\n",
    "    # this object doesn't have a length"
   ]
  },
  {
   "cell_type": "code",
   "execution_count": 12,
   "metadata": {},
   "outputs": [
    {
     "name": "stdout",
     "output_type": "stream",
     "text": [
      "3\n",
      "12\n"
     ]
    }
   ],
   "source": [
    "# Cannot work with two different types\n",
    "# Must convert\n",
    "\n",
    "# print(1+'2')\n",
    "    # error\n",
    "        # also ambiguous, is it 3 or 12?\n",
    "\n",
    "# correct are:\n",
    "print(1 + int('2'))\n",
    "print(str(1) + '2')"
   ]
  },
  {
   "cell_type": "code",
   "execution_count": 13,
   "metadata": {},
   "outputs": [
    {
     "name": "stdout",
     "output_type": "stream",
     "text": [
      "half is 0.5\n",
      "three squared is 9.0\n"
     ]
    }
   ],
   "source": [
    "# int and float can be mixed\n",
    "\n",
    "print('half is', 1 / 2.0)\n",
    "print('three squared is', 3.0 ** 2)\n",
    "    # things get auto-converted (no ambiguity)"
   ]
  },
  {
   "cell_type": "code",
   "execution_count": null,
   "metadata": {},
   "outputs": [
    {
     "name": "stdout",
     "output_type": "stream",
     "text": [
      "first is 2 and second is 5\n"
     ]
    }
   ],
   "source": [
    "# order of execution matters\n",
    "# top to bottom\n",
    "    # (unlike excel, where things sometimes update automatically)\n",
    "\n",
    "variable_one = 1\n",
    "variable_two = 5 * variable_one\n",
    "variable_one = 2\n",
    "print('first is', variable_one, 'and second is', variable_two)\n",
    "    # (variable_two isn't 10)\n",
    "  "
   ]
  },
  {
   "cell_type": "code",
   "execution_count": null,
   "metadata": {},
   "outputs": [],
   "source": [
    "#### Detailed what happened:\n",
    "\n",
    "# The computer \n",
    "    # reads the value of variable_one when doing the multiplication, \n",
    "    # creates a new value, \n",
    "    # and assigns it to variable_two.\n",
    "# Afterwards, \n",
    "    # the value of variable_two is set to the new value \n",
    "    # not dependent on variable_one \n",
    "        # so its value does not automatically change when variable_one changes."
   ]
  },
  {
   "cell_type": "markdown",
   "metadata": {},
   "source": [
    "## Exercises\n",
    "\n",
    "### Types\n",
    "\n",
    "#### A\n",
    "\n",
    "What type of value is 3.4? How can you find out?\n",
    "\n",
    "#### B\n",
    "\n",
    "What type of value is 3.25 + 4?\n",
    "\n",
    "#### C \n",
    "\n",
    "What type of value (integer, floating point number, or character string) would you use to represent each of the following? Try to come up with more than one good answer for each problem. For example, in # 1, when would counting days with a floating point variable make more sense than using an integer?\n",
    "\n",
    "- Number of days since the start of the year.\n",
    "- Time elapsed from the start of the year until now in days.\n",
    "- Serial number of a piece of lab equipment.\n",
    "- A lab specimen’s age\n",
    "- Current population of a city.\n",
    "- Average population of a city over time.\n",
    "\n",
    "#### D (added bioDSC)\n",
    "\n",
    "Why wouldn't you always use floats, and never use integers?\n"
   ]
  },
  {
   "cell_type": "markdown",
   "metadata": {},
   "source": [
    "\n",
    "### Special maths\n",
    "\n",
    "In Python 3, the `//` operator performs integer (whole-number) floor division, the `/` operator performs floating-point division, and the `%` (or modulo) operator calculates and returns the remainder from integer division:\n",
    "\n",
    "```Python\n",
    "print('5 // 3:', 5 // 3)\n",
    "print('5 / 3:', 5 / 3)\n",
    "print('5 % 3:', 5 % 3)\n",
    "```\n",
    "\n",
    "```\n",
    "OUTPUT:\n",
    "5 // 3: 1\n",
    "5 / 3: 1.6666666666666667\n",
    "5 % 3: 2\n",
    "```\n",
    "\n",
    "If num_subjects is the number of subjects taking part in a study, and num_per_survey is the number that can take part in a single survey, write an expression that calculates the number of surveys needed to reach everyone once.\n",
    "\n"
   ]
  },
  {
   "cell_type": "markdown",
   "metadata": {},
   "source": [
    "### Strings to numbers\n",
    "\n",
    "Where reasonable, float() will convert a string to a floating point number, and int() will convert a floating point number to an integer:\n",
    "\n",
    "```Python\n",
    "print(\"string to float:\", float(\"3.4\"))\n",
    "print(\"float to int:\", int(3.4))\n",
    "```\n",
    "\n",
    "```\n",
    "OUTPUT:\n",
    "string to float: 3.4\n",
    "float to int: 3\n",
    "If the conversion doesn’t make sense, however, an error message will occur.\n",
    "```\n",
    "\n",
    "```Python\n",
    "print(\"string to float:\", float(\"Hello world!\"))\n",
    "```\n",
    "\n",
    "Given this information, what do you expect the following program to do?\n",
    "\n",
    "What does it actually do?\n",
    "\n",
    "Why do you think it does that?\n",
    "\n",
    "```Python\n",
    "print(\"fractional string to int:\", int(\"3.4\"))\n",
    "```\n",
    "\n",
    "Which of the following will return the floating point number 2.0? Note: there may be more than one right answer.\n",
    "\n",
    "```Python\n",
    "first = 1.0\n",
    "second = \"1\"\n",
    "third = \"1.1\"\n",
    "```\n",
    "\n",
    "```\n",
    "1. first + float(second)\n",
    "2. float(second) + float(third)\n",
    "3. first + int(third)\n",
    "4. first + int(float(third))\n",
    "5. int(first) + int(float(third))\n",
    "6. 2.0 * second\n",
    "```"
   ]
  },
  {
   "cell_type": "markdown",
   "metadata": {},
   "source": [
    "### Complex numbers (optional?)\n",
    "\n",
    "Python provides complex numbers, which are written as 1.0+2.0j. If val is a complex number, its real and imaginary parts can be accessed using dot notation as val.real and val.imag.\n",
    "\n",
    "```Python\n",
    "a_complex_number = 6 + 2j\n",
    "print(a_complex_number.real)\n",
    "print(a_complex_number.imag)\n",
    "```\n",
    "\n",
    "##### Questions:\n",
    "1. Why do you think Python uses j instead of i for the imaginary part?\n",
    "2. What do you expect 1 + 2j + 3 to produce?\n",
    "3. What do you expect 4j to be? What about 4 j or 4 + j?"
   ]
  },
  {
   "cell_type": "markdown",
   "metadata": {},
   "source": [
    "### Additional exercises for fast participants\n",
    "\n",
    "#### Dict\n",
    "\n",
    "Python has more types. A `dict` is sometimes very convenient, and is also used later with creating tables.\n",
    "\n",
    "```Python\n",
    "experimental_replicate_list = {'WT': 12, 'mut': 32, 'WT.cond1': 10, 'mut.cond1': 12}\n",
    "print(experimental_replicte_list)\n",
    "\n",
    "print(experimental_replicate_list['WT'])\n",
    "\n",
    "# Exercise:\n",
    "# Edit the following code such that we get replicate numbers for conditions involving WT\n",
    "my_keys = experimental_replicate_list.keys()\n",
    "print(my_keys)\n",
    "my_keys_of_interest = [the_key for the_key in my_keys if 'mut' in the_key] # edit this line\n",
    "print(my_keys_of_interest)\n",
    "print([experimental_replicate_list[sel_key] for sel_key in my_keys_of_interest])\n",
    "\n",
    "# The above code uses several lines, can you do this in one line?\n",
    "print(...) # edit this line\n",
    "```"
   ]
  },
  {
   "cell_type": "markdown",
   "metadata": {},
   "source": [
    "#### np.array\n",
    "\n",
    "Arrays can be a useful tool, but for example in image analysis, don't offer the full mathematical options one might like. `numpy` arrays introduce a new type of array, in which you can do more manipulations. See some examples below:\n",
    "\n",
    "```Python\n",
    "import numpy as np\n",
    "my_array = [1,2,3,5]\n",
    "my_array_np = np.array([1,2,3,5])\n",
    "\n",
    "# what's the difference here:\n",
    "# my_array+1 # commented because gives error, why?\n",
    "my_array_np+1\n",
    "\n",
    "# what's the difference here:\n",
    "my_array * 3\n",
    "my_array_np * 3\n",
    "\n",
    "# more:\n",
    "my_array + [1,2,3,4]\n",
    "my_array_np + np.array([1,2,3,4])\n",
    "np.sin(my_array_np)\n",
    "\n",
    "# numpy-specific things, what is happening?\n",
    "my_array_np[range(1,4,2)]\n",
    "my_array_np[my_array_np>1]\n",
    "```\n",
    "\n"
   ]
  }
 ],
 "metadata": {
  "kernelspec": {
   "display_name": "2025_IMG",
   "language": "python",
   "name": "python3"
  },
  "language_info": {
   "codemirror_mode": {
    "name": "ipython",
    "version": 3
   },
   "file_extension": ".py",
   "mimetype": "text/x-python",
   "name": "python",
   "nbconvert_exporter": "python",
   "pygments_lexer": "ipython3",
   "version": "3.12.8"
  }
 },
 "nbformat": 4,
 "nbformat_minor": 2
}
