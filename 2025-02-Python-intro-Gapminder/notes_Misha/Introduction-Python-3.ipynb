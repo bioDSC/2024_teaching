{
  "metadata": {
    "kernelspec": {
      "name": "python",
      "display_name": "Python (Pyodide)",
      "language": "python"
    },
    "language_info": {
      "codemirror_mode": {
        "name": "python",
        "version": 3
      },
      "file_extension": ".py",
      "mimetype": "text/x-python",
      "name": "python",
      "nbconvert_exporter": "python",
      "pygments_lexer": "ipython3",
      "version": "3.8"
    }
  },
  "nbformat_minor": 5,
  "nbformat": 4,
  "cells": [
    {
      "id": "bbe21798-62ef-4718-a28c-33a3695d50b7",
      "cell_type": "markdown",
      "source": "# Episode 1: Running Python notebooks",
      "metadata": {
        "tags": [],
        "editable": true,
        "slideshow": {
          "slide_type": ""
        }
      }
    },
    {
      "id": "80bdba26-d95a-4e2a-a1e8-9b7436cfe715",
      "cell_type": "markdown",
      "source": "* Why Jupyter notebooks\n\n  \n    * JupyterLab notebooks are a convenient way to practice working with Python in your browser\n    * To analyze your own data, you will probably want to get a local installation of Python and run scripts locally\n    * We will not cover this extensively in this course, maybe at the very end if we have time\n\n<br>\n\n* How to start your Jupyter notebook for today\n\n  \n    * Go to: https://jupyter.org/try-jupyter/lab/\n    * Click File, New, Notebook\n    * Select Python kernel\n    * Click to make a new cell\n    * Type code in your cell\n    * To run a cell, either click the arrow >, or hit Command/Control + Enter\n    * You can also make cells containing *markdown* code to write text around your code, for example to explain your reasoning and decisions\n\n<br>\n\n* Getting the data:\n\n    * Download the data from: https://swcarpentry.github.io/python-novice-gapminder/files/python-novice-gapminder-data.zip (link in hackmd)\n    * In JupyterLab, make a folder called 'data'\n    * Unzip the downloaded file and upload the contents to the data folder in JupyterLab",
      "metadata": {}
    },
    {
      "id": "2a712f05-e97d-4e61-8287-ba336711db2e",
      "cell_type": "markdown",
      "source": "# Episode 2: Variables and Assignment",
      "metadata": {}
    },
    {
      "id": "d864eea8-3ea2-4a1a-8ad6-c0eef904269c",
      "cell_type": "markdown",
      "source": "## Variables\n\n**Variables** are used to store values or data\n\nVariable names:\n\n* can only contain letters, digits, underscores\n* are case sensitive\n* should be **meaningful** so others (and yourself in 6 months!) understand it\n",
      "metadata": {}
    },
    {
      "id": "6993806c-e85d-48a0-9378-5d1d7cde3cde",
      "cell_type": "code",
      "source": "# Defining the age and name of subject\nage = 32\nname = 'misha'",
      "metadata": {
        "trusted": true
      },
      "outputs": [],
      "execution_count": 1
    },
    {
      "id": "75396205-d55a-4cee-8cb9-30ced5afb346",
      "cell_type": "markdown",
      "source": "## Use print to display values\n\n* Python built-in function to display values is print()\n* The values passed to a function are called arguments\n* if you want to print a value stored in a variable, write the variable name\n* If you want to print literal piece of text, use parentheses\n* You can't use variables that are not yet defined: use the error messages to find out what went wrong\n* Variables can be used for calculations",
      "metadata": {}
    },
    {
      "id": "a70e499c-b94f-4b4c-a29e-044e6a321d4c",
      "cell_type": "code",
      "source": "print(name, \"is\", age, \"years old\")",
      "metadata": {
        "trusted": true
      },
      "outputs": [
        {
          "name": "stdout",
          "output_type": "stream",
          "text": "misha is 32 years old\n"
        }
      ],
      "execution_count": 2
    },
    {
      "id": "c009f11c-2c9c-4c40-8c2b-f5116a837382",
      "cell_type": "code",
      "source": "flabadab = 32\newr_4834_y = 'misha'\n\nprint(flabadab, \"is\", ewr_4834_y, \"years old\")\n# see! I'm mixing up the two variables already!",
      "metadata": {
        "trusted": true
      },
      "outputs": [
        {
          "name": "stdout",
          "output_type": "stream",
          "text": "32 is misha years old\n"
        }
      ],
      "execution_count": 3
    },
    {
      "id": "b251aea8-0454-4f7a-8b73-314b8b077831",
      "cell_type": "code",
      "source": "print(last_name)",
      "metadata": {
        "trusted": true
      },
      "outputs": [
        {
          "ename": "<class 'NameError'>",
          "evalue": "name 'last_name' is not defined",
          "traceback": [
            "\u001b[0;31m---------------------------------------------------------------------------\u001b[0m",
            "\u001b[0;31mNameError\u001b[0m                                 Traceback (most recent call last)",
            "Cell \u001b[0;32mIn[4], line 1\u001b[0m\n\u001b[0;32m----> 1\u001b[0m \u001b[38;5;28mprint\u001b[39m(\u001b[43mlast_name\u001b[49m)\n",
            "\u001b[0;31mNameError\u001b[0m: name 'last_name' is not defined"
          ],
          "output_type": "error"
        }
      ],
      "execution_count": 4
    },
    {
      "id": "be54ccd4-e119-4e6b-949d-e6edec601a0f",
      "cell_type": "code",
      "source": "age = age + 3\nprint('Age is now', age)",
      "metadata": {
        "trusted": true
      },
      "outputs": [
        {
          "name": "stdout",
          "output_type": "stream",
          "text": "Age is now 35\n"
        }
      ],
      "execution_count": 5
    },
    {
      "id": "b56af83a-eaaa-46f8-86ef-c5079c82d7f8",
      "cell_type": "markdown",
      "source": "## Use index to get a part of a string\n\n* Each position in a string can be accessed via a number, starting at 0\n* Use the index with square brackets []\n* Use a *slice* to get a substring ",
      "metadata": {}
    },
    {
      "id": "f863051c-7df4-47b3-86fb-3d41b336a2d9",
      "cell_type": "code",
      "source": "atom_name = 'helium'\nprint(atom_name[0])",
      "metadata": {
        "trusted": true
      },
      "outputs": [
        {
          "name": "stdout",
          "output_type": "stream",
          "text": "h\n"
        }
      ],
      "execution_count": 6
    },
    {
      "id": "4f2ea13d-0371-4945-9254-8f41f9a03745",
      "cell_type": "code",
      "source": "print(atom_name[0:3])",
      "metadata": {
        "trusted": true
      },
      "outputs": [
        {
          "name": "stdout",
          "output_type": "stream",
          "text": "hel\n"
        }
      ],
      "execution_count": 7
    },
    {
      "id": "c615610f-91c5-4a97-9451-5a4b81cfadb9",
      "cell_type": "code",
      "source": "## More builtin functions: len()\nprint(len(atom_name))",
      "metadata": {
        "trusted": true
      },
      "outputs": [
        {
          "name": "stdout",
          "output_type": "stream",
          "text": "6\n"
        }
      ],
      "execution_count": 8
    },
    {
      "id": "f7d724b5-7925-43bd-b2c1-1d1fa6b5fa18",
      "cell_type": "markdown",
      "source": "## Go to exercises at: https://swcarpentry.github.io/python-novice-gapminder/02-variables.html",
      "metadata": {}
    },
    {
      "id": "a0743820-81d2-4e1d-8f71-49a7f393d7f5",
      "cell_type": "code",
      "source": "# Fill the table\n\n# Command  # Value of x   # Value of y   # Value of swap #\nx = 1.0    #    1          #      x        #         x      #\ny = 3.0    #    1          #      3        #         x      #\nswap = x   #    1          #      3        #         1      #\nx = y      #    3          #      3        #         1     #\ny = swap   #    3          #      1        #         1#",
      "metadata": {
        "trusted": true
      },
      "outputs": [],
      "execution_count": 23
    },
    {
      "id": "39a7b2a6-15a8-4902-b490-063812b7ed05",
      "cell_type": "code",
      "source": "# What is the final value of position in the program below? \n\ninitial = 'left'\nposition = initial\ninitial = 'right'\n\n# position == 'left' ",
      "metadata": {
        "trusted": true
      },
      "outputs": [],
      "execution_count": 24
    },
    {
      "id": "e859cdbd-2f5e-4cd4-95d0-01e75a7130d3",
      "cell_type": "code",
      "source": "# If you assign a = 123, what happens if you try to get the second digit of a via a[1]?\na = 123\nprint(a[2])",
      "metadata": {
        "trusted": true
      },
      "outputs": [
        {
          "ename": "<class 'TypeError'>",
          "evalue": "'int' object is not subscriptable",
          "traceback": [
            "\u001b[0;31m---------------------------------------------------------------------------\u001b[0m",
            "\u001b[0;31mTypeError\u001b[0m                                 Traceback (most recent call last)",
            "Cell \u001b[0;32mIn[25], line 3\u001b[0m\n\u001b[1;32m      1\u001b[0m \u001b[38;5;66;03m# If you assign a = 123, what happens if you try to get the second digit of a via a[1]?\u001b[39;00m\n\u001b[1;32m      2\u001b[0m a \u001b[38;5;241m=\u001b[39m \u001b[38;5;241m123\u001b[39m\n\u001b[0;32m----> 3\u001b[0m \u001b[38;5;28mprint\u001b[39m(\u001b[43ma\u001b[49m\u001b[43m[\u001b[49m\u001b[38;5;241;43m2\u001b[39;49m\u001b[43m]\u001b[49m)\n",
            "\u001b[0;31mTypeError\u001b[0m: 'int' object is not subscriptable"
          ],
          "output_type": "error"
        }
      ],
      "execution_count": 25
    },
    {
      "id": "d6b8bd5e-0068-4a3f-8d12-ea76a32ac90c",
      "cell_type": "code",
      "source": "# What does the following program print? \natom_name = 'carbon'\nprint('atom_name[1:3] is:', atom_name[1:3])",
      "metadata": {
        "trusted": true
      },
      "outputs": [
        {
          "name": "stdout",
          "output_type": "stream",
          "text": "atom_name[1:3] is: ar\n"
        }
      ],
      "execution_count": 26
    },
    {
      "id": "575aee92-eeb5-4c1d-a294-a3f168e67c1b",
      "cell_type": "code",
      "source": "species_name = \"Acacia buxifolia\"\n\nprint(species_name[2:8])\nprint(species_name[11:])\nprint(species_name[:4])\nprint(species_name[:])\nprint(species_name[:103])",
      "metadata": {
        "trusted": true
      },
      "outputs": [
        {
          "name": "stdout",
          "output_type": "stream",
          "text": "acia b\nfolia\nAcac\nAcacia buxifolia\nAcacia buxifolia\n"
        }
      ],
      "execution_count": 27
    },
    {
      "id": "8dc60500-253f-48d8-b996-4311c88205ba",
      "cell_type": "markdown",
      "source": "# Episode 3: Data Types and Conversion",
      "metadata": {}
    },
    {
      "id": "f669a38f-2185-42c3-886e-dbe1334e7180",
      "cell_type": "markdown",
      "source": "* Every value in a program has a specific 'type'\n* Some we have already seen, other we will discover later:\n    * integer (int), whole numbers like 1\n    * string (str), text like 'Misha'\n    * Floating point (float), numbers like 3.141579\n* Use the function type() to find out the type of some data\n* The type of data determines what you can do with it!\n",
      "metadata": {}
    },
    {
      "id": "e88d0935-574e-48a6-8c58-46932318c4f8",
      "cell_type": "code",
      "source": "print(type(52))\nname = 'misha'\nprint(type(name))",
      "metadata": {
        "trusted": true
      },
      "outputs": [
        {
          "name": "stdout",
          "output_type": "stream",
          "text": "<class 'int'>\n<class 'str'>\n"
        }
      ],
      "execution_count": 11
    },
    {
      "id": "d5de594e-95b5-426d-917e-8f8cedef60c0",
      "cell_type": "code",
      "source": "5-4",
      "metadata": {
        "trusted": true
      },
      "outputs": [
        {
          "execution_count": 12,
          "output_type": "execute_result",
          "data": {
            "text/plain": "1"
          },
          "metadata": {}
        }
      ],
      "execution_count": 12
    },
    {
      "id": "e3748d1d-8487-4c0b-9625-957abcc00165",
      "cell_type": "code",
      "source": "'hello' - 'h'",
      "metadata": {
        "trusted": true
      },
      "outputs": [
        {
          "ename": "<class 'TypeError'>",
          "evalue": "unsupported operand type(s) for -: 'str' and 'str'",
          "traceback": [
            "\u001b[0;31m---------------------------------------------------------------------------\u001b[0m",
            "\u001b[0;31mTypeError\u001b[0m                                 Traceback (most recent call last)",
            "Cell \u001b[0;32mIn[13], line 1\u001b[0m\n\u001b[0;32m----> 1\u001b[0m \u001b[38;5;124;43m'\u001b[39;49m\u001b[38;5;124;43mhello\u001b[39;49m\u001b[38;5;124;43m'\u001b[39;49m\u001b[43m \u001b[49m\u001b[38;5;241;43m-\u001b[39;49m\u001b[43m \u001b[49m\u001b[38;5;124;43m'\u001b[39;49m\u001b[38;5;124;43mh\u001b[39;49m\u001b[38;5;124;43m'\u001b[39;49m\n",
            "\u001b[0;31mTypeError\u001b[0m: unsupported operand type(s) for -: 'str' and 'str'"
          ],
          "output_type": "error"
        }
      ],
      "execution_count": 13
    },
    {
      "id": "eb59087e-2dc5-426d-aad8-0c451744455e",
      "cell_type": "code",
      "source": "full_name = 'Misha' + ' ' + 'Paauw'\nprint(full_name)",
      "metadata": {
        "trusted": true
      },
      "outputs": [
        {
          "name": "stdout",
          "output_type": "stream",
          "text": "Misha Paauw\n"
        }
      ],
      "execution_count": 14
    },
    {
      "id": "cbf25f20-9896-4503-9014-5f417f0a263e",
      "cell_type": "code",
      "source": "separator = '=' * 10\nprint(separator)",
      "metadata": {
        "trusted": true
      },
      "outputs": [
        {
          "name": "stdout",
          "output_type": "stream",
          "text": "==========\n"
        }
      ],
      "execution_count": 15
    },
    {
      "id": "50a672d2-5bd1-4c85-82e0-5120350fd6f4",
      "cell_type": "code",
      "source": "print(len(full_name))",
      "metadata": {
        "trusted": true
      },
      "outputs": [
        {
          "name": "stdout",
          "output_type": "stream",
          "text": "11\n"
        }
      ],
      "execution_count": 16
    },
    {
      "id": "03f68dfb-10b1-45dc-b220-e6a4c458c2c1",
      "cell_type": "code",
      "source": "print(len(age))",
      "metadata": {
        "trusted": true
      },
      "outputs": [
        {
          "ename": "<class 'TypeError'>",
          "evalue": "object of type 'int' has no len()",
          "traceback": [
            "\u001b[0;31m---------------------------------------------------------------------------\u001b[0m",
            "\u001b[0;31mTypeError\u001b[0m                                 Traceback (most recent call last)",
            "Cell \u001b[0;32mIn[17], line 1\u001b[0m\n\u001b[0;32m----> 1\u001b[0m \u001b[38;5;28mprint\u001b[39m(\u001b[38;5;28;43mlen\u001b[39;49m\u001b[43m(\u001b[49m\u001b[43mage\u001b[49m\u001b[43m)\u001b[49m)\n",
            "\u001b[0;31mTypeError\u001b[0m: object of type 'int' has no len()"
          ],
          "output_type": "error"
        }
      ],
      "execution_count": 17
    },
    {
      "id": "bdfbb3a7-b00c-4b9f-bef2-6ea1a9dba133",
      "cell_type": "code",
      "source": "print(1+'2')",
      "metadata": {
        "trusted": true
      },
      "outputs": [
        {
          "ename": "<class 'TypeError'>",
          "evalue": "unsupported operand type(s) for +: 'int' and 'str'",
          "traceback": [
            "\u001b[0;31m---------------------------------------------------------------------------\u001b[0m",
            "\u001b[0;31mTypeError\u001b[0m                                 Traceback (most recent call last)",
            "Cell \u001b[0;32mIn[18], line 1\u001b[0m\n\u001b[0;32m----> 1\u001b[0m \u001b[38;5;28mprint\u001b[39m(\u001b[38;5;241;43m1\u001b[39;49m\u001b[38;5;241;43m+\u001b[39;49m\u001b[38;5;124;43m'\u001b[39;49m\u001b[38;5;124;43m2\u001b[39;49m\u001b[38;5;124;43m'\u001b[39;49m)\n",
            "\u001b[0;31mTypeError\u001b[0m: unsupported operand type(s) for +: 'int' and 'str'"
          ],
          "output_type": "error"
        }
      ],
      "execution_count": 18
    },
    {
      "id": "7feaead3-5431-4614-8a4f-144fd768e26e",
      "cell_type": "code",
      "source": "print(1 + int('2'))",
      "metadata": {
        "trusted": true
      },
      "outputs": [
        {
          "name": "stdout",
          "output_type": "stream",
          "text": "3\n"
        }
      ],
      "execution_count": 19
    },
    {
      "id": "ea5a5727-b0ab-4c6a-b9e6-eebeae476ce4",
      "cell_type": "code",
      "source": "print(str(1) + '2')",
      "metadata": {
        "trusted": true
      },
      "outputs": [
        {
          "name": "stdout",
          "output_type": "stream",
          "text": "12\n"
        }
      ],
      "execution_count": 20
    },
    {
      "id": "126764b6-8948-49f2-aaf1-357ddae67b20",
      "cell_type": "code",
      "source": "# Variables only change values when they are assigned! (unlike spreadsheets)\nvariable_one = 1\nvariable_two = 5 * variable_one\nvariable_one = 2\nprint('first is', variable_one, 'and second is', variable_two)\n",
      "metadata": {
        "trusted": true
      },
      "outputs": [
        {
          "name": "stdout",
          "output_type": "stream",
          "text": "first is 2 and second is 5\n"
        }
      ],
      "execution_count": 23
    },
    {
      "id": "d3a58860-19fd-4c6b-8671-a1b41dbdb4ba",
      "cell_type": "markdown",
      "source": "## Go to exercises at: https://swcarpentry.github.io/python-novice-gapminder/03-types-conversion.html",
      "metadata": {}
    },
    {
      "id": "4d297eeb-e09f-412d-8574-0e5b3308febd",
      "cell_type": "code",
      "source": "# What type of value is 3.4? How can you find out?\nprint(type(3.4))\n\n# What type of value is 3.25 + 4?\nprint(type(3.25 + 3))",
      "metadata": {
        "trusted": true
      },
      "outputs": [
        {
          "name": "stdout",
          "output_type": "stream",
          "text": "<class 'float'>\n<class 'float'>\n"
        }
      ],
      "execution_count": 24
    },
    {
      "id": "d01efba6-9894-41e0-84d5-456bb4c4c2e3",
      "cell_type": "code",
      "source": "# Number of days since the start of the year. > int\n# Time elapsed from the start of the year until now in days. > float (or int if you would calculate in seconds)\n# Serial number of a piece of lab equipment. > character or int depends on format\n# A lab specimen’s age > can be many things. int (whole days), float (0.75 year) or character (date time string)\n# Current population of a city. > int (or a float if you think about 7.5 mil)\n# Average population of a city over time. > float",
      "metadata": {
        "trusted": true
      },
      "outputs": [],
      "execution_count": null
    },
    {
      "id": "91790a33-c1c7-48ad-a73a-0765d18a8755",
      "cell_type": "code",
      "source": "n_subjects = 600\nn_per_survey = 42\n\nn_surveys = n_subjects / n_per_survey\n\nprint(n_surveys)",
      "metadata": {
        "trusted": true
      },
      "outputs": [
        {
          "name": "stdout",
          "output_type": "stream",
          "text": "14.285714285714286\n"
        }
      ],
      "execution_count": 29
    },
    {
      "id": "bccd96b5-95a8-49cb-9405-85cfff95eb64",
      "cell_type": "code",
      "source": "int(\"Misha\")",
      "metadata": {
        "trusted": true
      },
      "outputs": [
        {
          "ename": "<class 'ValueError'>",
          "evalue": "invalid literal for int() with base 10: 'Misha'",
          "traceback": [
            "\u001b[0;31m---------------------------------------------------------------------------\u001b[0m",
            "\u001b[0;31mValueError\u001b[0m                                Traceback (most recent call last)",
            "Cell \u001b[0;32mIn[30], line 1\u001b[0m\n\u001b[0;32m----> 1\u001b[0m \u001b[38;5;28;43mint\u001b[39;49m\u001b[43m(\u001b[49m\u001b[38;5;124;43m\"\u001b[39;49m\u001b[38;5;124;43mMisha\u001b[39;49m\u001b[38;5;124;43m\"\u001b[39;49m\u001b[43m)\u001b[49m\n",
            "\u001b[0;31mValueError\u001b[0m: invalid literal for int() with base 10: 'Misha'"
          ],
          "output_type": "error"
        }
      ],
      "execution_count": 30
    },
    {
      "id": "fe8135df-3ab4-456c-be2a-04a64d11f77e",
      "cell_type": "code",
      "source": "# int(\"3.4\") # error\n\nint(float(\"3.4\"))",
      "metadata": {
        "trusted": true
      },
      "outputs": [
        {
          "execution_count": 34,
          "output_type": "execute_result",
          "data": {
            "text/plain": "3"
          },
          "metadata": {}
        }
      ],
      "execution_count": 34
    },
    {
      "id": "832eb556-8050-43cf-920f-e17abf25cd35",
      "cell_type": "code",
      "source": "# Which of the following will return the floating point number 2.0?\n\nfirst = 1.0\nsecond = \"1\"\nthird = \"1.1\"\n\nfirst + int(float(third))",
      "metadata": {
        "trusted": true
      },
      "outputs": [
        {
          "execution_count": 35,
          "output_type": "execute_result",
          "data": {
            "text/plain": "2.0"
          },
          "metadata": {}
        }
      ],
      "execution_count": 35
    },
    {
      "id": "afe8e09f-5382-4a3b-be18-459e623d1d00",
      "cell_type": "markdown",
      "source": "# Episode 4: Built-in functions and help",
      "metadata": {}
    },
    {
      "id": "b5045182-5a78-47a6-8890-2e9f6d6bf738",
      "cell_type": "markdown",
      "source": "**Functions**\n\n* May take zero or more arguments\n* An *argument* is a value passed into a function\n* e.g. len(\"Misha\") here len() is the function, and \"Misha\" is the argument\n* Functions always *return* something, e.g. the result of a calculation.\n* Functions like print() return 'None' but do work nonetheless!",
      "metadata": {}
    },
    {
      "id": "57d38096-ae7b-41c2-beae-bff0fa171db3",
      "cell_type": "code",
      "source": "# Use comments to add documentation to programs\n\n# print is a function to.... print things\nprint('before')  \nprint()           # always use parenthesis even when you dont have an argument\nprint('after')",
      "metadata": {
        "trusted": true
      },
      "outputs": [
        {
          "name": "stdout",
          "output_type": "stream",
          "text": "before\n\nafter\n"
        }
      ],
      "execution_count": 39
    },
    {
      "id": "9f2b8ac5-8f45-4440-8eda-f6f5f7b1af55",
      "cell_type": "code",
      "source": "# Functions always return something\n# for print, it returns 'None' because it already did its work\n\nresult = print('example')\nprint('result of print is', result)",
      "metadata": {
        "trusted": true
      },
      "outputs": [
        {
          "name": "stdout",
          "output_type": "stream",
          "text": "example\nresult of print is None\n"
        }
      ],
      "execution_count": 41
    },
    {
      "id": "da5f8b79-2be6-49ed-80a2-1084429796b6",
      "cell_type": "code",
      "source": "# use max() to find the largest among several values\n\nprint(max(1,2,3))",
      "metadata": {
        "trusted": true
      },
      "outputs": [
        {
          "name": "stdout",
          "output_type": "stream",
          "text": "3\n"
        }
      ],
      "execution_count": 42
    },
    {
      "id": "aa30a897-c72b-4983-9a5c-801d77aa95bf",
      "cell_type": "code",
      "source": "# Likewise, use min to find the lowest. Even characters have some order:\n\nprint(min('b','a','z','A'))",
      "metadata": {
        "trusted": true
      },
      "outputs": [
        {
          "name": "stdout",
          "output_type": "stream",
          "text": "A\n"
        }
      ],
      "execution_count": 43
    },
    {
      "id": "e43543a6-b232-41fa-8850-2783e8db660f",
      "cell_type": "markdown",
      "source": "**Arguments**\n\n* Some functions need certain (combinations of) arguments to work\n* Functions sometimes have default values for some arguments",
      "metadata": {}
    },
    {
      "id": "9838726f-e6b6-4eb4-bb45-80f2e10d7422",
      "cell_type": "code",
      "source": "print(min())\n",
      "metadata": {
        "trusted": true
      },
      "outputs": [
        {
          "ename": "<class 'TypeError'>",
          "evalue": "min expected at least 1 argument, got 0",
          "traceback": [
            "\u001b[0;31m---------------------------------------------------------------------------\u001b[0m",
            "\u001b[0;31mTypeError\u001b[0m                                 Traceback (most recent call last)",
            "Cell \u001b[0;32mIn[44], line 1\u001b[0m\n\u001b[0;32m----> 1\u001b[0m \u001b[38;5;28mprint\u001b[39m(\u001b[38;5;28;43mmin\u001b[39;49m\u001b[43m(\u001b[49m\u001b[43m)\u001b[49m)\n",
            "\u001b[0;31mTypeError\u001b[0m: min expected at least 1 argument, got 0"
          ],
          "output_type": "error"
        }
      ],
      "execution_count": 44
    },
    {
      "id": "acf95517-c532-41ef-ab2a-e59e18d4b867",
      "cell_type": "code",
      "source": "print(min('a', 4))",
      "metadata": {
        "trusted": true
      },
      "outputs": [
        {
          "ename": "<class 'TypeError'>",
          "evalue": "'<' not supported between instances of 'int' and 'str'",
          "traceback": [
            "\u001b[0;31m---------------------------------------------------------------------------\u001b[0m",
            "\u001b[0;31mTypeError\u001b[0m                                 Traceback (most recent call last)",
            "Cell \u001b[0;32mIn[45], line 1\u001b[0m\n\u001b[0;32m----> 1\u001b[0m \u001b[38;5;28mprint\u001b[39m(\u001b[38;5;28;43mmin\u001b[39;49m\u001b[43m(\u001b[49m\u001b[38;5;124;43m'\u001b[39;49m\u001b[38;5;124;43ma\u001b[39;49m\u001b[38;5;124;43m'\u001b[39;49m\u001b[43m,\u001b[49m\u001b[43m \u001b[49m\u001b[38;5;241;43m4\u001b[39;49m\u001b[43m)\u001b[49m)\n",
            "\u001b[0;31mTypeError\u001b[0m: '<' not supported between instances of 'int' and 'str'"
          ],
          "output_type": "error"
        }
      ],
      "execution_count": 45
    },
    {
      "id": "2671bdef-9b58-49ab-9ea2-8e89b68de652",
      "cell_type": "code",
      "source": "round(3.5435) # default is 0 decimal places",
      "metadata": {
        "trusted": true
      },
      "outputs": [
        {
          "execution_count": 46,
          "output_type": "execute_result",
          "data": {
            "text/plain": "4"
          },
          "metadata": {}
        }
      ],
      "execution_count": 46
    },
    {
      "id": "10af0a9c-30d8-4f2c-9ac7-4cf72f0d15de",
      "cell_type": "code",
      "source": "help(round)\n\nround(3.5435, 2)",
      "metadata": {
        "trusted": true
      },
      "outputs": [
        {
          "name": "stdout",
          "output_type": "stream",
          "text": "Help on built-in function round in module builtins:\n\nround(number, ndigits=None)\n    Round a number to a given precision in decimal digits.\n\n    The return value is an integer if ndigits is omitted or None.  Otherwise\n    the return value has the same type as the number.  ndigits may be negative.\n\n"
        },
        {
          "execution_count": 51,
          "output_type": "execute_result",
          "data": {
            "text/plain": "3.54"
          },
          "metadata": {}
        }
      ],
      "execution_count": 51
    },
    {
      "id": "bfdf374a-bab7-4e30-a23f-4591d268da2e",
      "cell_type": "markdown",
      "source": "**Methods**\n\n* Functions attached to object are called methods\n* Just like functions, methods have parentheses()\n* Find help for functions using the help() function, OR use google, stackoverflow, chatGPT",
      "metadata": {}
    },
    {
      "id": "498bb904-8121-478f-9737-9bc7219b4aaf",
      "cell_type": "code",
      "source": "my_string = 'Misha Paauw'\nprint(len(my_string))        # a function!\nprint(my_string.swapcase())  # a method!",
      "metadata": {
        "trusted": true
      },
      "outputs": [
        {
          "name": "stdout",
          "output_type": "stream",
          "text": "11\nmISHA pAAUW\n"
        }
      ],
      "execution_count": 54
    },
    {
      "id": "d525caf6-d20f-457f-ba29-802541764a59",
      "cell_type": "markdown",
      "source": "**Errors**\n\n* Syntax errors prevent to program from even running\n* Run time errors are detected only during running",
      "metadata": {}
    },
    {
      "id": "d73308ff-3ded-4429-94d3-0485312cd227",
      "cell_type": "code",
      "source": "name = 'Misha",
      "metadata": {
        "trusted": true
      },
      "outputs": [
        {
          "ename": "<class 'SyntaxError'>",
          "evalue": "unterminated string literal (detected at line 1) (<ipython-input-55-dae66164f4c7>, line 1)",
          "traceback": [
            "\u001b[0;36m  Cell \u001b[0;32mIn[55], line 1\u001b[0;36m\u001b[0m\n\u001b[0;31m    name = 'Misha\u001b[0m\n\u001b[0m           ^\u001b[0m\n\u001b[0;31mSyntaxError\u001b[0m\u001b[0;31m:\u001b[0m unterminated string literal (detected at line 1)\n"
          ],
          "output_type": "error"
        }
      ],
      "execution_count": 55
    },
    {
      "id": "be20eed8-4da2-46c5-85da-21c1c6a20076",
      "cell_type": "code",
      "source": "age = = 32",
      "metadata": {
        "trusted": true
      },
      "outputs": [
        {
          "ename": "<class 'SyntaxError'>",
          "evalue": "invalid syntax (<ipython-input-56-fd385240f2c1>, line 1)",
          "traceback": [
            "\u001b[0;36m  Cell \u001b[0;32mIn[56], line 1\u001b[0;36m\u001b[0m\n\u001b[0;31m    age = = 32\u001b[0m\n\u001b[0m          ^\u001b[0m\n\u001b[0;31mSyntaxError\u001b[0m\u001b[0;31m:\u001b[0m invalid syntax\n"
          ],
          "output_type": "error"
        }
      ],
      "execution_count": 56
    },
    {
      "id": "f3bdfacb-6c59-4353-93ac-25977a7346ae",
      "cell_type": "code",
      "source": "print(\"hello world\"",
      "metadata": {
        "trusted": true
      },
      "outputs": [
        {
          "ename": "<class 'SyntaxError'>",
          "evalue": "incomplete input (<ipython-input-57-fe69f65f3ba9>, line 1)",
          "traceback": [
            "\u001b[0;36m  Cell \u001b[0;32mIn[57], line 1\u001b[0;36m\u001b[0m\n\u001b[0;31m    print(\"hello world\"\u001b[0m\n\u001b[0m                       ^\u001b[0m\n\u001b[0;31mSyntaxError\u001b[0m\u001b[0;31m:\u001b[0m incomplete input\n"
          ],
          "output_type": "error"
        }
      ],
      "execution_count": 57
    },
    {
      "id": "ed4d8701-462f-4e4b-b125-ad695881814d",
      "cell_type": "code",
      "source": "age = 32\nremaining = 100 - aege",
      "metadata": {
        "trusted": true
      },
      "outputs": [
        {
          "ename": "<class 'NameError'>",
          "evalue": "name 'aege' is not defined",
          "traceback": [
            "\u001b[0;31m---------------------------------------------------------------------------\u001b[0m",
            "\u001b[0;31mNameError\u001b[0m                                 Traceback (most recent call last)",
            "Cell \u001b[0;32mIn[58], line 2\u001b[0m\n\u001b[1;32m      1\u001b[0m age \u001b[38;5;241m=\u001b[39m \u001b[38;5;241m32\u001b[39m\n\u001b[0;32m----> 2\u001b[0m remaining \u001b[38;5;241m=\u001b[39m \u001b[38;5;241m100\u001b[39m \u001b[38;5;241m-\u001b[39m \u001b[43maege\u001b[49m\n",
            "\u001b[0;31mNameError\u001b[0m: name 'aege' is not defined"
          ],
          "output_type": "error"
        }
      ],
      "execution_count": 58
    },
    {
      "id": "858787c2-b411-4162-a079-6c03045c7f90",
      "cell_type": "markdown",
      "source": "## Go to exercises at: https://swcarpentry.github.io/python-novice-gapminder/04-built-in.html",
      "metadata": {}
    },
    {
      "id": "753d5fb9-029b-4f9c-91d3-c9a9a4250a98",
      "cell_type": "code",
      "source": "# Explain in simple terms the order of operations in the following program\n\nradiance = 1.0\nradiance = max(2.1, 2.0 + min(radiance, 1.1 * radiance - 0.5))\nprint(radiance)",
      "metadata": {
        "trusted": true
      },
      "outputs": [
        {
          "name": "stdout",
          "output_type": "stream",
          "text": "2.6\n"
        }
      ],
      "execution_count": 59
    },
    {
      "id": "e354c56f-c7be-4bff-bd1c-ee04b5eeeba4",
      "cell_type": "code",
      "source": "easy_string = \"abc\"\nprint(max(easy_string))  # prints the max of abc, which is c\nrich = \"gold\"\npoor = \"tin\"\nprint(max(rich, poor)) # prints the max of rich and poor, which is based on the first letter\nprint(max(len(rich), len(poor))) # count the number of letters and report the maximum length",
      "metadata": {
        "trusted": true
      },
      "outputs": [
        {
          "name": "stdout",
          "output_type": "stream",
          "text": "c\ntin\n4\n"
        }
      ],
      "execution_count": 61
    },
    {
      "id": "09711a47-cc84-4ebe-b01b-ff84f4ca45c3",
      "cell_type": "code",
      "source": "max('gold','tin')",
      "metadata": {
        "trusted": true
      },
      "outputs": [
        {
          "execution_count": 62,
          "output_type": "execute_result",
          "data": {
            "text/plain": "'tin'"
          },
          "metadata": {}
        }
      ],
      "execution_count": 62
    },
    {
      "id": "09f4949d-e93c-48ea-a46d-19841f454a54",
      "cell_type": "code",
      "source": "# If Python starts counting from zero, and len returns the number of characters in a string,\n# what index expression will get the last character in the string name?\nname = \"misha\"\n\nname[len(name)-1]",
      "metadata": {
        "trusted": true
      },
      "outputs": [
        {
          "execution_count": 64,
          "output_type": "execute_result",
          "data": {
            "text/plain": "'a'"
          },
          "metadata": {}
        }
      ],
      "execution_count": 64
    },
    {
      "id": "5b665c1b-d678-4813-9d51-8b8888b991f8",
      "cell_type": "markdown",
      "source": "# Episode 5: Morning Coffee\n\nOver coffee, reflect on:\n\n* ....",
      "metadata": {}
    },
    {
      "id": "97705ee0-0ce1-444c-bb2b-acb1decbb318",
      "cell_type": "markdown",
      "source": "# Episode 6: Libraries\n\n**Libraries:**\n\n* Are collections of files and functions written be others\n* Many useful libraries available for biological research, e.g.\n    * Pandas, numpy: dataframe management\n    * matplotlib: plotting functions\n    * SciPy: general scientific programming\n    * OpenCV, PIL: image manipulation\n    * PyTorch: machine learning\n    * .... etc\n* At the start of a program, you should 'import' the library. You can make an alias to make it shorter\n* In the program you call functions from the library by using the '.' operator ('part of')\n* Alternatively, import specific functions from a library using 'from x import y'\n",
      "metadata": {}
    },
    {
      "id": "01560de6-6879-4e4a-9dbe-30e91fb68dd4",
      "cell_type": "code",
      "source": "import math\n\nprint('pi is equal to', math.pi)",
      "metadata": {
        "trusted": true
      },
      "outputs": [
        {
          "name": "stdout",
          "output_type": "stream",
          "text": "pi is equal to 3.141592653589793\n"
        }
      ],
      "execution_count": 65
    },
    {
      "id": "66a33968-6597-4587-9585-f1bd7729e544",
      "cell_type": "code",
      "source": "cos(math.pi)",
      "metadata": {
        "trusted": true
      },
      "outputs": [
        {
          "ename": "<class 'NameError'>",
          "evalue": "name 'cos' is not defined",
          "traceback": [
            "\u001b[0;31m---------------------------------------------------------------------------\u001b[0m",
            "\u001b[0;31mNameError\u001b[0m                                 Traceback (most recent call last)",
            "Cell \u001b[0;32mIn[66], line 1\u001b[0m\n\u001b[0;32m----> 1\u001b[0m \u001b[43mcos\u001b[49m(math\u001b[38;5;241m.\u001b[39mpi)\n",
            "\u001b[0;31mNameError\u001b[0m: name 'cos' is not defined"
          ],
          "output_type": "error"
        }
      ],
      "execution_count": 66
    },
    {
      "id": "40d575f4-9ef8-45e7-80b7-0434b122e074",
      "cell_type": "code",
      "source": "math.cos(math.pi)",
      "metadata": {
        "trusted": true
      },
      "outputs": [
        {
          "execution_count": 67,
          "output_type": "execute_result",
          "data": {
            "text/plain": "-1.0"
          },
          "metadata": {}
        }
      ],
      "execution_count": 67
    },
    {
      "id": "ce271459-ce36-4fc4-ae6f-4bcb3e4325ea",
      "cell_type": "code",
      "source": "import math as m\n\nm.cos(m.pi) # shorter! but becomes a bit less clear for sure",
      "metadata": {
        "trusted": true
      },
      "outputs": [
        {
          "execution_count": 68,
          "output_type": "execute_result",
          "data": {
            "text/plain": "-1.0"
          },
          "metadata": {}
        }
      ],
      "execution_count": 68
    },
    {
      "id": "f027aaf6-7b11-49a3-89e8-4bdcea8c6729",
      "cell_type": "code",
      "source": "from math import pi\n\npi",
      "metadata": {
        "trusted": true
      },
      "outputs": [
        {
          "execution_count": 69,
          "output_type": "execute_result",
          "data": {
            "text/plain": "3.141592653589793"
          },
          "metadata": {}
        }
      ],
      "execution_count": 69
    },
    {
      "id": "5abe3840-5d17-4652-9946-3156b2f653d9",
      "cell_type": "markdown",
      "source": "## Go to the exercises at: https://swcarpentry.github.io/python-novice-gapminder/06-libraries.html",
      "metadata": {}
    },
    {
      "id": "231844f6-7094-4646-b577-c49edc313a1f",
      "cell_type": "code",
      "source": "# What function from the math module can you use to calculate a square root without using sqrt?\n# help(math) .... see all contents of math library\nimport math\n\nx = 5\n\nprint(math.sqrt(x))\nprint(math.pow(x, 0.5)) # basic math knowledge which I didnt really remember\n\n# arguably, sqrt(x) is more readable than pow(x, 0.5)",
      "metadata": {
        "trusted": true
      },
      "outputs": [
        {
          "name": "stdout",
          "output_type": "stream",
          "text": "2.23606797749979\n2.23606797749979\n"
        }
      ],
      "execution_count": 72
    },
    {
      "id": "8fd55bcd-9fef-4be2-9719-13210b007aae",
      "cell_type": "code",
      "source": "# You want to select a random character from a string:\n\nimport random\n\nbases = 'ACTTGCTTGAC'\nrandom_index = random.randint(0, len(bases))\n\nprint(bases[random_index])\n\nprint(random.choice(bases)) # much simpler! but you have to know this exists",
      "metadata": {
        "trusted": true
      },
      "outputs": [
        {
          "name": "stdout",
          "output_type": "stream",
          "text": "T\nT\n"
        }
      ],
      "execution_count": 73
    },
    {
      "id": "33c66967-09a6-4f3b-97cb-ab464cb2d60d",
      "cell_type": "code",
      "source": "# rearrange\n\n# bases=\"ACTTGCTTGAC\"\n# import math\n# import random\n# ___ = random.randrange(n_bases)\n# ___ = len(bases)\n# print(\"random base \", bases[___], \"base index\", ___)\n\nimport random\n\nbases=\"ACTTGCTTGAC\"\n\nn_bases = len(bases)\nrandom_index = random.randrange(n_bases)\n\nprint(\"random base \", bases[random_index], \"base index\", random_index)\n",
      "metadata": {
        "trusted": true
      },
      "outputs": [
        {
          "name": "stdout",
          "output_type": "stream",
          "text": "random base  T base index 3\n"
        }
      ],
      "execution_count": 77
    },
    {
      "id": "65dd2e0b-21e9-4f6e-b960-e97c6e5baefb",
      "cell_type": "markdown",
      "source": "# Episode 7: Reading Tabular Data into DataFrames\n\n* We will use the Pandas library to do statistics on table data\n* Very similar to data frames in R (if you are familiar with that)\n* Pandas is often abbreviated as pd\n\n",
      "metadata": {}
    },
    {
      "id": "b160d539-31c3-4d00-b744-607516666844",
      "cell_type": "code",
      "source": "import pandas as pd\n\ndata_oceania = pd.read_csv('data/gapminder_gdp_oceania.csv')  # demonstrate file not found error with 'data/'\nprint(data_oceania)\na=1",
      "metadata": {
        "trusted": true
      },
      "outputs": [
        {
          "name": "stdout",
          "output_type": "stream",
          "text": "       country  gdpPercap_1952  gdpPercap_1957  gdpPercap_1962  \\\n0    Australia     10039.59564     10949.64959     12217.22686   \n1  New Zealand     10556.57566     12247.39532     13175.67800   \n\n   gdpPercap_1967  gdpPercap_1972  gdpPercap_1977  gdpPercap_1982  \\\n0     14526.12465     16788.62948     18334.19751     19477.00928   \n1     14463.91893     16046.03728     16233.71770     17632.41040   \n\n   gdpPercap_1987  gdpPercap_1992  gdpPercap_1997  gdpPercap_2002  \\\n0     21888.88903     23424.76683     26997.93657     30687.75473   \n1     19007.19129     18363.32494     21050.41377     23189.80135   \n\n   gdpPercap_2007  \n0     34435.36744  \n1     25185.00911  \n"
        }
      ],
      "execution_count": 78
    },
    {
      "id": "548221cb-decb-4c94-bacd-e99e646a8603",
      "cell_type": "code",
      "source": "data_oceania_country = pd.read_csv('data/gapminder_gdp_oceania.csv', index_col='country')\ndata_oceania_country",
      "metadata": {
        "trusted": true
      },
      "outputs": [
        {
          "execution_count": 79,
          "output_type": "execute_result",
          "data": {
            "text/plain": "             gdpPercap_1952  gdpPercap_1957  gdpPercap_1962  gdpPercap_1967  \\\ncountry                                                                       \nAustralia       10039.59564     10949.64959     12217.22686     14526.12465   \nNew Zealand     10556.57566     12247.39532     13175.67800     14463.91893   \n\n             gdpPercap_1972  gdpPercap_1977  gdpPercap_1982  gdpPercap_1987  \\\ncountry                                                                       \nAustralia       16788.62948     18334.19751     19477.00928     21888.88903   \nNew Zealand     16046.03728     16233.71770     17632.41040     19007.19129   \n\n             gdpPercap_1992  gdpPercap_1997  gdpPercap_2002  gdpPercap_2007  \ncountry                                                                      \nAustralia       23424.76683     26997.93657     30687.75473     34435.36744  \nNew Zealand     18363.32494     21050.41377     23189.80135     25185.00911  ",
            "text/html": "<div>\n<style scoped>\n    .dataframe tbody tr th:only-of-type {\n        vertical-align: middle;\n    }\n\n    .dataframe tbody tr th {\n        vertical-align: top;\n    }\n\n    .dataframe thead th {\n        text-align: right;\n    }\n</style>\n<table border=\"1\" class=\"dataframe\">\n  <thead>\n    <tr style=\"text-align: right;\">\n      <th></th>\n      <th>gdpPercap_1952</th>\n      <th>gdpPercap_1957</th>\n      <th>gdpPercap_1962</th>\n      <th>gdpPercap_1967</th>\n      <th>gdpPercap_1972</th>\n      <th>gdpPercap_1977</th>\n      <th>gdpPercap_1982</th>\n      <th>gdpPercap_1987</th>\n      <th>gdpPercap_1992</th>\n      <th>gdpPercap_1997</th>\n      <th>gdpPercap_2002</th>\n      <th>gdpPercap_2007</th>\n    </tr>\n    <tr>\n      <th>country</th>\n      <th></th>\n      <th></th>\n      <th></th>\n      <th></th>\n      <th></th>\n      <th></th>\n      <th></th>\n      <th></th>\n      <th></th>\n      <th></th>\n      <th></th>\n      <th></th>\n    </tr>\n  </thead>\n  <tbody>\n    <tr>\n      <th>Australia</th>\n      <td>10039.59564</td>\n      <td>10949.64959</td>\n      <td>12217.22686</td>\n      <td>14526.12465</td>\n      <td>16788.62948</td>\n      <td>18334.19751</td>\n      <td>19477.00928</td>\n      <td>21888.88903</td>\n      <td>23424.76683</td>\n      <td>26997.93657</td>\n      <td>30687.75473</td>\n      <td>34435.36744</td>\n    </tr>\n    <tr>\n      <th>New Zealand</th>\n      <td>10556.57566</td>\n      <td>12247.39532</td>\n      <td>13175.67800</td>\n      <td>14463.91893</td>\n      <td>16046.03728</td>\n      <td>16233.71770</td>\n      <td>17632.41040</td>\n      <td>19007.19129</td>\n      <td>18363.32494</td>\n      <td>21050.41377</td>\n      <td>23189.80135</td>\n      <td>25185.00911</td>\n    </tr>\n  </tbody>\n</table>\n</div>"
          },
          "metadata": {}
        }
      ],
      "execution_count": 79
    },
    {
      "id": "657c35cd-86ed-4d53-a1ed-e94dd2afc443",
      "cell_type": "code",
      "source": "data_oceania_country.info()",
      "metadata": {
        "trusted": true
      },
      "outputs": [
        {
          "name": "stdout",
          "output_type": "stream",
          "text": "<class 'pandas.core.frame.DataFrame'>\nIndex: 2 entries, Australia to New Zealand\nData columns (total 12 columns):\n #   Column          Non-Null Count  Dtype  \n---  ------          --------------  -----  \n 0   gdpPercap_1952  2 non-null      float64\n 1   gdpPercap_1957  2 non-null      float64\n 2   gdpPercap_1962  2 non-null      float64\n 3   gdpPercap_1967  2 non-null      float64\n 4   gdpPercap_1972  2 non-null      float64\n 5   gdpPercap_1977  2 non-null      float64\n 6   gdpPercap_1982  2 non-null      float64\n 7   gdpPercap_1987  2 non-null      float64\n 8   gdpPercap_1992  2 non-null      float64\n 9   gdpPercap_1997  2 non-null      float64\n 10  gdpPercap_2002  2 non-null      float64\n 11  gdpPercap_2007  2 non-null      float64\ndtypes: float64(12)\nmemory usage: 200.0+ bytes\n"
        }
      ],
      "execution_count": 80
    },
    {
      "id": "6cbac409-2058-48f4-b133-806fe31eb8be",
      "cell_type": "code",
      "source": "print(data_oceania_country.columns)",
      "metadata": {
        "trusted": true
      },
      "outputs": [
        {
          "name": "stdout",
          "output_type": "stream",
          "text": "Index(['gdpPercap_1952', 'gdpPercap_1957', 'gdpPercap_1962', 'gdpPercap_1967',\n       'gdpPercap_1972', 'gdpPercap_1977', 'gdpPercap_1982', 'gdpPercap_1987',\n       'gdpPercap_1992', 'gdpPercap_1997', 'gdpPercap_2002', 'gdpPercap_2007'],\n      dtype='object')\n"
        }
      ],
      "execution_count": 81
    },
    {
      "id": "a3b888ab-6e41-4b28-8720-f765f194381d",
      "cell_type": "code",
      "source": "data_oceania_country.T",
      "metadata": {
        "trusted": true
      },
      "outputs": [
        {
          "execution_count": 82,
          "output_type": "execute_result",
          "data": {
            "text/plain": "country           Australia  New Zealand\ngdpPercap_1952  10039.59564  10556.57566\ngdpPercap_1957  10949.64959  12247.39532\ngdpPercap_1962  12217.22686  13175.67800\ngdpPercap_1967  14526.12465  14463.91893\ngdpPercap_1972  16788.62948  16046.03728\ngdpPercap_1977  18334.19751  16233.71770\ngdpPercap_1982  19477.00928  17632.41040\ngdpPercap_1987  21888.88903  19007.19129\ngdpPercap_1992  23424.76683  18363.32494\ngdpPercap_1997  26997.93657  21050.41377\ngdpPercap_2002  30687.75473  23189.80135\ngdpPercap_2007  34435.36744  25185.00911",
            "text/html": "<div>\n<style scoped>\n    .dataframe tbody tr th:only-of-type {\n        vertical-align: middle;\n    }\n\n    .dataframe tbody tr th {\n        vertical-align: top;\n    }\n\n    .dataframe thead th {\n        text-align: right;\n    }\n</style>\n<table border=\"1\" class=\"dataframe\">\n  <thead>\n    <tr style=\"text-align: right;\">\n      <th>country</th>\n      <th>Australia</th>\n      <th>New Zealand</th>\n    </tr>\n  </thead>\n  <tbody>\n    <tr>\n      <th>gdpPercap_1952</th>\n      <td>10039.59564</td>\n      <td>10556.57566</td>\n    </tr>\n    <tr>\n      <th>gdpPercap_1957</th>\n      <td>10949.64959</td>\n      <td>12247.39532</td>\n    </tr>\n    <tr>\n      <th>gdpPercap_1962</th>\n      <td>12217.22686</td>\n      <td>13175.67800</td>\n    </tr>\n    <tr>\n      <th>gdpPercap_1967</th>\n      <td>14526.12465</td>\n      <td>14463.91893</td>\n    </tr>\n    <tr>\n      <th>gdpPercap_1972</th>\n      <td>16788.62948</td>\n      <td>16046.03728</td>\n    </tr>\n    <tr>\n      <th>gdpPercap_1977</th>\n      <td>18334.19751</td>\n      <td>16233.71770</td>\n    </tr>\n    <tr>\n      <th>gdpPercap_1982</th>\n      <td>19477.00928</td>\n      <td>17632.41040</td>\n    </tr>\n    <tr>\n      <th>gdpPercap_1987</th>\n      <td>21888.88903</td>\n      <td>19007.19129</td>\n    </tr>\n    <tr>\n      <th>gdpPercap_1992</th>\n      <td>23424.76683</td>\n      <td>18363.32494</td>\n    </tr>\n    <tr>\n      <th>gdpPercap_1997</th>\n      <td>26997.93657</td>\n      <td>21050.41377</td>\n    </tr>\n    <tr>\n      <th>gdpPercap_2002</th>\n      <td>30687.75473</td>\n      <td>23189.80135</td>\n    </tr>\n    <tr>\n      <th>gdpPercap_2007</th>\n      <td>34435.36744</td>\n      <td>25185.00911</td>\n    </tr>\n  </tbody>\n</table>\n</div>"
          },
          "metadata": {}
        }
      ],
      "execution_count": 82
    },
    {
      "id": "119362d5-f189-4fd6-9f11-858aca127a4d",
      "cell_type": "code",
      "source": "print(data_oceania_country.describe())\n",
      "metadata": {
        "trusted": true
      },
      "outputs": [
        {
          "name": "stdout",
          "output_type": "stream",
          "text": "       gdpPercap_1952  gdpPercap_1957  gdpPercap_1962  gdpPercap_1967  \\\ncount        2.000000        2.000000        2.000000        2.000000   \nmean     10298.085650    11598.522455    12696.452430    14495.021790   \nstd        365.560078      917.644806      677.727301       43.986086   \nmin      10039.595640    10949.649590    12217.226860    14463.918930   \n25%      10168.840645    11274.086022    12456.839645    14479.470360   \n50%      10298.085650    11598.522455    12696.452430    14495.021790   \n75%      10427.330655    11922.958888    12936.065215    14510.573220   \nmax      10556.575660    12247.395320    13175.678000    14526.124650   \n\n       gdpPercap_1972  gdpPercap_1977  gdpPercap_1982  gdpPercap_1987  \\\ncount         2.00000        2.000000        2.000000        2.000000   \nmean      16417.33338    17283.957605    18554.709840    20448.040160   \nstd         525.09198     1485.263517     1304.328377     2037.668013   \nmin       16046.03728    16233.717700    17632.410400    19007.191290   \n25%       16231.68533    16758.837652    18093.560120    19727.615725   \n50%       16417.33338    17283.957605    18554.709840    20448.040160   \n75%       16602.98143    17809.077558    19015.859560    21168.464595   \nmax       16788.62948    18334.197510    19477.009280    21888.889030   \n\n       gdpPercap_1992  gdpPercap_1997  gdpPercap_2002  gdpPercap_2007  \ncount        2.000000        2.000000        2.000000        2.000000  \nmean     20894.045885    24024.175170    26938.778040    29810.188275  \nstd       3578.979883     4205.533703     5301.853680     6540.991104  \nmin      18363.324940    21050.413770    23189.801350    25185.009110  \n25%      19628.685412    22537.294470    25064.289695    27497.598692  \n50%      20894.045885    24024.175170    26938.778040    29810.188275  \n75%      22159.406358    25511.055870    28813.266385    32122.777858  \nmax      23424.766830    26997.936570    30687.754730    34435.367440  \n"
        }
      ],
      "execution_count": 83
    },
    {
      "id": "dab56456-67e7-412c-aadd-106a3909d986",
      "cell_type": "markdown",
      "source": "## Go to exercises at https://swcarpentry.github.io/python-novice-gapminder/07-reading-tabular.html",
      "metadata": {}
    },
    {
      "id": "3fb489e0-f4a2-432f-bd13-7b66a9e8c565",
      "cell_type": "code",
      "source": "# Read the data in gapminder_gdp_americas.csv\n# into a variable called data_americas and display its summary statistics.\n\ndata_americas = pd.read_csv('data/gapminder_gdp_americas.csv', index_col='country')\ndata_americas.describe()",
      "metadata": {
        "trusted": true
      },
      "outputs": [
        {
          "execution_count": 84,
          "output_type": "execute_result",
          "data": {
            "text/plain": "       gdpPercap_1952  gdpPercap_1957  gdpPercap_1962  gdpPercap_1967  \\\ncount       25.000000       25.000000       25.000000       25.000000   \nmean      4079.062552     4616.043733     4901.541870     5668.253496   \nstd       3001.727522     3312.381083     3421.740569     4160.885560   \nmin       1397.717137     1544.402995     1662.137359     1452.057666   \n25%       2428.237769     2487.365989     2750.364446     3242.531147   \n50%       3048.302900     3780.546651     4086.114078     4643.393534   \n75%       3939.978789     4756.525781     5180.755910     5788.093330   \nmax      13990.482080    14847.127120    16173.145860    19530.365570   \n\n       gdpPercap_1972  gdpPercap_1977  gdpPercap_1982  gdpPercap_1987  \\\ncount       25.000000       25.000000       25.000000       25.000000   \nmean      6491.334139     7352.007126     7506.737088     7793.400261   \nstd       4754.404329     5355.602518     5530.490471     6665.039509   \nmin       1654.456946     1874.298931     2011.159549     1823.015995   \n25%       4031.408271     4756.763836     4258.503604     4140.442097   \n50%       5305.445256     6281.290855     6434.501797     6360.943444   \n75%       6809.406690     7674.929108     8997.897412     7807.095818   \nmax      21806.035940    24072.632130    25009.559140    29884.350410   \n\n       gdpPercap_1992  gdpPercap_1997  gdpPercap_2002  gdpPercap_2007  \ncount       25.000000       25.000000       25.000000       25.000000  \nmean      8044.934406     8889.300863     9287.677107    11003.031625  \nstd       7047.089191     7874.225145     8895.817785     9713.209302  \nmin       1456.309517     1341.726931     1270.364932     1201.637154  \n25%       4439.450840     4684.313807     4858.347495     5728.353514  \n50%       6618.743050     7113.692252     6994.774861     8948.102923  \n75%       8137.004775     9767.297530     8797.640716    11977.574960  \nmax      32003.932240    35767.433030    39097.099550    42951.653090  ",
            "text/html": "<div>\n<style scoped>\n    .dataframe tbody tr th:only-of-type {\n        vertical-align: middle;\n    }\n\n    .dataframe tbody tr th {\n        vertical-align: top;\n    }\n\n    .dataframe thead th {\n        text-align: right;\n    }\n</style>\n<table border=\"1\" class=\"dataframe\">\n  <thead>\n    <tr style=\"text-align: right;\">\n      <th></th>\n      <th>gdpPercap_1952</th>\n      <th>gdpPercap_1957</th>\n      <th>gdpPercap_1962</th>\n      <th>gdpPercap_1967</th>\n      <th>gdpPercap_1972</th>\n      <th>gdpPercap_1977</th>\n      <th>gdpPercap_1982</th>\n      <th>gdpPercap_1987</th>\n      <th>gdpPercap_1992</th>\n      <th>gdpPercap_1997</th>\n      <th>gdpPercap_2002</th>\n      <th>gdpPercap_2007</th>\n    </tr>\n  </thead>\n  <tbody>\n    <tr>\n      <th>count</th>\n      <td>25.000000</td>\n      <td>25.000000</td>\n      <td>25.000000</td>\n      <td>25.000000</td>\n      <td>25.000000</td>\n      <td>25.000000</td>\n      <td>25.000000</td>\n      <td>25.000000</td>\n      <td>25.000000</td>\n      <td>25.000000</td>\n      <td>25.000000</td>\n      <td>25.000000</td>\n    </tr>\n    <tr>\n      <th>mean</th>\n      <td>4079.062552</td>\n      <td>4616.043733</td>\n      <td>4901.541870</td>\n      <td>5668.253496</td>\n      <td>6491.334139</td>\n      <td>7352.007126</td>\n      <td>7506.737088</td>\n      <td>7793.400261</td>\n      <td>8044.934406</td>\n      <td>8889.300863</td>\n      <td>9287.677107</td>\n      <td>11003.031625</td>\n    </tr>\n    <tr>\n      <th>std</th>\n      <td>3001.727522</td>\n      <td>3312.381083</td>\n      <td>3421.740569</td>\n      <td>4160.885560</td>\n      <td>4754.404329</td>\n      <td>5355.602518</td>\n      <td>5530.490471</td>\n      <td>6665.039509</td>\n      <td>7047.089191</td>\n      <td>7874.225145</td>\n      <td>8895.817785</td>\n      <td>9713.209302</td>\n    </tr>\n    <tr>\n      <th>min</th>\n      <td>1397.717137</td>\n      <td>1544.402995</td>\n      <td>1662.137359</td>\n      <td>1452.057666</td>\n      <td>1654.456946</td>\n      <td>1874.298931</td>\n      <td>2011.159549</td>\n      <td>1823.015995</td>\n      <td>1456.309517</td>\n      <td>1341.726931</td>\n      <td>1270.364932</td>\n      <td>1201.637154</td>\n    </tr>\n    <tr>\n      <th>25%</th>\n      <td>2428.237769</td>\n      <td>2487.365989</td>\n      <td>2750.364446</td>\n      <td>3242.531147</td>\n      <td>4031.408271</td>\n      <td>4756.763836</td>\n      <td>4258.503604</td>\n      <td>4140.442097</td>\n      <td>4439.450840</td>\n      <td>4684.313807</td>\n      <td>4858.347495</td>\n      <td>5728.353514</td>\n    </tr>\n    <tr>\n      <th>50%</th>\n      <td>3048.302900</td>\n      <td>3780.546651</td>\n      <td>4086.114078</td>\n      <td>4643.393534</td>\n      <td>5305.445256</td>\n      <td>6281.290855</td>\n      <td>6434.501797</td>\n      <td>6360.943444</td>\n      <td>6618.743050</td>\n      <td>7113.692252</td>\n      <td>6994.774861</td>\n      <td>8948.102923</td>\n    </tr>\n    <tr>\n      <th>75%</th>\n      <td>3939.978789</td>\n      <td>4756.525781</td>\n      <td>5180.755910</td>\n      <td>5788.093330</td>\n      <td>6809.406690</td>\n      <td>7674.929108</td>\n      <td>8997.897412</td>\n      <td>7807.095818</td>\n      <td>8137.004775</td>\n      <td>9767.297530</td>\n      <td>8797.640716</td>\n      <td>11977.574960</td>\n    </tr>\n    <tr>\n      <th>max</th>\n      <td>13990.482080</td>\n      <td>14847.127120</td>\n      <td>16173.145860</td>\n      <td>19530.365570</td>\n      <td>21806.035940</td>\n      <td>24072.632130</td>\n      <td>25009.559140</td>\n      <td>29884.350410</td>\n      <td>32003.932240</td>\n      <td>35767.433030</td>\n      <td>39097.099550</td>\n      <td>42951.653090</td>\n    </tr>\n  </tbody>\n</table>\n</div>"
          },
          "metadata": {}
        }
      ],
      "execution_count": 84
    },
    {
      "id": "457c1864-0d35-4903-a0bc-6acd8c29dfeb",
      "cell_type": "code",
      "source": "%%capture\n\n# Display help information for the help method of a dataframe (quite entensive!)\n\nhelp(data_americas.head)",
      "metadata": {
        "trusted": true
      },
      "outputs": [],
      "execution_count": 85
    },
    {
      "id": "dcb304d9-f131-45b9-8291-58fc1ca80df9",
      "cell_type": "code",
      "source": "%%capture\n# Display the first three rows, last three rows, or last three coluns (using transpose twice!)\n\nprint(data_americas.head(n = 3))\nprint(data_americas.tail(n=3))\nprint(data_americas.T.tail(n=3).T)",
      "metadata": {
        "trusted": true
      },
      "outputs": [],
      "execution_count": 86
    },
    {
      "id": "1bd451c9-aa87-4735-9720-d649045f4f60",
      "cell_type": "code",
      "source": "# use ../ to go to up in the directory structure\ndata_microbes = pd.read_csv('../field_data/microbes.csv')\n\n# Because this file doesn't exist this results in a file not found error",
      "metadata": {
        "trusted": true
      },
      "outputs": [
        {
          "ename": "<class 'FileNotFoundError'>",
          "evalue": "[Errno 44] No such file or directory: '../field_data/microbes.csv'",
          "traceback": [
            "\u001b[0;31m---------------------------------------------------------------------------\u001b[0m",
            "\u001b[0;31mFileNotFoundError\u001b[0m                         Traceback (most recent call last)",
            "Cell \u001b[0;32mIn[87], line 2\u001b[0m\n\u001b[1;32m      1\u001b[0m \u001b[38;5;66;03m# use ../ to go to up in the directory structure\u001b[39;00m\n\u001b[0;32m----> 2\u001b[0m data_microbes \u001b[38;5;241m=\u001b[39m \u001b[43mpd\u001b[49m\u001b[38;5;241;43m.\u001b[39;49m\u001b[43mread_csv\u001b[49m\u001b[43m(\u001b[49m\u001b[38;5;124;43m'\u001b[39;49m\u001b[38;5;124;43m../field_data/microbes.csv\u001b[39;49m\u001b[38;5;124;43m'\u001b[39;49m\u001b[43m)\u001b[49m\n\u001b[1;32m      4\u001b[0m \u001b[38;5;66;03m# Because this file doesn't exist this results in a file not found error\u001b[39;00m\n",
            "File \u001b[0;32m/lib/python3.12/site-packages/pandas/io/parsers/readers.py:1026\u001b[0m, in \u001b[0;36mread_csv\u001b[0;34m(filepath_or_buffer, sep, delimiter, header, names, index_col, usecols, dtype, engine, converters, true_values, false_values, skipinitialspace, skiprows, skipfooter, nrows, na_values, keep_default_na, na_filter, verbose, skip_blank_lines, parse_dates, infer_datetime_format, keep_date_col, date_parser, date_format, dayfirst, cache_dates, iterator, chunksize, compression, thousands, decimal, lineterminator, quotechar, quoting, doublequote, escapechar, comment, encoding, encoding_errors, dialect, on_bad_lines, delim_whitespace, low_memory, memory_map, float_precision, storage_options, dtype_backend)\u001b[0m\n\u001b[1;32m   1013\u001b[0m kwds_defaults \u001b[38;5;241m=\u001b[39m _refine_defaults_read(\n\u001b[1;32m   1014\u001b[0m     dialect,\n\u001b[1;32m   1015\u001b[0m     delimiter,\n\u001b[0;32m   (...)\u001b[0m\n\u001b[1;32m   1022\u001b[0m     dtype_backend\u001b[38;5;241m=\u001b[39mdtype_backend,\n\u001b[1;32m   1023\u001b[0m )\n\u001b[1;32m   1024\u001b[0m kwds\u001b[38;5;241m.\u001b[39mupdate(kwds_defaults)\n\u001b[0;32m-> 1026\u001b[0m \u001b[38;5;28;01mreturn\u001b[39;00m \u001b[43m_read\u001b[49m\u001b[43m(\u001b[49m\u001b[43mfilepath_or_buffer\u001b[49m\u001b[43m,\u001b[49m\u001b[43m \u001b[49m\u001b[43mkwds\u001b[49m\u001b[43m)\u001b[49m\n",
            "File \u001b[0;32m/lib/python3.12/site-packages/pandas/io/parsers/readers.py:620\u001b[0m, in \u001b[0;36m_read\u001b[0;34m(filepath_or_buffer, kwds)\u001b[0m\n\u001b[1;32m    617\u001b[0m _validate_names(kwds\u001b[38;5;241m.\u001b[39mget(\u001b[38;5;124m\"\u001b[39m\u001b[38;5;124mnames\u001b[39m\u001b[38;5;124m\"\u001b[39m, \u001b[38;5;28;01mNone\u001b[39;00m))\n\u001b[1;32m    619\u001b[0m \u001b[38;5;66;03m# Create the parser.\u001b[39;00m\n\u001b[0;32m--> 620\u001b[0m parser \u001b[38;5;241m=\u001b[39m \u001b[43mTextFileReader\u001b[49m\u001b[43m(\u001b[49m\u001b[43mfilepath_or_buffer\u001b[49m\u001b[43m,\u001b[49m\u001b[43m \u001b[49m\u001b[38;5;241;43m*\u001b[39;49m\u001b[38;5;241;43m*\u001b[39;49m\u001b[43mkwds\u001b[49m\u001b[43m)\u001b[49m\n\u001b[1;32m    622\u001b[0m \u001b[38;5;28;01mif\u001b[39;00m chunksize \u001b[38;5;129;01mor\u001b[39;00m iterator:\n\u001b[1;32m    623\u001b[0m     \u001b[38;5;28;01mreturn\u001b[39;00m parser\n",
            "File \u001b[0;32m/lib/python3.12/site-packages/pandas/io/parsers/readers.py:1620\u001b[0m, in \u001b[0;36mTextFileReader.__init__\u001b[0;34m(self, f, engine, **kwds)\u001b[0m\n\u001b[1;32m   1617\u001b[0m     \u001b[38;5;28mself\u001b[39m\u001b[38;5;241m.\u001b[39moptions[\u001b[38;5;124m\"\u001b[39m\u001b[38;5;124mhas_index_names\u001b[39m\u001b[38;5;124m\"\u001b[39m] \u001b[38;5;241m=\u001b[39m kwds[\u001b[38;5;124m\"\u001b[39m\u001b[38;5;124mhas_index_names\u001b[39m\u001b[38;5;124m\"\u001b[39m]\n\u001b[1;32m   1619\u001b[0m \u001b[38;5;28mself\u001b[39m\u001b[38;5;241m.\u001b[39mhandles: IOHandles \u001b[38;5;241m|\u001b[39m \u001b[38;5;28;01mNone\u001b[39;00m \u001b[38;5;241m=\u001b[39m \u001b[38;5;28;01mNone\u001b[39;00m\n\u001b[0;32m-> 1620\u001b[0m \u001b[38;5;28mself\u001b[39m\u001b[38;5;241m.\u001b[39m_engine \u001b[38;5;241m=\u001b[39m \u001b[38;5;28;43mself\u001b[39;49m\u001b[38;5;241;43m.\u001b[39;49m\u001b[43m_make_engine\u001b[49m\u001b[43m(\u001b[49m\u001b[43mf\u001b[49m\u001b[43m,\u001b[49m\u001b[43m \u001b[49m\u001b[38;5;28;43mself\u001b[39;49m\u001b[38;5;241;43m.\u001b[39;49m\u001b[43mengine\u001b[49m\u001b[43m)\u001b[49m\n",
            "File \u001b[0;32m/lib/python3.12/site-packages/pandas/io/parsers/readers.py:1880\u001b[0m, in \u001b[0;36mTextFileReader._make_engine\u001b[0;34m(self, f, engine)\u001b[0m\n\u001b[1;32m   1878\u001b[0m     \u001b[38;5;28;01mif\u001b[39;00m \u001b[38;5;124m\"\u001b[39m\u001b[38;5;124mb\u001b[39m\u001b[38;5;124m\"\u001b[39m \u001b[38;5;129;01mnot\u001b[39;00m \u001b[38;5;129;01min\u001b[39;00m mode:\n\u001b[1;32m   1879\u001b[0m         mode \u001b[38;5;241m+\u001b[39m\u001b[38;5;241m=\u001b[39m \u001b[38;5;124m\"\u001b[39m\u001b[38;5;124mb\u001b[39m\u001b[38;5;124m\"\u001b[39m\n\u001b[0;32m-> 1880\u001b[0m \u001b[38;5;28mself\u001b[39m\u001b[38;5;241m.\u001b[39mhandles \u001b[38;5;241m=\u001b[39m \u001b[43mget_handle\u001b[49m\u001b[43m(\u001b[49m\n\u001b[1;32m   1881\u001b[0m \u001b[43m    \u001b[49m\u001b[43mf\u001b[49m\u001b[43m,\u001b[49m\n\u001b[1;32m   1882\u001b[0m \u001b[43m    \u001b[49m\u001b[43mmode\u001b[49m\u001b[43m,\u001b[49m\n\u001b[1;32m   1883\u001b[0m \u001b[43m    \u001b[49m\u001b[43mencoding\u001b[49m\u001b[38;5;241;43m=\u001b[39;49m\u001b[38;5;28;43mself\u001b[39;49m\u001b[38;5;241;43m.\u001b[39;49m\u001b[43moptions\u001b[49m\u001b[38;5;241;43m.\u001b[39;49m\u001b[43mget\u001b[49m\u001b[43m(\u001b[49m\u001b[38;5;124;43m\"\u001b[39;49m\u001b[38;5;124;43mencoding\u001b[39;49m\u001b[38;5;124;43m\"\u001b[39;49m\u001b[43m,\u001b[49m\u001b[43m \u001b[49m\u001b[38;5;28;43;01mNone\u001b[39;49;00m\u001b[43m)\u001b[49m\u001b[43m,\u001b[49m\n\u001b[1;32m   1884\u001b[0m \u001b[43m    \u001b[49m\u001b[43mcompression\u001b[49m\u001b[38;5;241;43m=\u001b[39;49m\u001b[38;5;28;43mself\u001b[39;49m\u001b[38;5;241;43m.\u001b[39;49m\u001b[43moptions\u001b[49m\u001b[38;5;241;43m.\u001b[39;49m\u001b[43mget\u001b[49m\u001b[43m(\u001b[49m\u001b[38;5;124;43m\"\u001b[39;49m\u001b[38;5;124;43mcompression\u001b[39;49m\u001b[38;5;124;43m\"\u001b[39;49m\u001b[43m,\u001b[49m\u001b[43m \u001b[49m\u001b[38;5;28;43;01mNone\u001b[39;49;00m\u001b[43m)\u001b[49m\u001b[43m,\u001b[49m\n\u001b[1;32m   1885\u001b[0m \u001b[43m    \u001b[49m\u001b[43mmemory_map\u001b[49m\u001b[38;5;241;43m=\u001b[39;49m\u001b[38;5;28;43mself\u001b[39;49m\u001b[38;5;241;43m.\u001b[39;49m\u001b[43moptions\u001b[49m\u001b[38;5;241;43m.\u001b[39;49m\u001b[43mget\u001b[49m\u001b[43m(\u001b[49m\u001b[38;5;124;43m\"\u001b[39;49m\u001b[38;5;124;43mmemory_map\u001b[39;49m\u001b[38;5;124;43m\"\u001b[39;49m\u001b[43m,\u001b[49m\u001b[43m \u001b[49m\u001b[38;5;28;43;01mFalse\u001b[39;49;00m\u001b[43m)\u001b[49m\u001b[43m,\u001b[49m\n\u001b[1;32m   1886\u001b[0m \u001b[43m    \u001b[49m\u001b[43mis_text\u001b[49m\u001b[38;5;241;43m=\u001b[39;49m\u001b[43mis_text\u001b[49m\u001b[43m,\u001b[49m\n\u001b[1;32m   1887\u001b[0m \u001b[43m    \u001b[49m\u001b[43merrors\u001b[49m\u001b[38;5;241;43m=\u001b[39;49m\u001b[38;5;28;43mself\u001b[39;49m\u001b[38;5;241;43m.\u001b[39;49m\u001b[43moptions\u001b[49m\u001b[38;5;241;43m.\u001b[39;49m\u001b[43mget\u001b[49m\u001b[43m(\u001b[49m\u001b[38;5;124;43m\"\u001b[39;49m\u001b[38;5;124;43mencoding_errors\u001b[39;49m\u001b[38;5;124;43m\"\u001b[39;49m\u001b[43m,\u001b[49m\u001b[43m \u001b[49m\u001b[38;5;124;43m\"\u001b[39;49m\u001b[38;5;124;43mstrict\u001b[39;49m\u001b[38;5;124;43m\"\u001b[39;49m\u001b[43m)\u001b[49m\u001b[43m,\u001b[49m\n\u001b[1;32m   1888\u001b[0m \u001b[43m    \u001b[49m\u001b[43mstorage_options\u001b[49m\u001b[38;5;241;43m=\u001b[39;49m\u001b[38;5;28;43mself\u001b[39;49m\u001b[38;5;241;43m.\u001b[39;49m\u001b[43moptions\u001b[49m\u001b[38;5;241;43m.\u001b[39;49m\u001b[43mget\u001b[49m\u001b[43m(\u001b[49m\u001b[38;5;124;43m\"\u001b[39;49m\u001b[38;5;124;43mstorage_options\u001b[39;49m\u001b[38;5;124;43m\"\u001b[39;49m\u001b[43m,\u001b[49m\u001b[43m \u001b[49m\u001b[38;5;28;43;01mNone\u001b[39;49;00m\u001b[43m)\u001b[49m\u001b[43m,\u001b[49m\n\u001b[1;32m   1889\u001b[0m \u001b[43m\u001b[49m\u001b[43m)\u001b[49m\n\u001b[1;32m   1890\u001b[0m \u001b[38;5;28;01massert\u001b[39;00m \u001b[38;5;28mself\u001b[39m\u001b[38;5;241m.\u001b[39mhandles \u001b[38;5;129;01mis\u001b[39;00m \u001b[38;5;129;01mnot\u001b[39;00m \u001b[38;5;28;01mNone\u001b[39;00m\n\u001b[1;32m   1891\u001b[0m f \u001b[38;5;241m=\u001b[39m \u001b[38;5;28mself\u001b[39m\u001b[38;5;241m.\u001b[39mhandles\u001b[38;5;241m.\u001b[39mhandle\n",
            "File \u001b[0;32m/lib/python3.12/site-packages/pandas/io/common.py:873\u001b[0m, in \u001b[0;36mget_handle\u001b[0;34m(path_or_buf, mode, encoding, compression, memory_map, is_text, errors, storage_options)\u001b[0m\n\u001b[1;32m    868\u001b[0m \u001b[38;5;28;01melif\u001b[39;00m \u001b[38;5;28misinstance\u001b[39m(handle, \u001b[38;5;28mstr\u001b[39m):\n\u001b[1;32m    869\u001b[0m     \u001b[38;5;66;03m# Check whether the filename is to be opened in binary mode.\u001b[39;00m\n\u001b[1;32m    870\u001b[0m     \u001b[38;5;66;03m# Binary mode does not support 'encoding' and 'newline'.\u001b[39;00m\n\u001b[1;32m    871\u001b[0m     \u001b[38;5;28;01mif\u001b[39;00m ioargs\u001b[38;5;241m.\u001b[39mencoding \u001b[38;5;129;01mand\u001b[39;00m \u001b[38;5;124m\"\u001b[39m\u001b[38;5;124mb\u001b[39m\u001b[38;5;124m\"\u001b[39m \u001b[38;5;129;01mnot\u001b[39;00m \u001b[38;5;129;01min\u001b[39;00m ioargs\u001b[38;5;241m.\u001b[39mmode:\n\u001b[1;32m    872\u001b[0m         \u001b[38;5;66;03m# Encoding\u001b[39;00m\n\u001b[0;32m--> 873\u001b[0m         handle \u001b[38;5;241m=\u001b[39m \u001b[38;5;28;43mopen\u001b[39;49m\u001b[43m(\u001b[49m\n\u001b[1;32m    874\u001b[0m \u001b[43m            \u001b[49m\u001b[43mhandle\u001b[49m\u001b[43m,\u001b[49m\n\u001b[1;32m    875\u001b[0m \u001b[43m            \u001b[49m\u001b[43mioargs\u001b[49m\u001b[38;5;241;43m.\u001b[39;49m\u001b[43mmode\u001b[49m\u001b[43m,\u001b[49m\n\u001b[1;32m    876\u001b[0m \u001b[43m            \u001b[49m\u001b[43mencoding\u001b[49m\u001b[38;5;241;43m=\u001b[39;49m\u001b[43mioargs\u001b[49m\u001b[38;5;241;43m.\u001b[39;49m\u001b[43mencoding\u001b[49m\u001b[43m,\u001b[49m\n\u001b[1;32m    877\u001b[0m \u001b[43m            \u001b[49m\u001b[43merrors\u001b[49m\u001b[38;5;241;43m=\u001b[39;49m\u001b[43merrors\u001b[49m\u001b[43m,\u001b[49m\n\u001b[1;32m    878\u001b[0m \u001b[43m            \u001b[49m\u001b[43mnewline\u001b[49m\u001b[38;5;241;43m=\u001b[39;49m\u001b[38;5;124;43m\"\u001b[39;49m\u001b[38;5;124;43m\"\u001b[39;49m\u001b[43m,\u001b[49m\n\u001b[1;32m    879\u001b[0m \u001b[43m        \u001b[49m\u001b[43m)\u001b[49m\n\u001b[1;32m    880\u001b[0m     \u001b[38;5;28;01melse\u001b[39;00m:\n\u001b[1;32m    881\u001b[0m         \u001b[38;5;66;03m# Binary mode\u001b[39;00m\n\u001b[1;32m    882\u001b[0m         handle \u001b[38;5;241m=\u001b[39m \u001b[38;5;28mopen\u001b[39m(handle, ioargs\u001b[38;5;241m.\u001b[39mmode)\n",
            "\u001b[0;31mFileNotFoundError\u001b[0m: [Errno 44] No such file or directory: '../field_data/microbes.csv'"
          ],
          "output_type": "error"
        }
      ],
      "execution_count": 87
    },
    {
      "id": "88b4b269-7ce2-4b3f-b5bc-c531c7efcc39",
      "cell_type": "code",
      "source": "# Write a subset of your dataframe to a new file\n\nthree_columns = data_americas.T.tail(n=3).T\n\n# help(three_columns.to_csv)\n\nthree_columns.to_csv('processed_data.csv')",
      "metadata": {
        "trusted": true
      },
      "outputs": [],
      "execution_count": 88
    },
    {
      "id": "41d8128a-3d21-41f3-a0b9-5e10eb0ff807",
      "cell_type": "markdown",
      "source": "## Episode 8: Pandas DataFrames\n\nWe will learn more about how to subset pandas dataframes now.\n\n* DataFrame.iloc[..., ...] to select values by their position\n* DataFrame.loc[..., ...] to select values by their row/col label\n* We can use : to perform slicing operations, just like on simple lists\n* We can now also make 'named slices'\n* You can process the slices just like a dataframe",
      "metadata": {}
    },
    {
      "id": "4c576f42-883d-4e48-a709-e5fd5e12db0c",
      "cell_type": "code",
      "source": "import pandas as pd\ndata = pd.read_csv('data/gapminder_gdp_europe.csv', index_col='country')\n\n# Use iloc[] to select by position\nprint(data.iloc[0, 0])",
      "metadata": {
        "trusted": true
      },
      "outputs": [
        {
          "name": "stdout",
          "output_type": "stream",
          "text": "1601.056136\n"
        }
      ],
      "execution_count": 89
    },
    {
      "id": "a1de1304-50fe-4351-8af0-b25de5153f41",
      "cell_type": "code",
      "source": "# Use loc[] to select by name\n\nprint(data.loc[\"Albania\", \"gdpPercap_1952\"])",
      "metadata": {
        "trusted": true
      },
      "outputs": [
        {
          "name": "stdout",
          "output_type": "stream",
          "text": "1601.056136\n"
        }
      ],
      "execution_count": 90
    },
    {
      "id": "3745d022-3247-4215-955f-c8f5152a470f",
      "cell_type": "code",
      "source": "# Use :, or leave out the other selector, to select all columns/rows\nprint(data.loc[\"Albania\", :])\n\n# alternative:\n# print(data.loc[\"Albania\"])",
      "metadata": {
        "trusted": true
      },
      "outputs": [
        {
          "name": "stdout",
          "output_type": "stream",
          "text": "gdpPercap_1952    1601.056136\ngdpPercap_1957    1942.284244\ngdpPercap_1962    2312.888958\ngdpPercap_1967    2760.196931\ngdpPercap_1972    3313.422188\ngdpPercap_1977    3533.003910\ngdpPercap_1982    3630.880722\ngdpPercap_1987    3738.932735\ngdpPercap_1992    2497.437901\ngdpPercap_1997    3193.054604\ngdpPercap_2002    4604.211737\ngdpPercap_2007    5937.029526\nName: Albania, dtype: float64\n"
        }
      ],
      "execution_count": 91
    },
    {
      "id": "2c1206e0-7232-40ea-ae0f-d6a3e51c9a05",
      "cell_type": "code",
      "source": "# print all rows of 1952 data column\n\nprint(data.loc[:,\"gdpPercap_1952\"].head())",
      "metadata": {
        "trusted": true
      },
      "outputs": [
        {
          "name": "stdout",
          "output_type": "stream",
          "text": "country\nAlbania                   1601.056136\nAustria                   6137.076492\nBelgium                   8343.105127\nBosnia and Herzegovina     973.533195\nBulgaria                  2444.286648\nName: gdpPercap_1952, dtype: float64\n"
        }
      ],
      "execution_count": 92
    },
    {
      "id": "31be1be6-b77e-4623-9e77-a551c7fd596a",
      "cell_type": "code",
      "source": "# use the : operator to select multiple columns\n\nprint(data.loc[\"Italy\":\"Poland\", 'gdpPercap_1962':'gdpPercap_1972'])\n# note case sensitivity",
      "metadata": {
        "trusted": true
      },
      "outputs": [
        {
          "name": "stdout",
          "output_type": "stream",
          "text": "             gdpPercap_1962  gdpPercap_1967  gdpPercap_1972\ncountry                                                    \nItaly           8243.582340    10022.401310    12269.273780\nMontenegro      4649.593785     5907.850937     7778.414017\nNetherlands    12790.849560    15363.251360    18794.745670\nNorway         13450.401510    16361.876470    18965.055510\nPoland          5338.752143     6557.152776     8006.506993\n"
        }
      ],
      "execution_count": 93
    },
    {
      "id": "aac79047-cc06-44a4-8770-1709d985f23d",
      "cell_type": "code",
      "source": "# Combine this with mathematical operations such as calculating the maximum.\n\nprint(data.loc['Italy':'Poland', 'gdpPercap_1962':'gdpPercap_1972'].max())",
      "metadata": {
        "trusted": true
      },
      "outputs": [
        {
          "name": "stdout",
          "output_type": "stream",
          "text": "gdpPercap_1962    13450.40151\ngdpPercap_1967    16361.87647\ngdpPercap_1972    18965.05551\ndtype: float64\n"
        }
      ],
      "execution_count": 94
    },
    {
      "id": "04d88976-5f6f-4b77-9b67-f8bdad849ea2",
      "cell_type": "code",
      "source": "# you can save the results in a new variable\n\nsubset = data.loc['Italy':'Poland', 'gdpPercap_1962':'gdpPercap_1972']\nprint('subset of the data\\n', subset)\n\n# which values are larger than 10000?\nprint('Where are values larger than 10000?\\n', subset > 10000)",
      "metadata": {
        "trusted": true
      },
      "outputs": [
        {
          "name": "stdout",
          "output_type": "stream",
          "text": "subset of the data\n              gdpPercap_1962  gdpPercap_1967  gdpPercap_1972\ncountry                                                    \nItaly           8243.582340    10022.401310    12269.273780\nMontenegro      4649.593785     5907.850937     7778.414017\nNetherlands    12790.849560    15363.251360    18794.745670\nNorway         13450.401510    16361.876470    18965.055510\nPoland          5338.752143     6557.152776     8006.506993\nWhere are values larger than 10000?\n              gdpPercap_1962  gdpPercap_1967  gdpPercap_1972\ncountry                                                    \nItaly                 False            True            True\nMontenegro            False           False           False\nNetherlands            True            True            True\nNorway                 True            True            True\nPoland                False           False           False\n"
        }
      ],
      "execution_count": 95
    },
    {
      "id": "ffa06cc8-99ab-4eb4-a640-161d934110be",
      "cell_type": "code",
      "source": "# You can save this True/False matrix to print only a subset of the data, rest NaN\n\nmask = subset > 10000\nprint(subset[mask])",
      "metadata": {
        "trusted": true
      },
      "outputs": [
        {
          "name": "stdout",
          "output_type": "stream",
          "text": "             gdpPercap_1962  gdpPercap_1967  gdpPercap_1972\ncountry                                                    \nItaly                   NaN     10022.40131     12269.27378\nMontenegro              NaN             NaN             NaN\nNetherlands     12790.84956     15363.25136     18794.74567\nNorway          13450.40151     16361.87647     18965.05551\nPoland                  NaN             NaN             NaN\n"
        }
      ],
      "execution_count": 96
    },
    {
      "id": "6728f9da-b306-43fc-ae21-5c6e4fd1de80",
      "cell_type": "markdown",
      "source": "## Group by: split-apply-combine\n\nWe will learn about grouping operations: e.g. calculate things *per country* or *per year*/",
      "metadata": {}
    },
    {
      "id": "b0e29012-8121-41df-8843-cb4a045cec62",
      "cell_type": "code",
      "source": "# We want to calculate a 'wealth score' \n# Wealth score is defined as\n# The proportion of years in which the country appeared in the above average range\n\n# So we first need the datapoints that pass the mean of the gdp's in that year\n# print(data.mean())\n# print(data.T.mean())\n\nmask_higher = data > data.mean()\n# print(mask_higher.head())\n\n# step 1\n# wealth_score = mask_higher.aggregate('sum', axis = 1)\nwealth_score = mask_higher.aggregate('sum', axis = 1) / len(data.columns)\nprint(wealth_score.head())\n\n# The we can use groupby wealthscore\nprint(data.groupby(wealth_score).count())",
      "metadata": {
        "trusted": true
      },
      "outputs": [
        {
          "name": "stdout",
          "output_type": "stream",
          "text": "country\nAlbania                   0.0\nAustria                   1.0\nBelgium                   1.0\nBosnia and Herzegovina    0.0\nBulgaria                  0.0\ndtype: float64\n          gdpPercap_1952  gdpPercap_1957  gdpPercap_1962  gdpPercap_1967  \\\n0.000000              12              12              12              12   \n0.333333               4               4               4               4   \n0.500000               2               2               2               2   \n1.000000              12              12              12              12   \n\n          gdpPercap_1972  gdpPercap_1977  gdpPercap_1982  gdpPercap_1987  \\\n0.000000              12              12              12              12   \n0.333333               4               4               4               4   \n0.500000               2               2               2               2   \n1.000000              12              12              12              12   \n\n          gdpPercap_1992  gdpPercap_1997  gdpPercap_2002  gdpPercap_2007  \n0.000000              12              12              12              12  \n0.333333               4               4               4               4  \n0.500000               2               2               2               2  \n1.000000              12              12              12              12  \n"
        }
      ],
      "execution_count": 97
    },
    {
      "id": "ea607bc2-146f-4612-9d22-d82df29b64a9",
      "cell_type": "code",
      "source": "# Finally, for each group level in the wealth scores table (i.e. 0, 0.333, 0.5, 2) \n# We can e.g. sum their financial contribution accross the years\n# using the group by function\n\nprint(data.groupby(wealth_score).sum())",
      "metadata": {
        "trusted": true
      },
      "outputs": [
        {
          "name": "stdout",
          "output_type": "stream",
          "text": "          gdpPercap_1952  gdpPercap_1957  gdpPercap_1962  gdpPercap_1967  \\\n0.000000    36916.854200    46110.918793    56850.065437    71324.848786   \n0.333333    16790.046878    20942.456800    25744.935321    33567.667670   \n0.500000    11807.544405    14505.000150    18380.449470    21421.846200   \n1.000000   104317.277560   127332.008735   149989.154201   178000.350040   \n\n          gdpPercap_1972  gdpPercap_1977  gdpPercap_1982  gdpPercap_1987  \\\n0.000000    88569.346898   104459.358438   113553.768507   119649.599409   \n0.333333    45277.839976    53860.456750    59679.634020    64436.912960   \n0.500000    25377.727380    29056.145370    31914.712050    35517.678220   \n1.000000   215162.343140   241143.412730   263388.781960   296825.131210   \n\n          gdpPercap_1992  gdpPercap_1997  gdpPercap_2002  gdpPercap_2007  \n0.000000    92380.047256   103772.937598   118590.929863   149577.357928  \n0.333333    67918.093220    80876.051580   102086.795210   122803.729520  \n0.500000    36310.666080    40723.538700    45564.308390    51403.028210  \n1.000000   315238.235970   346930.926170   385109.939210   427850.333420  \n"
        }
      ],
      "execution_count": 98
    },
    {
      "id": "e7afd06a-79b1-4cd8-a944-5bd01406ef5c",
      "cell_type": "markdown",
      "source": "## Go to exercises at https://swcarpentry.github.io/python-novice-gapminder/08-data-frames.html",
      "metadata": {}
    },
    {
      "id": "afad9ecf-7f0b-4550-bb10-5daf5e67cd54",
      "cell_type": "code",
      "source": "# Write an expression to find the Per Capita GDP of Serbia in 2007.\nprint(data.loc[\"Serbia\",\"gdpPercap_2007\"])",
      "metadata": {
        "trusted": true
      },
      "outputs": [
        {
          "name": "stdout",
          "output_type": "stream",
          "text": "9786.534714\n"
        }
      ],
      "execution_count": 99
    },
    {
      "id": "53cca0f9-fcf4-4a61-9026-01b6f8b82fe8",
      "cell_type": "code",
      "source": "# Do these two statement below produce the same output?\n\nprint(data.iloc[0:2, 0:2])\nprint(data.loc['Albania':'Belgium', 'gdpPercap_1952':'gdpPercap_1962'])\n\n# This is not the same: loc is inclusive ('including belgium') while iloc is not ('up until entry 2 which is belgium'), just like lists!\n# This can be seen as weird behaviour",
      "metadata": {
        "trusted": true
      },
      "outputs": [
        {
          "name": "stdout",
          "output_type": "stream",
          "text": "         gdpPercap_1952  gdpPercap_1957\ncountry                                \nAlbania     1601.056136     1942.284244\nAustria     6137.076492     8842.598030\n         gdpPercap_1952  gdpPercap_1957  gdpPercap_1962\ncountry                                                \nAlbania     1601.056136     1942.284244     2312.888958\nAustria     6137.076492     8842.598030    10750.721110\nBelgium     8343.105127     9714.960623    10991.206760\n"
        }
      ],
      "execution_count": 100
    },
    {
      "id": "eabb38fe-8580-4a21-9feb-afda16a31d31",
      "cell_type": "code",
      "source": "# Explain what each line does\n\nfirst = pd.read_csv('data/gapminder_all.csv', index_col = 'country') # read gdp data of the whole world\nsecond = first[first['continent'] == 'Americas'] # subset dataframe by continent americas, first makes a TRUE/FALSE mask\nthird = second.drop('Puerto Rico') # removes one country Puerto Rico: you can 'sanity check' this with print(third.shape)\nfourth = third.drop('continent', axis = 1) # remove continent column, we have to specify the axis here! otherwise it will look for a row as default axis = 0\nfourth.to_csv('filtered_data.csv')\n\n# sanity checks, e.g.\n# print(third.shape) ",
      "metadata": {
        "trusted": true
      },
      "outputs": [],
      "execution_count": 101
    },
    {
      "id": "5927cc7a-465d-4f27-887c-bb891471f244",
      "cell_type": "code",
      "source": "%%capture\n\nprint(data.idxmin())\nprint(data.idxmax())\n\n# useful to get the row name/index instead of the minimum or maximum value",
      "metadata": {
        "trusted": true
      },
      "outputs": [],
      "execution_count": 102
    },
    {
      "id": "01671d8c-15d2-4a5e-9b6a-1416c2db770b",
      "cell_type": "code",
      "source": "first = data.loc[:,'gdpPercap_1982'] # gdp for all countries in 1982\nsecond = data.loc['Denmark',:] # gdp for denmartk for all yeasr\nthird = data.loc[:,'gdpPercap_1985':] # gdp for all countries after 1985\nfourth = data.loc[:,'gdpPercap_2007'] / data.loc[:,'gdpPercap_1952'] # gdp for all countries in 2007\n\n# the fourth one calculates a fold increase compared to the start of the measurement\nprint(fourth.head())\n\n# interesting, let's look up the country that proportionally increased the most! Turns out to be ireland.\nprint(fourth.idxmax())\nprint(fourth.loc[\"Ireland\",])",
      "metadata": {
        "trusted": true
      },
      "outputs": [
        {
          "name": "stdout",
          "output_type": "stream",
          "text": "country\nAlbania                   3.708196\nAustria                   5.886596\nBelgium                   4.038377\nBosnia and Herzegovina    7.648736\nBulgaria                  4.369697\ndtype: float64\nIreland\n7.8068729107352555\n"
        }
      ],
      "execution_count": 103
    },
    {
      "id": "80a41581-3604-4e60-9fc8-a21bd6feacc7",
      "cell_type": "code",
      "source": "## Skip the many ways of access question",
      "metadata": {
        "trusted": true
      },
      "outputs": [],
      "execution_count": 104
    },
    {
      "id": "792cc157-4918-42ca-a152-ac9720e779f6",
      "cell_type": "code",
      "source": "# We have seen that there are many methods associated with dataframes, e.g. data.head()). Use dir to find out all functions\n\n# print(dir(data)) # wowie\n\nprint(data.median()) # you may have found median() , or guessed that the function would be called like that :), or used google/chatgpt to have found this functionality.",
      "metadata": {
        "trusted": true
      },
      "outputs": [
        {
          "name": "stdout",
          "output_type": "stream",
          "text": "gdpPercap_1952     5142.469716\ngdpPercap_1957     6066.721495\ngdpPercap_1962     7515.733737\ngdpPercap_1967     9366.067033\ngdpPercap_1972    12326.379990\ngdpPercap_1977    14225.754515\ngdpPercap_1982    15322.824720\ngdpPercap_1987    16215.485895\ngdpPercap_1992    17550.155945\ngdpPercap_1997    19596.498550\ngdpPercap_2002    23674.863230\ngdpPercap_2007    28054.065790\ndtype: float64\n"
        }
      ],
      "execution_count": 105
    },
    {
      "id": "8e9d5c19-db7c-4e4b-a8ab-7695ea12d155",
      "cell_type": "markdown",
      "source": "## Episode 9: Plotting\n\n* We will now learn plotting with  matplotlib\n* import matplotlib.pyplot as plt (conventional abbreviation)\n* We can plot from raw data in lists but we will obviously also work with our pandas dataframe\n",
      "metadata": {}
    },
    {
      "id": "98adaaf3-6707-4e1e-bcf7-d1e9f99d80b8",
      "cell_type": "code",
      "source": "import matplotlib.pyplot as plt\n\ntime = [0,1,2,3]\ntemperature = [30, 32, 34, 40]\n\nplt.plot(time, temperature)\nplt.xlabel('Time (hours)')\nplt.ylabel('Temperature (Celcius)')\n\nplt.show() # this code is necessary when running python from a script",
      "metadata": {
        "trusted": true
      },
      "outputs": [
        {
          "name": "stderr",
          "output_type": "stream",
          "text": "Matplotlib is building the font cache; this may take a moment.\n"
        },
        {
          "output_type": "display_data",
          "data": {
            "text/plain": "<Figure size 640x480 with 1 Axes>",
            "image/png": "[encoded data removed]"
          },
          "metadata": {}
        }
      ],
      "execution_count": 106
    },
    {
      "id": "3c32cc89-9adc-4ad6-b69b-c58e3a8138d1",
      "cell_type": "code",
      "source": "data = pd.read_csv('data/gapminder_gdp_oceania.csv', index_col = 'country')\n\nyears = data.columns.str.replace('gdpPercap_', '')\n\nprint(years) # inspect what this actually looks like now to verify that it worked. However, they're still characters\n\ndata.columns = years.astype(int) # overwrite the old columns with the new ones, turned into ints.\n\ndata.loc['Australia'].plot() # here we plot in a different way: use plot() as a method of the dataframe",
      "metadata": {
        "trusted": true
      },
      "outputs": [
        {
          "name": "stdout",
          "output_type": "stream",
          "text": "Index(['1952', '1957', '1962', '1967', '1972', '1977', '1982', '1987', '1992',\n       '1997', '2002', '2007'],\n      dtype='object')\n"
        },
        {
          "execution_count": 107,
          "output_type": "execute_result",
          "data": {
            "text/plain": "<Axes: >"
          },
          "metadata": {}
        },
        {
          "output_type": "display_data",
          "data": {
            "text/plain": "<Figure size 640x480 with 1 Axes>",
            "image/png": "[encoded data removed]"
          },
          "metadata": {}
        }
      ],
      "execution_count": 107
    },
    {
      "id": "a5567d95-9db3-42ef-92e1-b451c37038ff",
      "cell_type": "code",
      "source": "data.T.plot() # compare data.plot() with data.T.plot()\nplt.ylabel('GDP per capita')\n",
      "metadata": {
        "trusted": true
      },
      "outputs": [
        {
          "execution_count": 108,
          "output_type": "execute_result",
          "data": {
            "text/plain": "Text(0, 0.5, 'GDP per capita')"
          },
          "metadata": {}
        },
        {
          "output_type": "display_data",
          "data": {
            "text/plain": "<Figure size 640x480 with 1 Axes>",
            "image/png": "[encoded data removed]"
          },
          "metadata": {}
        }
      ],
      "execution_count": 108
    },
    {
      "id": "764492b5-45b6-42aa-82d0-5baa0ffc4b36",
      "cell_type": "code",
      "source": "plt.style.use('ggplot')   # stealing R ggplot style! If you want this style, then just go and work in R... ;)\n\ndata.T.plot(kind = 'bar')\nplt.ylabel('GDP per capita')\n",
      "metadata": {
        "trusted": true
      },
      "outputs": [
        {
          "execution_count": 109,
          "output_type": "execute_result",
          "data": {
            "text/plain": "Text(0, 0.5, 'GDP per capita')"
          },
          "metadata": {}
        },
        {
          "output_type": "display_data",
          "data": {
            "text/plain": "<Figure size 640x480 with 1 Axes>",
            "image/png": "[encoded data removed]"
          },
          "metadata": {}
        }
      ],
      "execution_count": 109
    },
    {
      "id": "a852df61-8104-4c3d-9f37-d690b1cdbf39",
      "cell_type": "code",
      "source": "# we can also work with the matplotlib plot functions directly instead of using the dataframe method df.plot()\n# but then we need to manually extract the data from the pd dataframe\n\nyears = data.columns\ngdp_australia = data.loc[\"Australia\"]\n\nplt.plot(years, gdp_australia, 'g--') # note the little trick to make the line green and dashed",
      "metadata": {
        "trusted": true
      },
      "outputs": [
        {
          "execution_count": 110,
          "output_type": "execute_result",
          "data": {
            "text/plain": "[<matplotlib.lines.Line2D at 0x6c684c8>]"
          },
          "metadata": {}
        },
        {
          "output_type": "display_data",
          "data": {
            "text/plain": "<Figure size 640x480 with 1 Axes>",
            "image/png": "[encoded data removed]"
          },
          "metadata": {}
        }
      ],
      "execution_count": 110
    },
    {
      "id": "a405b3f4-27cd-4d7a-8545-660bab4c47f0",
      "cell_type": "code",
      "source": "# Select two countries\ngdp_australia = data.loc['Australia']\ngdp_nz = data.loc['New Zealand']\n\n# Plot with differently-colored markers.\nplt.plot(years, gdp_australia, 'b--', label='Australia')\nplt.plot(years, gdp_nz, 'g--', label='New Zealand')\n\n# Create legend.\nplt.legend(loc='upper left') # I like the placement of legends, this is very hard to do in R\nplt.xlabel('Year')\nplt.ylabel('GDP per capita ($)')",
      "metadata": {
        "trusted": true
      },
      "outputs": [
        {
          "execution_count": 111,
          "output_type": "execute_result",
          "data": {
            "text/plain": "Text(0, 0.5, 'GDP per capita ($)')"
          },
          "metadata": {}
        },
        {
          "output_type": "display_data",
          "data": {
            "text/plain": "<Figure size 640x480 with 1 Axes>",
            "image/png": "[encoded data removed]"
          },
          "metadata": {}
        }
      ],
      "execution_count": 111
    },
    {
      "id": "1503858f-2895-4f4d-9b22-32f2ff364223",
      "cell_type": "code",
      "source": "plt.scatter(gdp_australia, gdp_nz)",
      "metadata": {
        "trusted": true
      },
      "outputs": [
        {
          "execution_count": 112,
          "output_type": "execute_result",
          "data": {
            "text/plain": "<matplotlib.collections.PathCollection at 0x6d1aeb0>"
          },
          "metadata": {}
        },
        {
          "output_type": "display_data",
          "data": {
            "text/plain": "<Figure size 640x480 with 1 Axes>",
            "image/png": "[encoded data removed]"
          },
          "metadata": {}
        }
      ],
      "execution_count": 112
    },
    {
      "id": "68ecedce-b83d-4d12-bb80-09d3f5ae74fc",
      "cell_type": "code",
      "source": "# alternative way\nplt.style.use('default')\n\ndata.T.plot.scatter(x = 'Australia', y = 'New Zealand')\n\ndata.T.plot.scatter(x = 'Australia', y = 'New Zealand', c=years, cmap = 'viridis') # this one is offscript but nicely shows how another variable can be mapped\n",
      "metadata": {
        "trusted": true
      },
      "outputs": [
        {
          "execution_count": 113,
          "output_type": "execute_result",
          "data": {
            "text/plain": "<Axes: xlabel='Australia', ylabel='New Zealand'>"
          },
          "metadata": {}
        },
        {
          "output_type": "display_data",
          "data": {
            "text/plain": "<Figure size 640x480 with 1 Axes>",
            "image/png": "[encoded data removed]"
          },
          "metadata": {}
        },
        {
          "output_type": "display_data",
          "data": {
            "text/plain": "<Figure size 640x480 with 2 Axes>",
            "image/png": "[encoded data removed]"
          },
          "metadata": {}
        }
      ],
      "execution_count": 113
    },
    {
      "id": "ab0e47c0-2526-4eae-beee-dd82b1f93612",
      "cell_type": "markdown",
      "source": "## Go to exercises at https://swcarpentry.github.io/python-novice-gapminder/09-plotting.html\n",
      "metadata": {}
    },
    {
      "id": "48386789-c657-4be0-a2f3-bbf369587d8b",
      "cell_type": "code",
      "source": "data_europe = pd.read_csv('data/gapminder_gdp_europe.csv', index_col='country')\ndata_europe.min().plot(label='min')\ndata_europe.max().plot(label = 'max')\nplt.legend(loc='best')\nplt.xticks(rotation=90)",
      "metadata": {
        "trusted": true
      },
      "outputs": [
        {
          "execution_count": 115,
          "output_type": "execute_result",
          "data": {
            "text/plain": "(array([-2.,  0.,  2.,  4.,  6.,  8., 10., 12.]),\n [Text(-2.0, 0, 'gdpPercap_2002'),\n  Text(0.0, 0, 'gdpPercap_1952'),\n  Text(2.0, 0, 'gdpPercap_1962'),\n  Text(4.0, 0, 'gdpPercap_1972'),\n  Text(6.0, 0, 'gdpPercap_1982'),\n  Text(8.0, 0, 'gdpPercap_1992'),\n  Text(10.0, 0, 'gdpPercap_2002'),\n  Text(12.0, 0, '')])"
          },
          "metadata": {}
        },
        {
          "output_type": "display_data",
          "data": {
            "text/plain": "<Figure size 640x480 with 1 Axes>",
            "image/png": "[encoded data removed]"
          },
          "metadata": {}
        }
      ],
      "execution_count": 115
    },
    {
      "id": "4e6dadbc-0817-4c71-b55e-3c4efd44ed7b",
      "cell_type": "code",
      "source": "data_asia = pd.read_csv('data/gapminder_gdp_asia.csv', index_col='country')\nprint(data_asia.describe().T) # this is a useful intermediate to show\ndata_asia.describe().T.plot(kind='scatter', x='min', y='max', c  =  years, cmap = 'viridis')",
      "metadata": {
        "trusted": true
      },
      "outputs": [
        {
          "name": "stdout",
          "output_type": "stream",
          "text": "                count          mean           std    min          25%  \\\ngdpPercap_1952   33.0   5195.484004  18634.890865  331.0   749.681655   \ngdpPercap_1957   33.0   5787.732940  19506.515959  350.0   793.577415   \ngdpPercap_1962   33.0   5729.369625  16415.857196  388.0   825.623201   \ngdpPercap_1967   33.0   5971.173374  14062.591362  349.0   836.197138   \ngdpPercap_1972   33.0   8187.468699  19087.502918  357.0  1049.938981   \ngdpPercap_1977   33.0   7791.314020  11815.777923  371.0  1175.921193   \ngdpPercap_1982   33.0   7434.135157   8701.176499  424.0  1443.429832   \ngdpPercap_1987   33.0   7608.226508   8090.262765  385.0  1704.686583   \ngdpPercap_1992   33.0   8639.690248   9727.431088  347.0  1785.402016   \ngdpPercap_1997   33.0   9834.093295  11094.180481  415.0  1902.252100   \ngdpPercap_2002   33.0  10174.090397  11150.719203  611.0  2092.712441   \ngdpPercap_2007   33.0  12473.026870  14154.937343  944.0  2452.210407   \n\n                        50%           75%           max  \ngdpPercap_1952  1206.947913   3035.326002  108382.35290  \ngdpPercap_1957  1547.944844   3290.257643  113523.13290  \ngdpPercap_1962  1649.552153   4187.329802   95458.11176  \ngdpPercap_1967  2029.228142   5906.731805   80894.88326  \ngdpPercap_1972  2571.423014   8597.756202  109347.86700  \ngdpPercap_1977  3195.484582  11210.089480   59265.47714  \ngdpPercap_1982  4106.525293  12954.791010   33693.17525  \ngdpPercap_1987  4106.492315  11643.572680   28118.42998  \ngdpPercap_1992  3726.063507  15215.657900   34932.91959  \ngdpPercap_1997  3645.379572  19702.055810   40300.61996  \ngdpPercap_2002  4090.925331  19233.988180   36023.10540  \ngdpPercap_2007  4471.061906  22316.192870   47306.98978  \n"
        },
        {
          "execution_count": 117,
          "output_type": "execute_result",
          "data": {
            "text/plain": "<Axes: xlabel='min', ylabel='max'>"
          },
          "metadata": {}
        },
        {
          "output_type": "display_data",
          "data": {
            "text/plain": "<Figure size 640x480 with 2 Axes>",
            "image/png": "[encoded data removed]"
          },
          "metadata": {}
        }
      ],
      "execution_count": 117
    },
    {
      "id": "cfee9d26-d012-4b12-9907-743810b17fc0",
      "cell_type": "code",
      "source": "# Skip first correlation exercise\n\n# Second correlation exercise:\n\ndata_all = pd.read_csv('data/gapminder_all.csv', index_col='country')\ndata_all.plot(kind='scatter', x='gdpPercap_2007', y='lifeExp_2007',\n              s=data_all['pop_2007']/1e6) \n\n# kind tells us we will get a scatter plot\n# x and y determine the axis, respectively\n# s determined the size of the dot by the population (divided by some big number)\n\n# it would be interesting to color the dots according to continent?\n# would be easy in R but very complex in matplotlib. Supposedly, seaborn library would provide ggplot like simplicity in python but its beyond the scope of the workshop",
      "metadata": {
        "trusted": true
      },
      "outputs": [
        {
          "execution_count": 119,
          "output_type": "execute_result",
          "data": {
            "text/plain": "<Axes: xlabel='gdpPercap_2007', ylabel='lifeExp_2007'>"
          },
          "metadata": {}
        },
        {
          "output_type": "display_data",
          "data": {
            "text/plain": "<Figure size 640x480 with 1 Axes>",
            "image/png": "[encoded data removed]"
          },
          "metadata": {}
        }
      ],
      "execution_count": 119
    },
    {
      "id": "b5420441-387b-4c0c-be82-7ffe8bc50cf5",
      "cell_type": "code",
      "source": "# Usually you can save figures using plt.savefig('filename.png')\n# But you need one more step to do this when using dataframe methods to plot (like we do here)\n\ndata_all.plot(kind='scatter', x='gdpPercap_2007', y='lifeExp_2007',\n              s=data_all['pop_2007']/1e6) \n\nfig = plt.gcf() # get current figure\nfig.savefig('my_figure.png')",
      "metadata": {
        "trusted": true
      },
      "outputs": [
        {
          "output_type": "display_data",
          "data": {
            "text/plain": "<Figure size 640x480 with 1 Axes>",
            "image/png": "[encoded data removed]"
          },
          "metadata": {}
        }
      ],
      "execution_count": 120
    },
    {
      "id": "a7e6aad4-25d1-4371-99ea-e6d32f02661f",
      "cell_type": "markdown",
      "source": "## Episode 10\n\nOver lunch, reflect over ....",
      "metadata": {}
    },
    {
      "id": "61a3f86d-25fc-4f4b-92d0-8738410a1589",
      "cell_type": "markdown",
      "source": "## Episode 11: lists\n\n* Lists store many values in a single data structure\n* This is useful if you have numerous very items (genes, files, experiments...) for which you want to calculate something\n* Lists are contained within square brackets [] and values are separated by commas\n* For a list, the len() functions shows us the number of entries within the list\n* Just like strings we can use the index of an item to fetch it\n* We can replace single items in a list\n* we can append() items to a list\n* We can remove items from a list",
      "metadata": {}
    },
    {
      "id": "479fc1c5-0221-499a-b74f-6b8b7c06e542",
      "cell_type": "code",
      "source": "pressures = [0.25, 0.27, 0.29, 0.30, 0.18]\nprint('pressures:', pressures)\nprint('length of pressures list', len(pressures))",
      "metadata": {
        "trusted": true
      },
      "outputs": [
        {
          "name": "stdout",
          "output_type": "stream",
          "text": "pressures: [0.25, 0.27, 0.29, 0.3, 0.18]\nlength of pressures list 5\n"
        }
      ],
      "execution_count": 121
    },
    {
      "id": "3c34f4b4-8246-4d65-a865-9f461bd0b910",
      "cell_type": "code",
      "source": "print('first item:', pressures[1])\nprint('fourth item:', pressures[4])\nprint('fifth item', pressures[5]) # error!",
      "metadata": {
        "trusted": true
      },
      "outputs": [
        {
          "name": "stdout",
          "output_type": "stream",
          "text": "first item: 0.27\nfourth item: 0.18\n"
        },
        {
          "ename": "<class 'IndexError'>",
          "evalue": "list index out of range",
          "traceback": [
            "\u001b[0;31m---------------------------------------------------------------------------\u001b[0m",
            "\u001b[0;31mIndexError\u001b[0m                                Traceback (most recent call last)",
            "Cell \u001b[0;32mIn[122], line 3\u001b[0m\n\u001b[1;32m      1\u001b[0m \u001b[38;5;28mprint\u001b[39m(\u001b[38;5;124m'\u001b[39m\u001b[38;5;124mfirst item:\u001b[39m\u001b[38;5;124m'\u001b[39m, pressures[\u001b[38;5;241m1\u001b[39m])\n\u001b[1;32m      2\u001b[0m \u001b[38;5;28mprint\u001b[39m(\u001b[38;5;124m'\u001b[39m\u001b[38;5;124mfourth item:\u001b[39m\u001b[38;5;124m'\u001b[39m, pressures[\u001b[38;5;241m4\u001b[39m])\n\u001b[0;32m----> 3\u001b[0m \u001b[38;5;28mprint\u001b[39m(\u001b[38;5;124m'\u001b[39m\u001b[38;5;124mfifth item\u001b[39m\u001b[38;5;124m'\u001b[39m, \u001b[43mpressures\u001b[49m\u001b[43m[\u001b[49m\u001b[38;5;241;43m5\u001b[39;49m\u001b[43m]\u001b[49m) \u001b[38;5;66;03m# error!\u001b[39;00m\n",
            "\u001b[0;31mIndexError\u001b[0m: list index out of range"
          ],
          "output_type": "error"
        }
      ],
      "execution_count": 122
    },
    {
      "id": "77abbe98-6302-4bbc-b710-f9032186172b",
      "cell_type": "code",
      "source": "print(pressures)\npressures[0] = 0.32\nprint(pressures)",
      "metadata": {
        "trusted": true
      },
      "outputs": [
        {
          "name": "stdout",
          "output_type": "stream",
          "text": "[0.25, 0.27, 0.29, 0.3, 0.18]\n[0.32, 0.27, 0.29, 0.3, 0.18]\n"
        }
      ],
      "execution_count": 123
    },
    {
      "id": "e4fa5f34-267a-4a72-894c-0ea8bf8fc820",
      "cell_type": "code",
      "source": "primes = [2,3,5]\nprint(primes)\nprimes.append(7) # note that .append() is a method of lists\nprint(primes)",
      "metadata": {
        "trusted": true
      },
      "outputs": [
        {
          "name": "stdout",
          "output_type": "stream",
          "text": "[2, 3, 5]\n[2, 3, 5, 7]\n"
        }
      ],
      "execution_count": 124
    },
    {
      "id": "d3fe8158-7e77-49f6-9193-315ec25e9e61",
      "cell_type": "code",
      "source": "# If you want to add lists together you use .extend() instead of .append()\nteen_primes = [11,13,17,19]\nmiddle_aged_primes = [37,41,43,47]\n\nprint('primes starts as:', primes)\nprimes.extend(teen_primes)\nprint('primes is now:', primes)\nprimes.append(middle_aged_primes)\nprint('primes is now:', primes)\n\n# whoa! we now have a list of primes, which includes a another list!\n# lists can contain any types, and they can be mixed. Therefore, lists of lists are indeed possible ",
      "metadata": {
        "trusted": true
      },
      "outputs": [
        {
          "name": "stdout",
          "output_type": "stream",
          "text": "primes starts as: [2, 3, 5, 7]\nprimes is now: [2, 3, 5, 7, 11, 13, 17, 19]\nprimes is now: [2, 3, 5, 7, 11, 13, 17, 19, [37, 41, 43, 47]]\n"
        }
      ],
      "execution_count": 125
    },
    {
      "id": "e4e63474-7542-4936-864a-c396b1e51e29",
      "cell_type": "code",
      "source": "primes = [2,3,5,7,9]\n\nprint('primes looks like:', primes)\ndel primes[4] # Note: del is a remarkable command, it is neither a function nor a method\n\nprint('primes after correction:', primes)",
      "metadata": {
        "trusted": true
      },
      "outputs": [
        {
          "name": "stdout",
          "output_type": "stream",
          "text": "primes looks like: [2, 3, 5, 7, 9]\nprimes after correction: [2, 3, 5, 7]\n"
        }
      ],
      "execution_count": 127
    },
    {
      "id": "f5acd8b3-8229-49a2-8912-2256d8f6518f",
      "cell_type": "markdown",
      "source": "Summarizing some remarkable characteristics of lists\n\n* Empty lists can exist!\n* Lists can contain different types, and combine all of them\n* Although lists are sliced in a similar way as strings, they are different. Lists are **mutable** while character strings are **not mutable**",
      "metadata": {}
    },
    {
      "id": "801bb4fc-38e8-44ea-b513-07d412de58f1",
      "cell_type": "code",
      "source": "empty_list = []\nprint(empty_list) # looks useless, but is very useful as a starting point for collecting values\n\nmixed_list = [1, 'misha', 2, 'martijn']\nprint(mixed_list)\n\nelement = 'carbon'\nprint(element[2])\n\nelement[2] = 'h'",
      "metadata": {
        "trusted": true
      },
      "outputs": [
        {
          "name": "stdout",
          "output_type": "stream",
          "text": "[]\n[1, 'misha', 2, 'martijn']\nr\n"
        },
        {
          "ename": "<class 'TypeError'>",
          "evalue": "'str' object does not support item assignment",
          "traceback": [
            "\u001b[0;31m---------------------------------------------------------------------------\u001b[0m",
            "\u001b[0;31mTypeError\u001b[0m                                 Traceback (most recent call last)",
            "Cell \u001b[0;32mIn[128], line 10\u001b[0m\n\u001b[1;32m      7\u001b[0m element \u001b[38;5;241m=\u001b[39m \u001b[38;5;124m'\u001b[39m\u001b[38;5;124mcarbon\u001b[39m\u001b[38;5;124m'\u001b[39m\n\u001b[1;32m      8\u001b[0m \u001b[38;5;28mprint\u001b[39m(element[\u001b[38;5;241m2\u001b[39m])\n\u001b[0;32m---> 10\u001b[0m \u001b[43melement\u001b[49m\u001b[43m[\u001b[49m\u001b[38;5;241;43m2\u001b[39;49m\u001b[43m]\u001b[49m \u001b[38;5;241m=\u001b[39m \u001b[38;5;124m'\u001b[39m\u001b[38;5;124mh\u001b[39m\u001b[38;5;124m'\u001b[39m\n",
            "\u001b[0;31mTypeError\u001b[0m: 'str' object does not support item assignment"
          ],
          "output_type": "error"
        }
      ],
      "execution_count": 128
    },
    {
      "id": "73b94fa8-4aa2-4f74-94e6-5786d9d38abd",
      "cell_type": "markdown",
      "source": "## Go to exercises at: https://swcarpentry.github.io/python-novice-gapminder/11-lists.html",
      "metadata": {}
    },
    {
      "id": "1490c96c-f779-43d5-b3dd-9e3df891ad79",
      "cell_type": "code",
      "source": "values = []\nvalues.append(1)\nvalues.append(3)\nvalues.append(5)\nprint(values)\nvalues = values[1:3]\nprint(values)",
      "metadata": {
        "trusted": true
      },
      "outputs": [
        {
          "name": "stdout",
          "output_type": "stream",
          "text": "[1, 3, 5]\n[3, 5]\n"
        }
      ],
      "execution_count": 129
    },
    {
      "id": "cc5cb7be-64ad-4f59-97db-b373ecae213c",
      "cell_type": "code",
      "source": "# if start and stop a both non-neg integers, how long is the list values[start:stop]\nvalues_longer = [1,3,5,7,9,11]\n\nprint(values_longer[1:4]) # start-stop elements\nprint(values[1:4])# shorter than expected because the list wasnt long enough\nprint(values[4]) # but this gives a list index out of range error!",
      "metadata": {
        "trusted": true
      },
      "outputs": [
        {
          "name": "stdout",
          "output_type": "stream",
          "text": "[3, 5, 7]\n[5]\n"
        },
        {
          "ename": "<class 'IndexError'>",
          "evalue": "list index out of range",
          "traceback": [
            "\u001b[0;31m---------------------------------------------------------------------------\u001b[0m",
            "\u001b[0;31mIndexError\u001b[0m                                Traceback (most recent call last)",
            "Cell \u001b[0;32mIn[130], line 6\u001b[0m\n\u001b[1;32m      4\u001b[0m \u001b[38;5;28mprint\u001b[39m(values_longer[\u001b[38;5;241m1\u001b[39m:\u001b[38;5;241m4\u001b[39m]) \u001b[38;5;66;03m# start-stop elements\u001b[39;00m\n\u001b[1;32m      5\u001b[0m \u001b[38;5;28mprint\u001b[39m(values[\u001b[38;5;241m1\u001b[39m:\u001b[38;5;241m4\u001b[39m])\u001b[38;5;66;03m# shorter than expected because the list wasnt long enough\u001b[39;00m\n\u001b[0;32m----> 6\u001b[0m \u001b[38;5;28mprint\u001b[39m(\u001b[43mvalues\u001b[49m\u001b[43m[\u001b[49m\u001b[38;5;241;43m4\u001b[39;49m\u001b[43m]\u001b[49m) \u001b[38;5;66;03m# but this gives a list index out of range error!\u001b[39;00m\n",
            "\u001b[0;31mIndexError\u001b[0m: list index out of range"
          ],
          "output_type": "error"
        }
      ],
      "execution_count": 130
    },
    {
      "id": "613ff49b-82fc-420e-b1a6-6f09958e54c9",
      "cell_type": "code",
      "source": "print('string to list:', list('tin')) # string is broken down to a list of individual letters\nprint('list to string:', ''.join(['g','o','l','d'])) # individual letters are joined into a string (separated by nothing '')\nprint('list to separated string:', '-'.join(['a','b']))",
      "metadata": {
        "trusted": true
      },
      "outputs": [
        {
          "name": "stdout",
          "output_type": "stream",
          "text": "string to list: ['t', 'i', 'n']\nlist to string: gold\nlist to separated string: a-b\n"
        }
      ],
      "execution_count": 131
    },
    {
      "id": "bf18460c-006f-4151-a04d-ae97791fd7d1",
      "cell_type": "code",
      "source": "# what does the following program print?\nelement = 'helium'\nprint(element[-1]) # the last letter\n\n# negative index prints from the end of the string\n# in a list of N elements, the most negative index you can safely use is -N\n# remove the last element\nvalues = [1,2,3]\ndel values[-1]\n# display all elements but the last one\nprint(element[:-1])",
      "metadata": {
        "trusted": true
      },
      "outputs": [
        {
          "name": "stdout",
          "output_type": "stream",
          "text": "m\nheliu\n"
        }
      ],
      "execution_count": 132
    },
    {
      "id": "8ba6a8d5-6f4e-45c9-b387-22791a54ec93",
      "cell_type": "code",
      "source": "# stepping through a list\n\nelement = 'fluorine'\nprint(element[::2]) # cool, didn't know this one\nprint(element[::-1]) \n\n# stride determined the step size and direction\n\n# all even entries (starting from the 2nd letter using index = 1)\nprint(element[1::2])",
      "metadata": {
        "trusted": true
      },
      "outputs": [
        {
          "name": "stdout",
          "output_type": "stream",
          "text": "furn\neniroulf\nloie\n"
        }
      ],
      "execution_count": 133
    },
    {
      "id": "c777282b-4222-49c9-8240-25867af29836",
      "cell_type": "code",
      "source": "element = 'lithium'\n\nprint(element[0:20]) # whole string since you can go beyong the end of the string\nprint(element[-1:3]) # nothing because you can't go BEFORE the start of a string",
      "metadata": {
        "trusted": true
      },
      "outputs": [
        {
          "name": "stdout",
          "output_type": "stream",
          "text": "lithium\n\n"
        }
      ],
      "execution_count": 134
    },
    {
      "id": "cd5aca48-a5ec-4749-afbd-b7e15169865d",
      "cell_type": "code",
      "source": "letters = list('gold')\nresult = sorted(letters)\n\nprint(letters, result)\n\n# first we have a list of characters, second is a new sorted list on alphabet",
      "metadata": {
        "trusted": true
      },
      "outputs": [
        {
          "name": "stdout",
          "output_type": "stream",
          "text": "['g', 'o', 'l', 'd'] ['d', 'g', 'l', 'o']\n"
        }
      ],
      "execution_count": 135
    },
    {
      "id": "37e4917b-f947-4bdf-9c8e-d15a828ce548",
      "cell_type": "code",
      "source": "letters = list('gold')\nresult = letters.sort()\n\nprint(letters, result)\n\n# here, letters.sort() sorts the letters in place, and this return nothing to 'result'. Therefore, letters is sorted, and result contains None.",
      "metadata": {
        "trusted": true
      },
      "outputs": [
        {
          "name": "stdout",
          "output_type": "stream",
          "text": "['d', 'g', 'l', 'o'] None\n"
        }
      ],
      "execution_count": 136
    },
    {
      "id": "7ab35131-bf9d-4e69-807b-f1b05823bead",
      "cell_type": "code",
      "source": "old = list('gold')\nnew = old\nnew[0] =  'D'\n\nprint(new, old)\n\n# Huh! both lists have been modified. Because new is just another reference to the same block of data as old",
      "metadata": {
        "trusted": true
      },
      "outputs": [
        {
          "name": "stdout",
          "output_type": "stream",
          "text": "['D', 'o', 'l', 'd'] ['D', 'o', 'l', 'd']\n"
        }
      ],
      "execution_count": 137
    },
    {
      "id": "013a6a3c-9cd9-4d5c-8a08-32178e3062bf",
      "cell_type": "code",
      "source": "old = list('gold')\nnew = old[:]\nnew[0] = 'D'\n\nprint(new, old)\n# by using the 'full slice' [:] an actual new object is created",
      "metadata": {
        "trusted": true
      },
      "outputs": [
        {
          "name": "stdout",
          "output_type": "stream",
          "text": "['D', 'o', 'l', 'd'] ['g', 'o', 'l', 'd']\n"
        }
      ],
      "execution_count": 138
    },
    {
      "id": "fbe5a63d-5450-4715-a42c-1673a801a3b1",
      "cell_type": "markdown",
      "source": "## Episode 12: for loops\n\n* a for loop executes commands for each value in a collection\n* \"for each thing in this group, do these operations\"\n* a for loop consists of a *collection*, a *loop variable*, and a *body*\n* The first line of a for loop must end with a :\n* The body body of a for loop must be *indented*\n* The looping variable can be called anything, but remember to keep it meaningful",
      "metadata": {}
    },
    {
      "id": "5f283e3e-fc31-411d-add4-56806b7a68e9",
      "cell_type": "code",
      "source": "for number in [2,3,4]:\n    print(number)",
      "metadata": {
        "trusted": true
      },
      "outputs": [
        {
          "name": "stdout",
          "output_type": "stream",
          "text": "2\n3\n4\n"
        }
      ],
      "execution_count": 139
    },
    {
      "id": "50b189ec-7349-45d6-a409-1d85a9ebcbdf",
      "cell_type": "code",
      "source": "# equivalent to the following, but much more efficient and scalable!\nprint(2)\nprint(3)\nprint(4)",
      "metadata": {
        "trusted": true
      },
      "outputs": [
        {
          "name": "stdout",
          "output_type": "stream",
          "text": "2\n3\n4\n"
        }
      ],
      "execution_count": 140
    },
    {
      "id": "e9fef36f-8986-4c5d-bcf2-b408eb865c84",
      "cell_type": "code",
      "source": "# indentation matters!\n\nfor number in [2,3,4]:\nprint(number)",
      "metadata": {
        "trusted": true
      },
      "outputs": [
        {
          "ename": "<class 'IndentationError'>",
          "evalue": "expected an indented block after 'for' statement on line 3 (<ipython-input-141-9a460fee3851>, line 4)",
          "traceback": [
            "\u001b[0;36m  Cell \u001b[0;32mIn[141], line 4\u001b[0;36m\u001b[0m\n\u001b[0;31m    print(number)\u001b[0m\n\u001b[0m    ^\u001b[0m\n\u001b[0;31mIndentationError\u001b[0m\u001b[0;31m:\u001b[0m expected an indented block after 'for' statement on line 3\n"
          ],
          "output_type": "error"
        }
      ],
      "execution_count": 141
    },
    {
      "id": "91bb6ed5-85eb-41e8-afa7-538abaa408d2",
      "cell_type": "code",
      "source": "print('Misha')\n    print('Paauw')",
      "metadata": {
        "trusted": true
      },
      "outputs": [
        {
          "ename": "<class 'IndentationError'>",
          "evalue": "unexpected indent (<ipython-input-142-d1f61a6ba7c3>, line 2)",
          "traceback": [
            "\u001b[0;36m  Cell \u001b[0;32mIn[142], line 2\u001b[0;36m\u001b[0m\n\u001b[0;31m    print('Paauw')\u001b[0m\n\u001b[0m    ^\u001b[0m\n\u001b[0;31mIndentationError\u001b[0m\u001b[0;31m:\u001b[0m unexpected indent\n"
          ],
          "output_type": "error"
        }
      ],
      "execution_count": 142
    },
    {
      "id": "693eeac4-4d4a-43fd-a3ba-7e30bdc3fe49",
      "cell_type": "code",
      "source": "for kitten in [2,3,4]:\n    print(kitten)\n\n# this works, but is unclear!",
      "metadata": {
        "trusted": true
      },
      "outputs": [
        {
          "name": "stdout",
          "output_type": "stream",
          "text": "2\n3\n4\n"
        }
      ],
      "execution_count": 143
    },
    {
      "id": "b4b0f56c-6231-4c18-88fe-c0e2a884bcca",
      "cell_type": "code",
      "source": "# the body of a for loop can contain more than one statement or calculation (but keep it simple!)\n\nprimes = [2,3,5]\n\nfor p in primes: \n    squared = p ** 2\n    cubed = p ** 3\n    print(p, squared, cubed)\n\n# note that we replaced the list from the previous example with a variable containing a list!\n# maybe also note that p would be better called prime. often seen: for gene in genes: for organism in organisms:",
      "metadata": {
        "trusted": true
      },
      "outputs": [
        {
          "name": "stdout",
          "output_type": "stream",
          "text": "2 4 8\n3 9 27\n5 25 125\n"
        }
      ],
      "execution_count": 144
    },
    {
      "id": "5143e469-7f1a-43d7-a079-44f5a382c246",
      "cell_type": "code",
      "source": "# use range to iterate over a sequence of numbers without having to make a list explicitly\nfor number in range(0,10):\n    print(number)",
      "metadata": {
        "trusted": true
      },
      "outputs": [
        {
          "name": "stdout",
          "output_type": "stream",
          "text": "0\n1\n2\n3\n4\n5\n6\n7\n8\n9\n"
        }
      ],
      "execution_count": 145
    },
    {
      "id": "680f2f72-494b-4ad1-8cc6-9f98e79f3da1",
      "cell_type": "markdown",
      "source": "Use the **accumulator** pattern to turn many values into one, e.g. make a cumulative sum of items\n\n* first *initialize* the accumulator as 0, or an empty list\n* in the for loop, *update* the accumulator variable",
      "metadata": {}
    },
    {
      "id": "26de63bd-f713-417e-a2fd-9bbee7a3ae89",
      "cell_type": "code",
      "source": "total = 0\n\nfor number in range(10):\n    total = total + (number + 1)\n    print(total) # if you want to see the total grow iteratively\nprint(total)\n",
      "metadata": {
        "trusted": true
      },
      "outputs": [
        {
          "name": "stdout",
          "output_type": "stream",
          "text": "1\n3\n6\n10\n15\n21\n28\n36\n45\n55\n55\n"
        }
      ],
      "execution_count": 146
    },
    {
      "id": "95da736c-4f02-4927-83b4-8a775a29a6f9",
      "cell_type": "markdown",
      "source": "## Go to the exercises at: https://swcarpentry.github.io/python-novice-gapminder/12-for-loops.html",
      "metadata": {}
    },
    {
      "id": "95e12278-43ca-4b31-b4be-862a9b93e215",
      "cell_type": "code",
      "source": "# An indentation error is a syntax error, Python will recognise it and doesn't even start to run the program",
      "metadata": {
        "trusted": true
      },
      "outputs": [],
      "execution_count": 147
    },
    {
      "id": "ceaa8baf-8aab-4c04-b00d-9c91bee33d52",
      "cell_type": "code",
      "source": "total = 0\nfor char in \"tin\":\n    total = total + 1\n\n# char # total\n# t 1\n# i 2\n# n 3",
      "metadata": {
        "trusted": true
      },
      "outputs": [],
      "execution_count": 148
    },
    {
      "id": "b46324b6-1f2d-4244-aca3-140720d2a2c0",
      "cell_type": "code",
      "source": "original = 'tin'\nresult = '' # initialize EMPTY string\n\nfor char in original:\n    result = char + result # accumulate here\n \nprint(result)",
      "metadata": {
        "trusted": true
      },
      "outputs": [
        {
          "name": "stdout",
          "output_type": "stream",
          "text": "nit\n"
        }
      ],
      "execution_count": 149
    },
    {
      "id": "d8efc5be-6605-4a2e-a59a-e9cd77004464",
      "cell_type": "code",
      "source": "# Get the total length of the strings in the list:\n\ntotal = 0\nfor word in ['red','green','blue']:\n    # __ = __ + len(word)\n    total = total + len(word)\nprint(total)",
      "metadata": {
        "trusted": true
      },
      "outputs": [
        {
          "name": "stdout",
          "output_type": "stream",
          "text": "12\n"
        }
      ],
      "execution_count": 150
    },
    {
      "id": "6d9e2e31-81c2-409c-913e-5b48e30b9ff2",
      "cell_type": "code",
      "source": "# Get a list of the word lengths in the list\n\n# lengths =  __\nlengths = []\n\nfor word in ['red', 'green', 'blue']:\n    # lengths.__(__)\n    lengths.append(len(word))\nprint(lengths)",
      "metadata": {
        "trusted": true
      },
      "outputs": [
        {
          "name": "stdout",
          "output_type": "stream",
          "text": "[3, 5, 4]\n"
        }
      ],
      "execution_count": 153
    },
    {
      "id": "747fd5c7-9831-4ef1-baa3-36a9e9f06d8a",
      "cell_type": "code",
      "source": "# concatenate all the words\nwords = ['red', 'green', 'blue']\n\n# result = __\nresult = ''\n\n# for __ in __ :\n    # __\nfor word in words:\n    result = result + word\n\nprint(result)",
      "metadata": {
        "trusted": true
      },
      "outputs": [
        {
          "name": "stdout",
          "output_type": "stream",
          "text": "redgreenblue\n"
        }
      ],
      "execution_count": 154
    },
    {
      "id": "eef49b6d-a5ee-4de2-a6ff-e4870070ce0b",
      "cell_type": "code",
      "source": "# Create an acronym from the list\n\nwords = ['red', 'green', 'blue']\nacronym = ''\n\nfor word in words:\n    letter = word[0]\n    acronym = acronym + letter\n\nprint(acronym.upper())",
      "metadata": {
        "trusted": true
      },
      "outputs": [
        {
          "name": "stdout",
          "output_type": "stream",
          "text": "RGB\n"
        }
      ],
      "execution_count": 155
    },
    {
      "id": "3edb07fe-4946-4ccd-9859-aba29c719e72",
      "cell_type": "markdown",
      "source": "..",
      "metadata": {}
    },
    {
      "id": "ef6c99ed-90bc-4ff4-bb09-249549e31a31",
      "cell_type": "code",
      "source": "# reorder and properly indent\n\ncumulative.append(total)\nfor number in data:\ncumulative = []\ntotal = total + number\ntotal = 0\nprint(cumulative)\ndata = [1,2,2,5]",
      "metadata": {
        "trusted": true
      },
      "outputs": [
        {
          "ename": "<class 'IndentationError'>",
          "evalue": "expected an indented block after 'for' statement on line 4 (<ipython-input-157-9836d4ba08d2>, line 5)",
          "traceback": [
            "\u001b[0;36m  Cell \u001b[0;32mIn[157], line 5\u001b[0;36m\u001b[0m\n\u001b[0;31m    cumulative = []\u001b[0m\n\u001b[0m    ^\u001b[0m\n\u001b[0;31mIndentationError\u001b[0m\u001b[0;31m:\u001b[0m expected an indented block after 'for' statement on line 4\n"
          ],
          "output_type": "error"
        }
      ],
      "execution_count": 157
    },
    {
      "id": "0df24232-bfe7-4d56-aa02-221891ae31ef",
      "cell_type": "code",
      "source": "data = [1,2,2,5]\ncumulative = [] # note that we need two accumulators here!\ntotal = 0\n\n\nfor number in data:\n    total = total + number\n    cumulative.append(total)\n\nprint(cumulative)",
      "metadata": {
        "trusted": true
      },
      "outputs": [
        {
          "name": "stdout",
          "output_type": "stream",
          "text": "[1, 3, 5, 10]\n"
        }
      ],
      "execution_count": 158
    },
    {
      "id": "a7f8384c-ddfd-443b-8f41-eeae66a8a620",
      "cell_type": "markdown",
      "source": "## Episode 13: Conditionals\n\n* use *if* statements to control whether or not a block of code is executed\n* structure is similar to for loop: first line ends with a colon and the body is indented\n* often used in combination with for loops\n* use *else* to execute a block of code when an if condition is not met\n* use *elif* (short for elseif) to specify additional tests",
      "metadata": {}
    },
    {
      "id": "41897705-b6b5-48be-ac46-67fd5d3af87b",
      "cell_type": "code",
      "source": "mass = 3.54\nif mass > 3.0:\n    print(mass, 'is large')\n\nmass = 2.07\nif mass > 3.0:\n    print(mass, 'is large') # is not executed",
      "metadata": {
        "trusted": true
      },
      "outputs": [
        {
          "name": "stdout",
          "output_type": "stream",
          "text": "3.54 is large\n"
        }
      ],
      "execution_count": 159
    },
    {
      "id": "e5ef8c04-8ad4-4581-a78f-5f502a25d15f",
      "cell_type": "code",
      "source": "# nice to use with a for loop\nmasses = [3.5, 2.1, 9.2, 1.9, 1.7]\n\nfor m in masses:\n    if m > 3.0:\n        print(m, 'is large!')",
      "metadata": {
        "trusted": true
      },
      "outputs": [
        {
          "name": "stdout",
          "output_type": "stream",
          "text": "3.5 is large!\n9.2 is large!\n"
        }
      ],
      "execution_count": 160
    },
    {
      "id": "5ca28b3f-d42e-46e5-b9d4-5a832eb0ff1e",
      "cell_type": "code",
      "source": "# if a mass is not large, it's probably.... small!\nmasses = [3.5, 2.1, 9.2, 1.9, 1.7]\n\nfor m in masses:\n    if m > 3.0:\n        print(m, 'is large!')\n    else:\n        print(m, 'is small!')",
      "metadata": {
        "trusted": true
      },
      "outputs": [
        {
          "name": "stdout",
          "output_type": "stream",
          "text": "3.5 is large!\n2.1 is small!\n9.2 is large!\n1.9 is small!\n1.7 is small!\n"
        }
      ],
      "execution_count": 161
    },
    {
      "id": "d4fd42fd-2abc-4466-9c64-e492d9aca215",
      "cell_type": "code",
      "source": "# if a mass is not large, it's probably.... small, or... HUGE\nmasses = [3.5, 2.1, 9.2, 1.9, 1.7]\n\nfor m in masses:\n    if m > 9.0:\n        print(m, 'is HUGE!')\n    elif m > 3.0:\n        print(m, 'is large')\n    else:\n        print(m, 'is small!')",
      "metadata": {
        "trusted": true
      },
      "outputs": [
        {
          "name": "stdout",
          "output_type": "stream",
          "text": "3.5 is large\n2.1 is small!\n9.2 is HUGE!\n1.9 is small!\n1.7 is small!\n"
        }
      ],
      "execution_count": 162
    },
    {
      "id": "e0c29810-f4aa-4181-b8f3-1520cb8e3c08",
      "cell_type": "code",
      "source": "# the order matters!\n# once you're out of an if statement, you're out\n\nmasses = [3.5, 2.1, 9.2, 1.9, 1.7]\n\nfor m in masses:\n    if m > 3.0:\n        print(m, 'is large!')\n    elif m > 9.0:\n        print(m, 'is HUGE')\n    else:\n        print(m, 'is small!')\n\n# see, we never reached the HUGE because 9.0 already satisfied the > 3.0 condition, and therefore stepped out of the if statement.",
      "metadata": {
        "trusted": true
      },
      "outputs": [
        {
          "name": "stdout",
          "output_type": "stream",
          "text": "3.5 is large!\n2.1 is small!\n9.2 is large!\n1.9 is small!\n1.7 is small!\n"
        }
      ],
      "execution_count": 163
    },
    {
      "id": "b3166677-d40c-4adf-b47f-d90f7842e95e",
      "cell_type": "code",
      "source": "# Combining conditionals in a loop allows us to 'evolve' the value of a variable\n\nvelocity = 10.0\n\nfor i in range(5):  # i is often used as a 'looping variable' representing an integer in a range\n    print(i, ':', velocity)\n    if velocity > 20.0:\n        print('moving too fast!')\n        velocity = velocity - 5.0\n    else:\n        print('moving too slow!')\n        velocity = velocity + 10.0\n\nprint('final velocity:', velocity)  ",
      "metadata": {
        "trusted": true
      },
      "outputs": [
        {
          "name": "stdout",
          "output_type": "stream",
          "text": "0 : 10.0\nmoving too slow!\n1 : 20.0\nmoving too slow!\n2 : 30.0\nmoving too fast!\n3 : 25.0\nmoving too fast!\n4 : 20.0\nmoving too slow!\nfinal velocity: 30.0\n"
        }
      ],
      "execution_count": 164
    },
    {
      "id": "55643ffe-4518-4221-ad55-69da067f28c2",
      "cell_type": "code",
      "source": "mass     = [ 3.54,  2.07,  9.22,  1.86,  1.71]\nvelocity = [10.00, 20.00, 30.00, 25.00, 20.00]\n\ni = 0\n\nfor i in range(5):\n    if mass[i] > 5 and velocity[i] > 20:\n        print(\"heavy and fast object!\")\n    elif mass[i] > 2 and mass[i] <= 5 and velocity[i] <= 20:\n        print(\"normal mass and speed\")\n    elif mass[i] <= 2 and velocity[i] <= 20:\n        print(\"slow and light object, ignore it\")\n    else:\n        print(\"object not identified\")    ",
      "metadata": {
        "trusted": true
      },
      "outputs": [
        {
          "name": "stdout",
          "output_type": "stream",
          "text": "normal mass and speed\nnormal mass and speed\nheavy and fast object!\nobject not identified\nslow and light object, ignore it\n"
        }
      ],
      "execution_count": 165
    },
    {
      "id": "4f39b399-5b29-4774-b60d-93f406f5fb1e",
      "cell_type": "markdown",
      "source": "## go to the exercises at: https://swcarpentry.github.io/python-novice-gapminder/13-conditionals.html",
      "metadata": {}
    },
    {
      "id": "b090bff0-01e9-4342-8b2d-44f18a95642c",
      "cell_type": "code",
      "source": "# what does this program print?\n\npressure = 71.9\nif pressure > 50.0:\n    pressure = 25.0\nelif pressure <= 50.0:\n    pressure = 0.0\nprint(pressure)",
      "metadata": {
        "trusted": true
      },
      "outputs": [
        {
          "name": "stdout",
          "output_type": "stream",
          "text": "25.0\n"
        }
      ],
      "execution_count": 166
    },
    {
      "id": "e9b491cc-786e-47f4-bb80-5aacef4a2d6a",
      "cell_type": "code",
      "source": "# make a new list containing 0's (if value is negative) and 1's (if value is positive)\n\noriginal = [-1.5, 0.2, 0.4, 0.0, -1.3, 0.4]\n#result = ____\nresult = []\n\nfor value in original:\n#    if ____:\n    if value < 0:\n        result.append(0)\n    else:\n#        ____\n        result.append(1)\nprint(result)",
      "metadata": {
        "trusted": true
      },
      "outputs": [
        {
          "name": "stdout",
          "output_type": "stream",
          "text": "[0, 1, 1, 1, 0, 1]\n"
        }
      ],
      "execution_count": 167
    },
    {
      "id": "6d8e5f1e-e657-46a8-92ca-62a74176d0d1",
      "cell_type": "code",
      "source": "# Modify this program so that it only processes files with fewer than 50 records.\n\nimport glob\nimport pandas as pd\nfor filename in glob.glob('*.csv'):\n    contents = pd.read_csv(filename)\n    # ___:\n    if len(contents) < 50:\n        print(filename, len(contents))",
      "metadata": {
        "trusted": true
      },
      "outputs": [
        {
          "name": "stdout",
          "output_type": "stream",
          "text": "filtered_data.csv 24\nprocessed_data.csv 25\n"
        }
      ],
      "execution_count": 168
    },
    {
      "id": "b627898d-c98b-460b-8b8c-3461463ae0e5",
      "cell_type": "code",
      "source": "# Modify this program so that it finds the largest and smallest values in the list no matter what the range of values originally is.\n\n#values = [...some test data...]\nvalues = [1,4,8,0,3]\n\nsmallest, largest = None, None  # this is a new concept of setting two variables at once\n\nfor v in values:\n#    if ____:\n    if smallest == None and largest == None:\n        smallest, largest = v, v\n#    ____:\n    else:\n#        smallest = min(____, v)\n        smallest = min(smallest, v)\n#        largest = max(____, v)\n        largest = max(largest, v)\nprint(smallest, largest)",
      "metadata": {
        "trusted": true
      },
      "outputs": [
        {
          "name": "stdout",
          "output_type": "stream",
          "text": "0 8\n"
        }
      ],
      "execution_count": 169
    },
    {
      "id": "022dedff-658c-414b-98e1-e6ba5c63a989",
      "cell_type": "code",
      "source": "# this could have been a much simpler program though\nvalues = [1,4,8,0,3]\nsmallest = min(values)\nlargest = max(values)\n\nprint(smallest, largest)",
      "metadata": {
        "trusted": true
      },
      "outputs": [
        {
          "name": "stdout",
          "output_type": "stream",
          "text": "0 8\n"
        }
      ],
      "execution_count": 170
    },
    {
      "id": "634780c6-dd8c-418d-a627-02e92ccd013f",
      "cell_type": "markdown",
      "source": "## Episode 14: Looping over datasets\n\nAlready seen in one of the last exercises, now in more detail: looping over datasets.\n\n* we will use for loops to process files, given a list of their names\n* we will use the 'glob' library to have python discover the files you have available on your computer/workspace\n* globbing means 'matching a set of files using a pattern'\n* with glob, we will explore '*' wildcards to get the files we want",
      "metadata": {}
    },
    {
      "id": "bbb30dbc-71ae-41b2-a9fc-3824b90768d8",
      "cell_type": "code",
      "source": "import pandas as pd\n\nfor filename in ['data/gapminder_gdp_africa.csv', 'data/gapminder_gdp_asia.csv']:\n    data = pd.read_csv(filename, index_col = 'country')\n    print(filename, data.min())\n\n# this is nice, but typing the filenames was a lot of work, and error prone! could easily make a typo",
      "metadata": {
        "trusted": true
      },
      "outputs": [
        {
          "name": "stdout",
          "output_type": "stream",
          "text": "data/gapminder_gdp_africa.csv gdpPercap_1952    298.846212\ngdpPercap_1957    335.997115\ngdpPercap_1962    355.203227\ngdpPercap_1967    412.977514\ngdpPercap_1972    464.099504\ngdpPercap_1977    502.319733\ngdpPercap_1982    462.211415\ngdpPercap_1987    389.876185\ngdpPercap_1992    410.896824\ngdpPercap_1997    312.188423\ngdpPercap_2002    241.165876\ngdpPercap_2007    277.551859\ndtype: float64\ndata/gapminder_gdp_asia.csv gdpPercap_1952    331.0\ngdpPercap_1957    350.0\ngdpPercap_1962    388.0\ngdpPercap_1967    349.0\ngdpPercap_1972    357.0\ngdpPercap_1977    371.0\ngdpPercap_1982    424.0\ngdpPercap_1987    385.0\ngdpPercap_1992    347.0\ngdpPercap_1997    415.0\ngdpPercap_2002    611.0\ngdpPercap_2007    944.0\ndtype: float64\n"
        }
      ],
      "execution_count": 171
    },
    {
      "id": "07cf1be7-d3da-4761-a488-46703aeb1f4d",
      "cell_type": "code",
      "source": "import glob\n\nprint('all csv files in our data folder:', glob.glob('data/*.csv'))\n\n# now we get a list of filenames to all our .csv files!",
      "metadata": {
        "trusted": true
      },
      "outputs": [
        {
          "name": "stdout",
          "output_type": "stream",
          "text": "all csv files in our data folder: ['data/filtered_data.csv', 'data/gapminder_all.csv', 'data/gapminder_gdp_africa.csv', 'data/gapminder_gdp_americas.csv', 'data/gapminder_gdp_asia.csv', 'data/gapminder_gdp_europe.csv', 'data/gapminder_gdp_oceania.csv']\n"
        }
      ],
      "execution_count": 172
    },
    {
      "id": "5956f139-fa8e-4dcb-8016-49bf9268515c",
      "cell_type": "code",
      "source": "# for the structural biologists among us, let's look for pdb files\n\nprint('all PDB files:', glob.glob('*.pdb'))",
      "metadata": {
        "trusted": true
      },
      "outputs": [
        {
          "name": "stdout",
          "output_type": "stream",
          "text": "all PDB files: []\n"
        }
      ],
      "execution_count": 173
    },
    {
      "id": "b7bfcd9b-20ec-4f9f-a87f-0d57ed51fb0c",
      "cell_type": "code",
      "source": "# let's combine globbing and a for loop\n\nfor filename in glob.glob('data/gapminder_*.csv'):\n    data = pd.read_csv(filename)\n    print(filename, data['gdpPercap_1952'].min())\n\n# note that this only works if files are named and stored systematically and consistently!!",
      "metadata": {
        "trusted": true
      },
      "outputs": [
        {
          "name": "stdout",
          "output_type": "stream",
          "text": "data/gapminder_all.csv 298.8462121\ndata/gapminder_gdp_africa.csv 298.8462121\ndata/gapminder_gdp_americas.csv 1397.717137\ndata/gapminder_gdp_asia.csv 331.0\ndata/gapminder_gdp_europe.csv 973.5331948\ndata/gapminder_gdp_oceania.csv 10039.59564\n"
        }
      ],
      "execution_count": 174
    },
    {
      "id": "c0f9d455-1266-4a18-93cf-1a598b84d91d",
      "cell_type": "code",
      "source": "# How can we make this more specific, i.e. to exlude the total dataset?\n\nfor filename in glob.glob('data/gapminder_gdp*.csv'):\n    data = pd.read_csv(filename)\n    print(filename, data['gdpPercap_1952'].min())",
      "metadata": {
        "trusted": true
      },
      "outputs": [
        {
          "name": "stdout",
          "output_type": "stream",
          "text": "data/gapminder_gdp_africa.csv 298.8462121\ndata/gapminder_gdp_americas.csv 1397.717137\ndata/gapminder_gdp_asia.csv 331.0\ndata/gapminder_gdp_europe.csv 973.5331948\ndata/gapminder_gdp_oceania.csv 10039.59564\n"
        }
      ],
      "execution_count": 175
    },
    {
      "id": "524de75d-85db-4fc3-831b-3429a35976e9",
      "cell_type": "markdown",
      "source": "## Go to exercises at: https://swcarpentry.github.io/python-novice-gapminder/14-looping-data-sets.html",
      "metadata": {}
    },
    {
      "id": "b53d01ad-1b95-4ea7-be2b-abd1a59374e5",
      "cell_type": "markdown",
      "source": "Which of these files is not matched by the expression glob.glob('data/*as*.csv')?\n\n1. data/gapminder_gdp_africa.csv\n2. data/gapminder_gdp_americas.csv\n3. data/gapminder_gdp_asia.csv",
      "metadata": {}
    },
    {
      "id": "951d3e54-d2f1-4b12-8d68-1642a271c677",
      "cell_type": "code",
      "source": "# Modify this program so that it prints the number of records in the file that has the fewest records.\nimport glob\nimport pandas as pd\n\n# fewest = ____\nfewest = float('Inf') # this is a tricky one. We could have initialized at e.g. 30000, but what if you get a bigger dataset later?\n\nfor filename in glob.glob('data/gapminder_gdp*.csv'):\n#    dataframe = pd.____(filename)\n    dataframe = pd.read_csv(filename)\n#    fewest = min(____, dataframe.shape[0])\n    fewest = min(fewest, dataframe.shape[0])\nprint('smallest file has', fewest, 'records')",
      "metadata": {
        "trusted": true
      },
      "outputs": [
        {
          "name": "stdout",
          "output_type": "stream",
          "text": "smallest file has 2 records\n"
        }
      ],
      "execution_count": 176
    },
    {
      "id": "1772e984-7c9d-489c-9389-1ec222873195",
      "cell_type": "code",
      "source": "# Write a program that reads in the regional data sets,\n# and plots the average GDP per capita for each region over time in a single chart\n\nimport glob\nimport pandas as pd\nimport matplotlib.pyplot as plt\n\nfor filename in glob.glob('data/gapminder_gdp_*.csv'):\n    dataframe = pd.read_csv(filename)\n\n    region = filename.split('_')[-1][:-4] # explain those slicings a bit by doing it in steps\n    # print(region) # uncomment to debug \n    dataframe.mean(numeric_only = True).plot(label = region)\n\nplt.legend()\nplt.show()\n    ",
      "metadata": {
        "trusted": true
      },
      "outputs": [
        {
          "output_type": "display_data",
          "data": {
            "text/plain": "<Figure size 640x480 with 1 Axes>",
            "image/png": "[encoded data removed]"
          },
          "metadata": {}
        }
      ],
      "execution_count": 177
    },
    {
      "id": "ee740455-b6c5-4e00-bc1b-e33b243a2192",
      "cell_type": "code",
      "source": "# we pulled apart the filename with some slicing steps to get the continent\n# there's an easier way\n\nfrom pathlib import Path\n\np = Path(\"data/gapminder_gdp_africa.csv\")\nprint(p.parent)\nprint(p.stem)\nprint(p.suffix)",
      "metadata": {
        "trusted": true
      },
      "outputs": [
        {
          "name": "stdout",
          "output_type": "stream",
          "text": "data\ngapminder_gdp_africa\n.csv\n"
        }
      ],
      "execution_count": 178
    },
    {
      "id": "e839f357-7cdb-4e12-8546-cd0ad974bdb3",
      "cell_type": "markdown",
      "source": "## Episode 15: afternoon coffee\n\nReflect over....",
      "metadata": {}
    },
    {
      "id": "97ad55da-c4cf-4f4e-ba37-a151c107b073",
      "cell_type": "markdown",
      "source": "## Episode 16: Writing Functions\n\n* Functions break programs down into chunks that are easy to understand\n* This encapsulates complexity into a single thing, allowing us to build complicated programs that are still readable\n* Enables reuse of code: write once, use many times\n* Define a function using *def* with a name, parameters, and a block of code",
      "metadata": {}
    },
    {
      "id": "0cec2203-fe50-4698-a971-275a3dcfd108",
      "cell_type": "code",
      "source": "def print_greeting():\n    print('Hello!')\n    print('The weather is nice today!')\n\n# Running this doesn't print anything, it just defined the function",
      "metadata": {
        "trusted": true
      },
      "outputs": [],
      "execution_count": 179
    },
    {
      "id": "5c0d2166-b530-4c33-9b8d-30a48c150123",
      "cell_type": "code",
      "source": "# call the function to run the contents\nprint_greeting()",
      "metadata": {
        "trusted": true
      },
      "outputs": [
        {
          "name": "stdout",
          "output_type": "stream",
          "text": "Hello!\nThe weather is nice today!\n"
        }
      ],
      "execution_count": 180
    },
    {
      "id": "7cef2f73-1b95-492a-a4c2-fbe3c03fe3f2",
      "cell_type": "code",
      "source": "# the greeting function didn't have any arguments\n# let's make a function with arguments\n\ndef print_date(year, month, day):\n    joined = str(year) + '/' + str(month) + '/' + str(day)\n    print(joined)\n\nprint_date(1992, 4, 16)",
      "metadata": {
        "trusted": true
      },
      "outputs": [
        {
          "name": "stdout",
          "output_type": "stream",
          "text": "1992/4/16\n"
        }
      ],
      "execution_count": 181
    },
    {
      "id": "a82ca40f-29b3-45a9-8242-dad0b628121b",
      "cell_type": "code",
      "source": "# Just like all other functions, we can also refer to the arguments by name\n\nprint_date(month = 5, day = 19, year = 1992)",
      "metadata": {
        "trusted": true
      },
      "outputs": [
        {
          "name": "stdout",
          "output_type": "stream",
          "text": "1992/5/19\n"
        }
      ],
      "execution_count": 182
    },
    {
      "id": "02992d1e-2ed8-439a-8a3b-54d67b7bde0a",
      "cell_type": "markdown",
      "source": "So far, these functions just print something. Instead they can also *return* a value",
      "metadata": {}
    },
    {
      "id": "114d395f-cd6c-43d7-afb1-1d41d655e26e",
      "cell_type": "code",
      "source": "def average(values):\n    if len(values) == 0:\n        return None\n    return sum(values) / len(values)\n\ndata = [1,2,3,4]\n\nav = average(data)\nprint('average:', av)\n\nprint(average([]))",
      "metadata": {
        "trusted": true
      },
      "outputs": [
        {
          "name": "stdout",
          "output_type": "stream",
          "text": "average: 2.5\nNone\n"
        }
      ],
      "execution_count": 183
    },
    {
      "id": "2adf63a5-8e8f-443d-82ec-20b6458caa35",
      "cell_type": "markdown",
      "source": "## Go to the exercises at: https://swcarpentry.github.io/python-novice-gapminder/16-writing-functions.html",
      "metadata": {}
    },
    {
      "id": "ae1f899b-6abd-466b-9292-4f121e953ba3",
      "cell_type": "code",
      "source": "# identify all errors in following code\n\ndef another_function\n  print(\"Syntax errors are annoying.\")\n   print(\"But at least python tells us about them!\")\n  print(\"So they are usually not too hard to fix.\")\n\n# there is no () after function name\n# there is no : after function name\n# it is not properly indented\n",
      "metadata": {
        "trusted": true
      },
      "outputs": [
        {
          "ename": "<class 'SyntaxError'>",
          "evalue": "expected '(' (<ipython-input-184-e2c9782bd1a2>, line 3)",
          "traceback": [
            "\u001b[0;36m  Cell \u001b[0;32mIn[184], line 3\u001b[0;36m\u001b[0m\n\u001b[0;31m    def another_function\u001b[0m\n\u001b[0m                        ^\u001b[0m\n\u001b[0;31mSyntaxError\u001b[0m\u001b[0;31m:\u001b[0m expected '('\n"
          ],
          "output_type": "error"
        }
      ],
      "execution_count": 184
    },
    {
      "id": "89deca0f-f486-4bbf-8264-8361c0c7f70b",
      "cell_type": "code",
      "source": "# What does the following program print?\n\ndef report(pressure):\n    print('pressure is', pressure)\n\nprint('calling', report, 22.5)\n\n# calling <function report at 0x8ee1d80> 22.5\n# parenthesis missing for function call, we now get the physicall memory address of the function object",
      "metadata": {
        "trusted": true
      },
      "outputs": [
        {
          "name": "stdout",
          "output_type": "stream",
          "text": "calling <function report at 0x79c2670> 22.5\n"
        }
      ],
      "execution_count": 185
    },
    {
      "id": "498d27be-b4af-4665-83f2-b22f577f35db",
      "cell_type": "code",
      "source": "# What's wrong in this example\n\nresult = print_time(11, 37, 59)\n\ndef print_time(hour, minute, second):\n   time_string = str(hour) + ':' + str(minute) + ':' + str(second)\n   print(time_string)\n\n# function called before it's defined!\n\nresult = print_time(11, 37, 59)\nprint('result of call is:', result)\n\n# will result in None because the function doesn't explicitly return the answer",
      "metadata": {
        "trusted": true
      },
      "outputs": [],
      "execution_count": null
    },
    {
      "id": "5737579d-89bf-4cc0-a567-04bbcf6fd25b",
      "cell_type": "code",
      "source": "# Fill in the blanks to create a function that takes a single filename as an argument,\n# loads the data in the file named by the argument, and returns the minimum value in that data.\n\nimport pandas as pd\n\n#def min_in_data(____):\n#    data = ____\n#    return ____\n\ndef min_in_data(filename):\n    data = pd.read_csv(filename)\n    return data.min()\n    ",
      "metadata": {
        "trusted": true
      },
      "outputs": [],
      "execution_count": 177
    },
    {
      "id": "788c6e72-cab0-4b7d-a81f-9394da1f55fa",
      "cell_type": "code",
      "source": "# Calling by name\n\n# 1. 2003/03/01\n# 2. in pd.read_csv(filename, index_col = 'country'\n# 3. It's useful because it's clear to readers of the code, and safe because it protects against accidental mixing up arguments",
      "metadata": {
        "trusted": true
      },
      "outputs": [],
      "execution_count": null
    },
    {
      "id": "3397494e-83c3-42db-9103-e2804e8dbb6a",
      "cell_type": "code",
      "source": "import random\nfor i in range(10):\n\n    # simulating the mass of a chicken egg\n    # the (random) mass will be 70 +/- 20 grams\n    mass = 70 + 20.0 * (2.0 * random.random() - 1.0)\n\n    print(mass)\n\n    # egg sizing machinery prints a label\n    if mass >= 85:\n        print(\"jumbo\")\n    elif mass >= 70:\n        print(\"large\")\n    elif mass < 70 and mass >= 55:\n        print(\"medium\")\n    else:\n        print(\"small\")\n\n# refactor the if statement into a function get_egg_label()",
      "metadata": {
        "trusted": true
      },
      "outputs": [
        {
          "name": "stdout",
          "output_type": "stream",
          "text": "88.12647797083017\njumbo\n57.06823457265068\nmedium\n60.7260753529929\nmedium\n56.463185918360494\nmedium\n62.098638628101604\nmedium\n76.80022540784033\nlarge\n75.56492232044234\nlarge\n76.84293009124626\nlarge\n77.16737801109456\nlarge\n57.54103724073962\nmedium\n"
        }
      ],
      "execution_count": 178
    },
    {
      "id": "fd8ed7e6-be3a-47b3-b265-a1fab5719458",
      "cell_type": "code",
      "source": "import random\n\ndef get_egg_label(mass):\n    egg_label = 'unlabelled'\n    if mass >= 85:\n        egg_label = \"jumbo\"\n    elif mass >= 70:\n         egg_label = \"large\"\n    elif mass < 70 and mass >= 55:\n         egg_label = \"medium\"\n    else:\n         egg_label = \"small\"\n    return egg_label\n\nfor i in range(10):\n\n    # simulating the mass of a chicken egg\n    # the (random) mass will be 70 +/- 20 grams\n    mass = 70 + 20.0 * (2.0 * random.random() - 1.0)\n\n    print(mass, get_egg_label(mass))\n\n\n# I won't show the dirty/spoiled egg solution, boring\n    ",
      "metadata": {
        "trusted": true
      },
      "outputs": [
        {
          "name": "stdout",
          "output_type": "stream",
          "text": "82.15055804449891 large\n71.06590350588604 large\n65.12629586329886 medium\n59.3035530791185 medium\n53.74900902543208 small\n85.18718568735119 jumbo\n83.80989270661121 large\n69.89440056988718 medium\n62.105902399626686 medium\n55.04427224763018 medium\n"
        }
      ],
      "execution_count": 180
    },
    {
      "id": "67ccf98f-aab2-4dac-b16f-57abe51194dc",
      "cell_type": "code",
      "source": "### TODO three more exercises",
      "metadata": {
        "trusted": true
      },
      "outputs": [],
      "execution_count": null
    },
    {
      "id": "44a031f6-852a-4508-8d7a-a137c906185d",
      "cell_type": "code",
      "source": "",
      "metadata": {
        "trusted": true
      },
      "outputs": [],
      "execution_count": null
    }
  ]
}