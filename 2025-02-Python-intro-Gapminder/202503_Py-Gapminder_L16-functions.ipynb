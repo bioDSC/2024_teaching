{
 "cells": [
  {
   "cell_type": "markdown",
   "metadata": {},
   "source": [
    "## Presenter notes with Carpentries Python Gapminder training\n",
    "*Martijn Wehrens, m.wehrens@uva.nl, 2025-03-04*"
   ]
  },
  {
   "cell_type": "markdown",
   "metadata": {},
   "source": [
    "# Lesson 16, functions"
   ]
  },
  {
   "cell_type": "code",
   "execution_count": null,
   "metadata": {},
   "outputs": [],
   "source": [
    "# human working memory limited\n",
    "\n",
    "# understand larger concepts\n",
    "    # requires understanding & combining pieces\n",
    "    \n",
    "# functions\n",
    "    # encapsulate complexity\n",
    "        # treat them as 1 thing\n",
    "        \n",
    "    # enables re-using code\n",
    "        # MW: very useful!\n",
    "        # MW: \"modular coding\"\n",
    "    \n",
    "    \n"
   ]
  },
  {
   "cell_type": "code",
   "execution_count": null,
   "metadata": {},
   "outputs": [],
   "source": [
    "# How to define function\n",
    "\n",
    "# Again, textual (syntax) rules to follow:\n",
    "    # keyword \"def\"\n",
    "    # function name same rules var    \n",
    "    # ()\n",
    "    # colon \":\"\n",
    "    \n",
    "    # with the () can be parameter naemes\n",
    "        # discussed later\n",
    "    \n",
    "    # indented block code \n",
    "    \n",
    "def print_greeting():\n",
    "    print('Hello!')\n",
    "    print('The weather is nice today.')\n",
    "    print('Right?')\n",
    "    \n",
    "    \n",
    "# defining the function doesn't run it    \n",
    "    # function definition is \"put into\" the name (\"print_greeting\" in this case)\n",
    "        # similar to variable\n",
    "\n"
   ]
  },
  {
   "cell_type": "code",
   "execution_count": null,
   "metadata": {},
   "outputs": [
    {
     "name": "stdout",
     "output_type": "stream",
     "text": [
      "Hello!\n",
      "The weather is nice today.\n",
      "Right?\n"
     ]
    }
   ],
   "source": [
    "# \"Call\" the function to execute\n",
    "    # as we've seen many times other functions\n",
    "        # but we've created this one ourselves\n",
    "\n",
    "print_greeting()"
   ]
  },
  {
   "cell_type": "code",
   "execution_count": 6,
   "metadata": {},
   "outputs": [],
   "source": [
    "# you make function for a task\n",
    "    # typically they take input and output\n",
    "\n",
    "# input parameters can be defined in definition\n",
    "    # will exist DURING function execution\n",
    "    # Given value when calling fn\n",
    "    \n",
    "    # can leave names out in fn call\n",
    "        # will assume it's in order\n",
    "\n",
    "\n",
    "def print_date(year, month, day):\n",
    "    joined = str(year) + '/' + str(month) + '/' + str(day)\n",
    "    print(joined)\n",
    "\n"
   ]
  },
  {
   "cell_type": "code",
   "execution_count": null,
   "metadata": {},
   "outputs": [
    {
     "name": "stdout",
     "output_type": "stream",
     "text": [
      "1871/3/19\n",
      "1871/3/19\n"
     ]
    }
   ],
   "source": [
    "print_date(1871, 3, 19)\n",
    "print_date(month=3, day=19, year=1871)\n",
    "\n",
    "# metaphor\n",
    "    # within () = ingredients\n",
    "    # function body = recipe"
   ]
  },
  {
   "cell_type": "code",
   "execution_count": null,
   "metadata": {},
   "outputs": [],
   "source": [
    "# we covered input\n",
    "    # output not only via print()\n",
    "    # return ..\n",
    "        # return can occur everywhere in function\n",
    "        # but function will stop and output the given values\n",
    "    \n",
    "def average(values):\n",
    "    if len(values) == 0:\n",
    "        return None\n",
    "    return sum(values) / len(values)\n",
    "\n"
   ]
  },
  {
   "cell_type": "code",
   "execution_count": null,
   "metadata": {},
   "outputs": [],
   "source": [
    "a = average([1, 3, 4])\n",
    "print('average of actual values:', a)\n",
    "\n",
    "print('average of empty list:', average([]))"
   ]
  },
  {
   "cell_type": "code",
   "execution_count": 9,
   "metadata": {},
   "outputs": [
    {
     "name": "stdout",
     "output_type": "stream",
     "text": [
      "1871/3/19\n",
      "result of call is: None\n"
     ]
    }
   ],
   "source": [
    "# Function always returns something\n",
    "    # no return --> returns \"None\"\n",
    "\n",
    "result = print_date(1871, 3, 19)\n",
    "print('result of call is:', result)\n"
   ]
  },
  {
   "cell_type": "markdown",
   "metadata": {},
   "source": [
    "# Exercises\n",
    "\n",
    "# Identifying Syntax Errors\n",
    "\n",
    "Read the code below and try to identify what the errors are without running it.\n",
    "Run the code and read the error message. Is it a SyntaxError or an IndentationError?\n",
    "Fix the error.\n",
    "\n",
    "```\n",
    "def another_function\n",
    "  print(\"Syntax errors are annoying.\")\n",
    "   print(\"But at least python tells us about them!\")\n",
    "  print(\"So they are usually not too hard to fix.\")\n",
    "```\n",
    "\n",
    "### What does the following program print?\n",
    "\n",
    "```python\n",
    "def report(pressure):\n",
    "    print('pressure is', pressure)\n",
    "\n",
    "print('calling', report, 22.5)\n",
    "```\n",
    "\n",
    "### Order of Operations\n",
    "\n",
    "What’s wrong in this example?\n",
    "\n",
    "```python\n",
    "result = print_time(11, 37, 59)\n",
    "\n",
    "def print_time(hour, minute, second):\n",
    "   time_string = str(hour) + ':' + str(minute) + ':' + str(second)\n",
    "   print(time_string)\n",
    "```\n",
    "\n",
    "After fixing the problem above, explain why running this example code:\n",
    "\n",
    "```PYTHON\n",
    "result = print_time(11, 37, 59)\n",
    "print('result of call is:', result)\n",
    "```\n",
    "\n",
    "gives this output:\n",
    "\n",
    "```\n",
    "11:37:59\n",
    "result of call is: None\n",
    "```\n",
    "\n",
    "Why is the result of the call None?\n",
    "\n",
    "### Encapsulation\n",
    "\n",
    "Fill in the blanks to create a function that takes a single filename as an argument, loads the data in the file named by the argument, and returns the minimum value in that data.\n",
    "\n",
    "```python\n",
    "import pandas as pd\n",
    "\n",
    "def min_in_data(____):\n",
    "    data = ____\n",
    "    return ____\n",
    "```\n",
    "\n",
    "### Find the First\n",
    "\n",
    "Fill in the blanks to create a function that takes a list of numbers as an argument and returns the first negative value in the list. What does your function do if the list is empty? What if the list has no negative numbers?\n",
    "\n",
    "```python\n",
    "def first_negative(values):\n",
    "    for v in ____:\n",
    "        if ____:\n",
    "            return ____\n",
    "```\n",
    "\n",
    "### Calling by Name\n",
    "Earlier we saw this function:\n",
    "\n",
    "```python\n",
    "def print_date(year, month, day):\n",
    "    joined = str(year) + '/' + str(month) + '/' + str(day)\n",
    "    print(joined)\n",
    "```\n",
    "\n",
    "We saw that we can call the function using named arguments, like this:\n",
    "```python\n",
    "print_date(day=1, month=2, year=2003)\n",
    "```\n",
    "\n",
    "- What does `print_date(day=1, month=2, year=2003)` print?\n",
    "- When have you seen a function call like this before?\n",
    "- When and why is it useful to call functions this way?\n",
    "\n",
    "# Omitted exercises\n",
    "\n",
    "More exercises were quite detailed; not sure there's time.\n",
    "\n",
    "For fast participants, continue with exercises at:\n",
    "https://swcarpentry.github.io/python-novice-gapminder/instructor/16-writing-functions.html\n",
    "\n",
    "(See: \"Encapsulation of an If/Print Block\".)"
   ]
  },
  {
   "cell_type": "markdown",
   "metadata": {},
   "source": [
    "# Additional exercises for fast participants\n",
    "\n",
    "- Continue with exercises at:\n",
    "https://swcarpentry.github.io/python-novice-gapminder/instructor/16-writing-functions.html\n",
    "\n",
    "- function returning primes\n",
    "- square root\n",
    "    - use breaks\n",
    "    - use while"
   ]
  },
  {
   "cell_type": "markdown",
   "metadata": {},
   "source": [
    "# Selection solutions\n",
    "\n",
    "### Calling by Name\n",
    "\n",
    "- We saw examples of using named arguments when working with the pandas library. For example, when reading in a dataset using data = pd.read_csv('data/gapminder_gdp_europe.csv', index_col='country'), the last argument index_col is a named argument.\n",
    "- Using named arguments can make code more readable since one can see from the function call what name the different arguments have inside the function. It can also reduce the chances of passing arguments in the wrong order, since by using named arguments the order doesn’t matter."
   ]
  }
 ],
 "metadata": {
  "kernelspec": {
   "display_name": "2025_IMG",
   "language": "python",
   "name": "python3"
  },
  "language_info": {
   "codemirror_mode": {
    "name": "ipython",
    "version": 3
   },
   "file_extension": ".py",
   "mimetype": "text/x-python",
   "name": "python",
   "nbconvert_exporter": "python",
   "pygments_lexer": "ipython3",
   "version": "3.12.8"
  }
 },
 "nbformat": 4,
 "nbformat_minor": 2
}
