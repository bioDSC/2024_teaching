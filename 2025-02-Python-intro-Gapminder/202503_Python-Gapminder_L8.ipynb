{
 "cells": [
  {
   "cell_type": "markdown",
   "metadata": {},
   "source": [
    "## Presenter notes with Carpentries Python Gapminder training\n",
    "*Martijn Wehrens, m.wehrens@uva.nl, 2025-03-04*"
   ]
  },
  {
   "cell_type": "markdown",
   "metadata": {},
   "source": [
    "## Lesson 8, Pandas dataframes"
   ]
  },
  {
   "cell_type": "code",
   "execution_count": null,
   "metadata": {},
   "outputs": [
    {
     "name": "stdout",
     "output_type": "stream",
     "text": [
      "1601.056136\n"
     ]
    }
   ],
   "source": [
    "# Pandas dataframe\n",
    "    # Collection of \"series\"   \n",
    "        # one series is one column\n",
    "        # on which you can perform operations\n",
    "    # Built on \"numpy\", \n",
    "        # a library for working with arrays and mathematical operations\n",
    "        # series very similar to numpy.array\n",
    "    # Advantages\n",
    "        # Access to individual records\n",
    "        # Convenient ways combining information multiple dataframes\n",
    "        \n",
    "# how to access dataframe\n",
    "\n",
    "import pandas as pd\n",
    "\n",
    "# data = pd.read_csv('../data/gapminder_gdp_europe.csv', index_col='country')\n",
    "data = pd.read_csv('/Users/m.wehrens/Data_UVA/2024_teaching/2025-03-gapminder/data/gapminder_gdp_europe.csv', \\\n",
    "    index_col='country')\n",
    "\n",
    "# print(data.head())\n",
    "\n",
    "# TWO METHODS TO ACCESS DATA\n",
    "    # iloc\n",
    "    # loc\n",
    "\n",
    "# \"iloc\" method\n",
    "# numerical indexing of rows and columns\n",
    "    # remember, it's a 2D table\n",
    "    # indexing similar as accessing chars in string\n",
    "\n",
    "print(data.iloc[0, 0])\n",
    "\n",
    "# \"loc\" method\n",
    "# acess entries by their label\n",
    "\n",
    "# Other synthax\n",
    "    # \":\" means all columns, or all rows\n",
    "    \n",
    "print(data.loc[\"Albania\", :])\n",
    "\n",
    "         \n",
    "        "
   ]
  },
  {
   "cell_type": "code",
   "execution_count": null,
   "metadata": {},
   "outputs": [],
   "source": []
  }
 ],
 "metadata": {
  "kernelspec": {
   "display_name": "2025_IMG",
   "language": "python",
   "name": "python3"
  },
  "language_info": {
   "codemirror_mode": {
    "name": "ipython",
    "version": 3
   },
   "file_extension": ".py",
   "mimetype": "text/x-python",
   "name": "python",
   "nbconvert_exporter": "python",
   "pygments_lexer": "ipython3",
   "version": "3.12.8"
  }
 },
 "nbformat": 4,
 "nbformat_minor": 2
}
